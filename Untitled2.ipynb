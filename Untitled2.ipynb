{
  "nbformat": 4,
  "nbformat_minor": 0,
  "metadata": {
    "colab": {
      "provenance": [],
      "authorship_tag": "ABX9TyPCbov/UOwNR1AuZXT0MavH",
      "include_colab_link": true
    },
    "kernelspec": {
      "name": "python3",
      "display_name": "Python 3"
    },
    "language_info": {
      "name": "python"
    }
  },
  "cells": [
    {
      "cell_type": "markdown",
      "metadata": {
        "id": "view-in-github",
        "colab_type": "text"
      },
      "source": [
        "<a href=\"https://colab.research.google.com/github/RudySeo/DongKwonSeo/blob/main/Untitled2.ipynb\" target=\"_parent\"><img src=\"https://colab.research.google.com/assets/colab-badge.svg\" alt=\"Open In Colab\"/></a>"
      ]
    },
    {
      "cell_type": "code",
      "execution_count": 1,
      "metadata": {
        "colab": {
          "base_uri": "https://localhost:8080/"
        },
        "collapsed": true,
        "id": "HHXAcwbJ_H2q",
        "outputId": "6be523ef-4dc5-4ef7-d6a2-37979f9e5773"
      },
      "outputs": [
        {
          "output_type": "stream",
          "name": "stdout",
          "text": [
            "Requirement already satisfied: langchain in /usr/local/lib/python3.11/dist-packages (0.3.21)\n",
            "Requirement already satisfied: langchain-core<1.0.0,>=0.3.45 in /usr/local/lib/python3.11/dist-packages (from langchain) (0.3.46)\n",
            "Requirement already satisfied: langchain-text-splitters<1.0.0,>=0.3.7 in /usr/local/lib/python3.11/dist-packages (from langchain) (0.3.7)\n",
            "Requirement already satisfied: langsmith<0.4,>=0.1.17 in /usr/local/lib/python3.11/dist-packages (from langchain) (0.3.18)\n",
            "Requirement already satisfied: pydantic<3.0.0,>=2.7.4 in /usr/local/lib/python3.11/dist-packages (from langchain) (2.10.6)\n",
            "Requirement already satisfied: SQLAlchemy<3,>=1.4 in /usr/local/lib/python3.11/dist-packages (from langchain) (2.0.39)\n",
            "Requirement already satisfied: requests<3,>=2 in /usr/local/lib/python3.11/dist-packages (from langchain) (2.32.3)\n",
            "Requirement already satisfied: PyYAML>=5.3 in /usr/local/lib/python3.11/dist-packages (from langchain) (6.0.2)\n",
            "Requirement already satisfied: tenacity!=8.4.0,<10.0.0,>=8.1.0 in /usr/local/lib/python3.11/dist-packages (from langchain-core<1.0.0,>=0.3.45->langchain) (9.0.0)\n",
            "Requirement already satisfied: jsonpatch<2.0,>=1.33 in /usr/local/lib/python3.11/dist-packages (from langchain-core<1.0.0,>=0.3.45->langchain) (1.33)\n",
            "Requirement already satisfied: packaging<25,>=23.2 in /usr/local/lib/python3.11/dist-packages (from langchain-core<1.0.0,>=0.3.45->langchain) (24.2)\n",
            "Requirement already satisfied: typing-extensions>=4.7 in /usr/local/lib/python3.11/dist-packages (from langchain-core<1.0.0,>=0.3.45->langchain) (4.12.2)\n",
            "Requirement already satisfied: httpx<1,>=0.23.0 in /usr/local/lib/python3.11/dist-packages (from langsmith<0.4,>=0.1.17->langchain) (0.28.1)\n",
            "Requirement already satisfied: orjson<4.0.0,>=3.9.14 in /usr/local/lib/python3.11/dist-packages (from langsmith<0.4,>=0.1.17->langchain) (3.10.15)\n",
            "Requirement already satisfied: requests-toolbelt<2.0.0,>=1.0.0 in /usr/local/lib/python3.11/dist-packages (from langsmith<0.4,>=0.1.17->langchain) (1.0.0)\n",
            "Requirement already satisfied: zstandard<0.24.0,>=0.23.0 in /usr/local/lib/python3.11/dist-packages (from langsmith<0.4,>=0.1.17->langchain) (0.23.0)\n",
            "Requirement already satisfied: annotated-types>=0.6.0 in /usr/local/lib/python3.11/dist-packages (from pydantic<3.0.0,>=2.7.4->langchain) (0.7.0)\n",
            "Requirement already satisfied: pydantic-core==2.27.2 in /usr/local/lib/python3.11/dist-packages (from pydantic<3.0.0,>=2.7.4->langchain) (2.27.2)\n",
            "Requirement already satisfied: charset-normalizer<4,>=2 in /usr/local/lib/python3.11/dist-packages (from requests<3,>=2->langchain) (3.4.1)\n",
            "Requirement already satisfied: idna<4,>=2.5 in /usr/local/lib/python3.11/dist-packages (from requests<3,>=2->langchain) (3.10)\n",
            "Requirement already satisfied: urllib3<3,>=1.21.1 in /usr/local/lib/python3.11/dist-packages (from requests<3,>=2->langchain) (2.3.0)\n",
            "Requirement already satisfied: certifi>=2017.4.17 in /usr/local/lib/python3.11/dist-packages (from requests<3,>=2->langchain) (2025.1.31)\n",
            "Requirement already satisfied: greenlet!=0.4.17 in /usr/local/lib/python3.11/dist-packages (from SQLAlchemy<3,>=1.4->langchain) (3.1.1)\n",
            "Requirement already satisfied: anyio in /usr/local/lib/python3.11/dist-packages (from httpx<1,>=0.23.0->langsmith<0.4,>=0.1.17->langchain) (4.9.0)\n",
            "Requirement already satisfied: httpcore==1.* in /usr/local/lib/python3.11/dist-packages (from httpx<1,>=0.23.0->langsmith<0.4,>=0.1.17->langchain) (1.0.7)\n",
            "Requirement already satisfied: h11<0.15,>=0.13 in /usr/local/lib/python3.11/dist-packages (from httpcore==1.*->httpx<1,>=0.23.0->langsmith<0.4,>=0.1.17->langchain) (0.14.0)\n",
            "Requirement already satisfied: jsonpointer>=1.9 in /usr/local/lib/python3.11/dist-packages (from jsonpatch<2.0,>=1.33->langchain-core<1.0.0,>=0.3.45->langchain) (3.0.0)\n",
            "Requirement already satisfied: sniffio>=1.1 in /usr/local/lib/python3.11/dist-packages (from anyio->httpx<1,>=0.23.0->langsmith<0.4,>=0.1.17->langchain) (1.3.1)\n"
          ]
        }
      ],
      "source": [
        "!pip install langchain"
      ]
    },
    {
      "cell_type": "code",
      "source": [
        "!pip install langchain-openai"
      ],
      "metadata": {
        "colab": {
          "base_uri": "https://localhost:8080/"
        },
        "collapsed": true,
        "id": "APc1c47-A67d",
        "outputId": "3ebbcecd-ecb5-4bc9-9980-81be6cec38b0"
      },
      "execution_count": 7,
      "outputs": [
        {
          "output_type": "stream",
          "name": "stdout",
          "text": [
            "Collecting langchain-openai\n",
            "  Downloading langchain_openai-0.3.10-py3-none-any.whl.metadata (2.3 kB)\n",
            "Collecting langchain-core<1.0.0,>=0.3.48 (from langchain-openai)\n",
            "  Downloading langchain_core-0.3.48-py3-none-any.whl.metadata (5.9 kB)\n",
            "Collecting openai<2.0.0,>=1.68.2 (from langchain-openai)\n",
            "  Downloading openai-1.68.2-py3-none-any.whl.metadata (25 kB)\n",
            "Collecting tiktoken<1,>=0.7 (from langchain-openai)\n",
            "  Downloading tiktoken-0.9.0-cp311-cp311-manylinux_2_17_x86_64.manylinux2014_x86_64.whl.metadata (6.7 kB)\n",
            "Requirement already satisfied: langsmith<0.4,>=0.1.125 in /usr/local/lib/python3.11/dist-packages (from langchain-core<1.0.0,>=0.3.48->langchain-openai) (0.3.18)\n",
            "Requirement already satisfied: tenacity!=8.4.0,<10.0.0,>=8.1.0 in /usr/local/lib/python3.11/dist-packages (from langchain-core<1.0.0,>=0.3.48->langchain-openai) (9.0.0)\n",
            "Requirement already satisfied: jsonpatch<2.0,>=1.33 in /usr/local/lib/python3.11/dist-packages (from langchain-core<1.0.0,>=0.3.48->langchain-openai) (1.33)\n",
            "Requirement already satisfied: PyYAML>=5.3 in /usr/local/lib/python3.11/dist-packages (from langchain-core<1.0.0,>=0.3.48->langchain-openai) (6.0.2)\n",
            "Requirement already satisfied: packaging<25,>=23.2 in /usr/local/lib/python3.11/dist-packages (from langchain-core<1.0.0,>=0.3.48->langchain-openai) (24.2)\n",
            "Requirement already satisfied: typing-extensions>=4.7 in /usr/local/lib/python3.11/dist-packages (from langchain-core<1.0.0,>=0.3.48->langchain-openai) (4.12.2)\n",
            "Requirement already satisfied: pydantic<3.0.0,>=2.5.2 in /usr/local/lib/python3.11/dist-packages (from langchain-core<1.0.0,>=0.3.48->langchain-openai) (2.10.6)\n",
            "Requirement already satisfied: anyio<5,>=3.5.0 in /usr/local/lib/python3.11/dist-packages (from openai<2.0.0,>=1.68.2->langchain-openai) (4.9.0)\n",
            "Requirement already satisfied: distro<2,>=1.7.0 in /usr/local/lib/python3.11/dist-packages (from openai<2.0.0,>=1.68.2->langchain-openai) (1.9.0)\n",
            "Requirement already satisfied: httpx<1,>=0.23.0 in /usr/local/lib/python3.11/dist-packages (from openai<2.0.0,>=1.68.2->langchain-openai) (0.28.1)\n",
            "Requirement already satisfied: jiter<1,>=0.4.0 in /usr/local/lib/python3.11/dist-packages (from openai<2.0.0,>=1.68.2->langchain-openai) (0.9.0)\n",
            "Requirement already satisfied: sniffio in /usr/local/lib/python3.11/dist-packages (from openai<2.0.0,>=1.68.2->langchain-openai) (1.3.1)\n",
            "Requirement already satisfied: tqdm>4 in /usr/local/lib/python3.11/dist-packages (from openai<2.0.0,>=1.68.2->langchain-openai) (4.67.1)\n",
            "Requirement already satisfied: regex>=2022.1.18 in /usr/local/lib/python3.11/dist-packages (from tiktoken<1,>=0.7->langchain-openai) (2024.11.6)\n",
            "Requirement already satisfied: requests>=2.26.0 in /usr/local/lib/python3.11/dist-packages (from tiktoken<1,>=0.7->langchain-openai) (2.32.3)\n",
            "Requirement already satisfied: idna>=2.8 in /usr/local/lib/python3.11/dist-packages (from anyio<5,>=3.5.0->openai<2.0.0,>=1.68.2->langchain-openai) (3.10)\n",
            "Requirement already satisfied: certifi in /usr/local/lib/python3.11/dist-packages (from httpx<1,>=0.23.0->openai<2.0.0,>=1.68.2->langchain-openai) (2025.1.31)\n",
            "Requirement already satisfied: httpcore==1.* in /usr/local/lib/python3.11/dist-packages (from httpx<1,>=0.23.0->openai<2.0.0,>=1.68.2->langchain-openai) (1.0.7)\n",
            "Requirement already satisfied: h11<0.15,>=0.13 in /usr/local/lib/python3.11/dist-packages (from httpcore==1.*->httpx<1,>=0.23.0->openai<2.0.0,>=1.68.2->langchain-openai) (0.14.0)\n",
            "Requirement already satisfied: jsonpointer>=1.9 in /usr/local/lib/python3.11/dist-packages (from jsonpatch<2.0,>=1.33->langchain-core<1.0.0,>=0.3.48->langchain-openai) (3.0.0)\n",
            "Requirement already satisfied: orjson<4.0.0,>=3.9.14 in /usr/local/lib/python3.11/dist-packages (from langsmith<0.4,>=0.1.125->langchain-core<1.0.0,>=0.3.48->langchain-openai) (3.10.15)\n",
            "Requirement already satisfied: requests-toolbelt<2.0.0,>=1.0.0 in /usr/local/lib/python3.11/dist-packages (from langsmith<0.4,>=0.1.125->langchain-core<1.0.0,>=0.3.48->langchain-openai) (1.0.0)\n",
            "Requirement already satisfied: zstandard<0.24.0,>=0.23.0 in /usr/local/lib/python3.11/dist-packages (from langsmith<0.4,>=0.1.125->langchain-core<1.0.0,>=0.3.48->langchain-openai) (0.23.0)\n",
            "Requirement already satisfied: annotated-types>=0.6.0 in /usr/local/lib/python3.11/dist-packages (from pydantic<3.0.0,>=2.5.2->langchain-core<1.0.0,>=0.3.48->langchain-openai) (0.7.0)\n",
            "Requirement already satisfied: pydantic-core==2.27.2 in /usr/local/lib/python3.11/dist-packages (from pydantic<3.0.0,>=2.5.2->langchain-core<1.0.0,>=0.3.48->langchain-openai) (2.27.2)\n",
            "Requirement already satisfied: charset-normalizer<4,>=2 in /usr/local/lib/python3.11/dist-packages (from requests>=2.26.0->tiktoken<1,>=0.7->langchain-openai) (3.4.1)\n",
            "Requirement already satisfied: urllib3<3,>=1.21.1 in /usr/local/lib/python3.11/dist-packages (from requests>=2.26.0->tiktoken<1,>=0.7->langchain-openai) (2.3.0)\n",
            "Downloading langchain_openai-0.3.10-py3-none-any.whl (61 kB)\n",
            "\u001b[2K   \u001b[90m━━━━━━━━━━━━━━━━━━━━━━━━━━━━━━━━━━━━━━━━\u001b[0m \u001b[32m61.2/61.2 kB\u001b[0m \u001b[31m2.4 MB/s\u001b[0m eta \u001b[36m0:00:00\u001b[0m\n",
            "\u001b[?25hDownloading langchain_core-0.3.48-py3-none-any.whl (418 kB)\n",
            "\u001b[2K   \u001b[90m━━━━━━━━━━━━━━━━━━━━━━━━━━━━━━━━━━━━━━━━\u001b[0m \u001b[32m418.7/418.7 kB\u001b[0m \u001b[31m11.4 MB/s\u001b[0m eta \u001b[36m0:00:00\u001b[0m\n",
            "\u001b[?25hDownloading openai-1.68.2-py3-none-any.whl (606 kB)\n",
            "\u001b[2K   \u001b[90m━━━━━━━━━━━━━━━━━━━━━━━━━━━━━━━━━━━━━━━━\u001b[0m \u001b[32m606.1/606.1 kB\u001b[0m \u001b[31m23.9 MB/s\u001b[0m eta \u001b[36m0:00:00\u001b[0m\n",
            "\u001b[?25hDownloading tiktoken-0.9.0-cp311-cp311-manylinux_2_17_x86_64.manylinux2014_x86_64.whl (1.2 MB)\n",
            "\u001b[2K   \u001b[90m━━━━━━━━━━━━━━━━━━━━━━━━━━━━━━━━━━━━━━━━\u001b[0m \u001b[32m1.2/1.2 MB\u001b[0m \u001b[31m39.3 MB/s\u001b[0m eta \u001b[36m0:00:00\u001b[0m\n",
            "\u001b[?25hInstalling collected packages: tiktoken, openai, langchain-core, langchain-openai\n",
            "  Attempting uninstall: openai\n",
            "    Found existing installation: openai 1.66.5\n",
            "    Uninstalling openai-1.66.5:\n",
            "      Successfully uninstalled openai-1.66.5\n",
            "  Attempting uninstall: langchain-core\n",
            "    Found existing installation: langchain-core 0.3.46\n",
            "    Uninstalling langchain-core-0.3.46:\n",
            "      Successfully uninstalled langchain-core-0.3.46\n",
            "Successfully installed langchain-core-0.3.48 langchain-openai-0.3.10 openai-1.68.2 tiktoken-0.9.0\n"
          ]
        }
      ]
    },
    {
      "cell_type": "code",
      "source": [
        "!pip install langchain-community"
      ],
      "metadata": {
        "colab": {
          "base_uri": "https://localhost:8080/"
        },
        "collapsed": true,
        "id": "bpnKOo-4AEkt",
        "outputId": "a7a9d91f-9399-4a6e-cee9-110e9486184e"
      },
      "execution_count": 2,
      "outputs": [
        {
          "output_type": "stream",
          "name": "stdout",
          "text": [
            "Collecting langchain-community\n",
            "  Downloading langchain_community-0.3.20-py3-none-any.whl.metadata (2.4 kB)\n",
            "Requirement already satisfied: langchain-core<1.0.0,>=0.3.45 in /usr/local/lib/python3.11/dist-packages (from langchain-community) (0.3.46)\n",
            "Requirement already satisfied: langchain<1.0.0,>=0.3.21 in /usr/local/lib/python3.11/dist-packages (from langchain-community) (0.3.21)\n",
            "Requirement already satisfied: SQLAlchemy<3,>=1.4 in /usr/local/lib/python3.11/dist-packages (from langchain-community) (2.0.39)\n",
            "Requirement already satisfied: requests<3,>=2 in /usr/local/lib/python3.11/dist-packages (from langchain-community) (2.32.3)\n",
            "Requirement already satisfied: PyYAML>=5.3 in /usr/local/lib/python3.11/dist-packages (from langchain-community) (6.0.2)\n",
            "Requirement already satisfied: aiohttp<4.0.0,>=3.8.3 in /usr/local/lib/python3.11/dist-packages (from langchain-community) (3.11.14)\n",
            "Requirement already satisfied: tenacity!=8.4.0,<10,>=8.1.0 in /usr/local/lib/python3.11/dist-packages (from langchain-community) (9.0.0)\n",
            "Collecting dataclasses-json<0.7,>=0.5.7 (from langchain-community)\n",
            "  Downloading dataclasses_json-0.6.7-py3-none-any.whl.metadata (25 kB)\n",
            "Collecting pydantic-settings<3.0.0,>=2.4.0 (from langchain-community)\n",
            "  Downloading pydantic_settings-2.8.1-py3-none-any.whl.metadata (3.5 kB)\n",
            "Requirement already satisfied: langsmith<0.4,>=0.1.125 in /usr/local/lib/python3.11/dist-packages (from langchain-community) (0.3.18)\n",
            "Collecting httpx-sse<1.0.0,>=0.4.0 (from langchain-community)\n",
            "  Downloading httpx_sse-0.4.0-py3-none-any.whl.metadata (9.0 kB)\n",
            "Requirement already satisfied: numpy<3,>=1.26.2 in /usr/local/lib/python3.11/dist-packages (from langchain-community) (2.0.2)\n",
            "Requirement already satisfied: aiohappyeyeballs>=2.3.0 in /usr/local/lib/python3.11/dist-packages (from aiohttp<4.0.0,>=3.8.3->langchain-community) (2.6.1)\n",
            "Requirement already satisfied: aiosignal>=1.1.2 in /usr/local/lib/python3.11/dist-packages (from aiohttp<4.0.0,>=3.8.3->langchain-community) (1.3.2)\n",
            "Requirement already satisfied: attrs>=17.3.0 in /usr/local/lib/python3.11/dist-packages (from aiohttp<4.0.0,>=3.8.3->langchain-community) (25.3.0)\n",
            "Requirement already satisfied: frozenlist>=1.1.1 in /usr/local/lib/python3.11/dist-packages (from aiohttp<4.0.0,>=3.8.3->langchain-community) (1.5.0)\n",
            "Requirement already satisfied: multidict<7.0,>=4.5 in /usr/local/lib/python3.11/dist-packages (from aiohttp<4.0.0,>=3.8.3->langchain-community) (6.2.0)\n",
            "Requirement already satisfied: propcache>=0.2.0 in /usr/local/lib/python3.11/dist-packages (from aiohttp<4.0.0,>=3.8.3->langchain-community) (0.3.0)\n",
            "Requirement already satisfied: yarl<2.0,>=1.17.0 in /usr/local/lib/python3.11/dist-packages (from aiohttp<4.0.0,>=3.8.3->langchain-community) (1.18.3)\n",
            "Collecting marshmallow<4.0.0,>=3.18.0 (from dataclasses-json<0.7,>=0.5.7->langchain-community)\n",
            "  Downloading marshmallow-3.26.1-py3-none-any.whl.metadata (7.3 kB)\n",
            "Collecting typing-inspect<1,>=0.4.0 (from dataclasses-json<0.7,>=0.5.7->langchain-community)\n",
            "  Downloading typing_inspect-0.9.0-py3-none-any.whl.metadata (1.5 kB)\n",
            "Requirement already satisfied: langchain-text-splitters<1.0.0,>=0.3.7 in /usr/local/lib/python3.11/dist-packages (from langchain<1.0.0,>=0.3.21->langchain-community) (0.3.7)\n",
            "Requirement already satisfied: pydantic<3.0.0,>=2.7.4 in /usr/local/lib/python3.11/dist-packages (from langchain<1.0.0,>=0.3.21->langchain-community) (2.10.6)\n",
            "Requirement already satisfied: jsonpatch<2.0,>=1.33 in /usr/local/lib/python3.11/dist-packages (from langchain-core<1.0.0,>=0.3.45->langchain-community) (1.33)\n",
            "Requirement already satisfied: packaging<25,>=23.2 in /usr/local/lib/python3.11/dist-packages (from langchain-core<1.0.0,>=0.3.45->langchain-community) (24.2)\n",
            "Requirement already satisfied: typing-extensions>=4.7 in /usr/local/lib/python3.11/dist-packages (from langchain-core<1.0.0,>=0.3.45->langchain-community) (4.12.2)\n",
            "Requirement already satisfied: httpx<1,>=0.23.0 in /usr/local/lib/python3.11/dist-packages (from langsmith<0.4,>=0.1.125->langchain-community) (0.28.1)\n",
            "Requirement already satisfied: orjson<4.0.0,>=3.9.14 in /usr/local/lib/python3.11/dist-packages (from langsmith<0.4,>=0.1.125->langchain-community) (3.10.15)\n",
            "Requirement already satisfied: requests-toolbelt<2.0.0,>=1.0.0 in /usr/local/lib/python3.11/dist-packages (from langsmith<0.4,>=0.1.125->langchain-community) (1.0.0)\n",
            "Requirement already satisfied: zstandard<0.24.0,>=0.23.0 in /usr/local/lib/python3.11/dist-packages (from langsmith<0.4,>=0.1.125->langchain-community) (0.23.0)\n",
            "Collecting python-dotenv>=0.21.0 (from pydantic-settings<3.0.0,>=2.4.0->langchain-community)\n",
            "  Downloading python_dotenv-1.0.1-py3-none-any.whl.metadata (23 kB)\n",
            "Requirement already satisfied: charset-normalizer<4,>=2 in /usr/local/lib/python3.11/dist-packages (from requests<3,>=2->langchain-community) (3.4.1)\n",
            "Requirement already satisfied: idna<4,>=2.5 in /usr/local/lib/python3.11/dist-packages (from requests<3,>=2->langchain-community) (3.10)\n",
            "Requirement already satisfied: urllib3<3,>=1.21.1 in /usr/local/lib/python3.11/dist-packages (from requests<3,>=2->langchain-community) (2.3.0)\n",
            "Requirement already satisfied: certifi>=2017.4.17 in /usr/local/lib/python3.11/dist-packages (from requests<3,>=2->langchain-community) (2025.1.31)\n",
            "Requirement already satisfied: greenlet!=0.4.17 in /usr/local/lib/python3.11/dist-packages (from SQLAlchemy<3,>=1.4->langchain-community) (3.1.1)\n",
            "Requirement already satisfied: anyio in /usr/local/lib/python3.11/dist-packages (from httpx<1,>=0.23.0->langsmith<0.4,>=0.1.125->langchain-community) (4.9.0)\n",
            "Requirement already satisfied: httpcore==1.* in /usr/local/lib/python3.11/dist-packages (from httpx<1,>=0.23.0->langsmith<0.4,>=0.1.125->langchain-community) (1.0.7)\n",
            "Requirement already satisfied: h11<0.15,>=0.13 in /usr/local/lib/python3.11/dist-packages (from httpcore==1.*->httpx<1,>=0.23.0->langsmith<0.4,>=0.1.125->langchain-community) (0.14.0)\n",
            "Requirement already satisfied: jsonpointer>=1.9 in /usr/local/lib/python3.11/dist-packages (from jsonpatch<2.0,>=1.33->langchain-core<1.0.0,>=0.3.45->langchain-community) (3.0.0)\n",
            "Requirement already satisfied: annotated-types>=0.6.0 in /usr/local/lib/python3.11/dist-packages (from pydantic<3.0.0,>=2.7.4->langchain<1.0.0,>=0.3.21->langchain-community) (0.7.0)\n",
            "Requirement already satisfied: pydantic-core==2.27.2 in /usr/local/lib/python3.11/dist-packages (from pydantic<3.0.0,>=2.7.4->langchain<1.0.0,>=0.3.21->langchain-community) (2.27.2)\n",
            "Collecting mypy-extensions>=0.3.0 (from typing-inspect<1,>=0.4.0->dataclasses-json<0.7,>=0.5.7->langchain-community)\n",
            "  Downloading mypy_extensions-1.0.0-py3-none-any.whl.metadata (1.1 kB)\n",
            "Requirement already satisfied: sniffio>=1.1 in /usr/local/lib/python3.11/dist-packages (from anyio->httpx<1,>=0.23.0->langsmith<0.4,>=0.1.125->langchain-community) (1.3.1)\n",
            "Downloading langchain_community-0.3.20-py3-none-any.whl (2.5 MB)\n",
            "\u001b[2K   \u001b[90m━━━━━━━━━━━━━━━━━━━━━━━━━━━━━━━━━━━━━━━━\u001b[0m \u001b[32m2.5/2.5 MB\u001b[0m \u001b[31m27.5 MB/s\u001b[0m eta \u001b[36m0:00:00\u001b[0m\n",
            "\u001b[?25hDownloading dataclasses_json-0.6.7-py3-none-any.whl (28 kB)\n",
            "Downloading httpx_sse-0.4.0-py3-none-any.whl (7.8 kB)\n",
            "Downloading pydantic_settings-2.8.1-py3-none-any.whl (30 kB)\n",
            "Downloading marshmallow-3.26.1-py3-none-any.whl (50 kB)\n",
            "\u001b[2K   \u001b[90m━━━━━━━━━━━━━━━━━━━━━━━━━━━━━━━━━━━━━━━━\u001b[0m \u001b[32m50.9/50.9 kB\u001b[0m \u001b[31m3.3 MB/s\u001b[0m eta \u001b[36m0:00:00\u001b[0m\n",
            "\u001b[?25hDownloading python_dotenv-1.0.1-py3-none-any.whl (19 kB)\n",
            "Downloading typing_inspect-0.9.0-py3-none-any.whl (8.8 kB)\n",
            "Downloading mypy_extensions-1.0.0-py3-none-any.whl (4.7 kB)\n",
            "Installing collected packages: python-dotenv, mypy-extensions, marshmallow, httpx-sse, typing-inspect, pydantic-settings, dataclasses-json, langchain-community\n",
            "Successfully installed dataclasses-json-0.6.7 httpx-sse-0.4.0 langchain-community-0.3.20 marshmallow-3.26.1 mypy-extensions-1.0.0 pydantic-settings-2.8.1 python-dotenv-1.0.1 typing-inspect-0.9.0\n"
          ]
        }
      ]
    },
    {
      "cell_type": "code",
      "source": [
        "!pip install pymupdf"
      ],
      "metadata": {
        "colab": {
          "base_uri": "https://localhost:8080/"
        },
        "collapsed": true,
        "id": "z4D8AVXEAOHD",
        "outputId": "179b9ae6-ad9b-4513-ef9e-4a1e569bac1d"
      },
      "execution_count": 3,
      "outputs": [
        {
          "output_type": "stream",
          "name": "stdout",
          "text": [
            "Collecting pymupdf\n",
            "  Downloading pymupdf-1.25.4-cp39-abi3-manylinux2014_x86_64.manylinux_2_17_x86_64.whl.metadata (3.4 kB)\n",
            "Downloading pymupdf-1.25.4-cp39-abi3-manylinux2014_x86_64.manylinux_2_17_x86_64.whl (20.0 MB)\n",
            "\u001b[2K   \u001b[90m━━━━━━━━━━━━━━━━━━━━━━━━━━━━━━━━━━━━━━━━\u001b[0m \u001b[32m20.0/20.0 MB\u001b[0m \u001b[31m76.8 MB/s\u001b[0m eta \u001b[36m0:00:00\u001b[0m\n",
            "\u001b[?25hInstalling collected packages: pymupdf\n",
            "Successfully installed pymupdf-1.25.4\n"
          ]
        }
      ]
    },
    {
      "cell_type": "code",
      "source": [
        "!pip install faiss-cpu"
      ],
      "metadata": {
        "colab": {
          "base_uri": "https://localhost:8080/"
        },
        "collapsed": true,
        "id": "fBwDh7dHAce0",
        "outputId": "ec6cb6cc-da48-43fd-8b92-963737c0bbe3"
      },
      "execution_count": 4,
      "outputs": [
        {
          "output_type": "stream",
          "name": "stdout",
          "text": [
            "Collecting faiss-cpu\n",
            "  Downloading faiss_cpu-1.10.0-cp311-cp311-manylinux_2_28_x86_64.whl.metadata (4.4 kB)\n",
            "Requirement already satisfied: numpy<3.0,>=1.25.0 in /usr/local/lib/python3.11/dist-packages (from faiss-cpu) (2.0.2)\n",
            "Requirement already satisfied: packaging in /usr/local/lib/python3.11/dist-packages (from faiss-cpu) (24.2)\n",
            "Downloading faiss_cpu-1.10.0-cp311-cp311-manylinux_2_28_x86_64.whl (30.7 MB)\n",
            "\u001b[2K   \u001b[90m━━━━━━━━━━━━━━━━━━━━━━━━━━━━━━━━━━━━━━━━\u001b[0m \u001b[32m30.7/30.7 MB\u001b[0m \u001b[31m54.5 MB/s\u001b[0m eta \u001b[36m0:00:00\u001b[0m\n",
            "\u001b[?25hInstalling collected packages: faiss-cpu\n",
            "Successfully installed faiss-cpu-1.10.0\n"
          ]
        }
      ]
    },
    {
      "cell_type": "code",
      "source": [
        "!pip install openai"
      ],
      "metadata": {
        "collapsed": true,
        "colab": {
          "base_uri": "https://localhost:8080/"
        },
        "id": "Ss9rI_qLAsnr",
        "outputId": "18022af6-54a6-4030-95c9-6581b46ae16d"
      },
      "execution_count": 5,
      "outputs": [
        {
          "output_type": "stream",
          "name": "stdout",
          "text": [
            "Requirement already satisfied: openai in /usr/local/lib/python3.11/dist-packages (1.66.5)\n",
            "Requirement already satisfied: anyio<5,>=3.5.0 in /usr/local/lib/python3.11/dist-packages (from openai) (4.9.0)\n",
            "Requirement already satisfied: distro<2,>=1.7.0 in /usr/local/lib/python3.11/dist-packages (from openai) (1.9.0)\n",
            "Requirement already satisfied: httpx<1,>=0.23.0 in /usr/local/lib/python3.11/dist-packages (from openai) (0.28.1)\n",
            "Requirement already satisfied: jiter<1,>=0.4.0 in /usr/local/lib/python3.11/dist-packages (from openai) (0.9.0)\n",
            "Requirement already satisfied: pydantic<3,>=1.9.0 in /usr/local/lib/python3.11/dist-packages (from openai) (2.10.6)\n",
            "Requirement already satisfied: sniffio in /usr/local/lib/python3.11/dist-packages (from openai) (1.3.1)\n",
            "Requirement already satisfied: tqdm>4 in /usr/local/lib/python3.11/dist-packages (from openai) (4.67.1)\n",
            "Requirement already satisfied: typing-extensions<5,>=4.11 in /usr/local/lib/python3.11/dist-packages (from openai) (4.12.2)\n",
            "Requirement already satisfied: idna>=2.8 in /usr/local/lib/python3.11/dist-packages (from anyio<5,>=3.5.0->openai) (3.10)\n",
            "Requirement already satisfied: certifi in /usr/local/lib/python3.11/dist-packages (from httpx<1,>=0.23.0->openai) (2025.1.31)\n",
            "Requirement already satisfied: httpcore==1.* in /usr/local/lib/python3.11/dist-packages (from httpx<1,>=0.23.0->openai) (1.0.7)\n",
            "Requirement already satisfied: h11<0.15,>=0.13 in /usr/local/lib/python3.11/dist-packages (from httpcore==1.*->httpx<1,>=0.23.0->openai) (0.14.0)\n",
            "Requirement already satisfied: annotated-types>=0.6.0 in /usr/local/lib/python3.11/dist-packages (from pydantic<3,>=1.9.0->openai) (0.7.0)\n",
            "Requirement already satisfied: pydantic-core==2.27.2 in /usr/local/lib/python3.11/dist-packages (from pydantic<3,>=1.9.0->openai) (2.27.2)\n"
          ]
        }
      ]
    },
    {
      "cell_type": "code",
      "source": [
        "!pip install PyPDF2"
      ],
      "metadata": {
        "colab": {
          "base_uri": "https://localhost:8080/"
        },
        "id": "b_Wf_o2PCOxM",
        "outputId": "d113210f-0e6c-4310-b7ca-7da1b66c3fac"
      },
      "execution_count": 12,
      "outputs": [
        {
          "output_type": "stream",
          "name": "stdout",
          "text": [
            "Collecting PyPDF2\n",
            "  Downloading pypdf2-3.0.1-py3-none-any.whl.metadata (6.8 kB)\n",
            "Downloading pypdf2-3.0.1-py3-none-any.whl (232 kB)\n",
            "\u001b[?25l   \u001b[90m━━━━━━━━━━━━━━━━━━━━━━━━━━━━━━━━━━━━━━━━\u001b[0m \u001b[32m0.0/232.6 kB\u001b[0m \u001b[31m?\u001b[0m eta \u001b[36m-:--:--\u001b[0m\r\u001b[2K   \u001b[91m━━━━━━━━━━━━━━━━━━━\u001b[0m\u001b[90m╺\u001b[0m\u001b[90m━━━━━━━━━━━━━━━━━━━━\u001b[0m \u001b[32m112.6/232.6 kB\u001b[0m \u001b[31m3.2 MB/s\u001b[0m eta \u001b[36m0:00:01\u001b[0m\r\u001b[2K   \u001b[90m━━━━━━━━━━━━━━━━━━━━━━━━━━━━━━━━━━━━━━━━\u001b[0m \u001b[32m232.6/232.6 kB\u001b[0m \u001b[31m3.6 MB/s\u001b[0m eta \u001b[36m0:00:00\u001b[0m\n",
            "\u001b[?25hInstalling collected packages: PyPDF2\n",
            "Successfully installed PyPDF2-3.0.1\n"
          ]
        }
      ]
    },
    {
      "cell_type": "code",
      "source": [
        "from langchain_text_splitters import RecursiveCharacterTextSplitter\n",
        "from langchain_community.document_loaders import PyMuPDFLoader\n",
        "from langchain_community.vectorstores import FAISS\n",
        "from langchain_core.output_parsers import StrOutputParser\n",
        "from langchain_core.runnables import RunnablePassthrough\n",
        "from langchain_core.prompts import PromptTemplate\n",
        "from langchain_openai import ChatOpenAI, OpenAIEmbeddings"
      ],
      "metadata": {
        "colab": {
          "base_uri": "https://localhost:8080/",
          "height": 406
        },
        "id": "k4eV33AbAx1r",
        "outputId": "7ca62f3a-483a-4e03-e5ae-ba603f5ab973"
      },
      "execution_count": 39,
      "outputs": [
        {
          "output_type": "error",
          "ename": "ModuleNotFoundError",
          "evalue": "No module named 'langchain.text_splitters'",
          "traceback": [
            "\u001b[0;31m---------------------------------------------------------------------------\u001b[0m",
            "\u001b[0;31mModuleNotFoundError\u001b[0m                       Traceback (most recent call last)",
            "\u001b[0;32m<ipython-input-39-fb057428b22d>\u001b[0m in \u001b[0;36m<cell line: 0>\u001b[0;34m()\u001b[0m\n\u001b[1;32m      1\u001b[0m \u001b[0;32mfrom\u001b[0m \u001b[0mlangchain\u001b[0m\u001b[0;34m.\u001b[0m\u001b[0membeddings\u001b[0m \u001b[0;32mimport\u001b[0m \u001b[0mHuggingFaceEmbeddings\u001b[0m\u001b[0;34m\u001b[0m\u001b[0;34m\u001b[0m\u001b[0m\n\u001b[0;32m----> 2\u001b[0;31m \u001b[0;32mfrom\u001b[0m \u001b[0mlangchain\u001b[0m\u001b[0;34m.\u001b[0m\u001b[0mtext_splitters\u001b[0m \u001b[0;32mimport\u001b[0m \u001b[0mRecursiveCharacterTextSplitter\u001b[0m\u001b[0;34m\u001b[0m\u001b[0;34m\u001b[0m\u001b[0m\n\u001b[0m\u001b[1;32m      3\u001b[0m \u001b[0;32mfrom\u001b[0m \u001b[0mlangchain\u001b[0m\u001b[0;34m.\u001b[0m\u001b[0mdocument_loaders\u001b[0m \u001b[0;32mimport\u001b[0m \u001b[0mPyMuPDFLoader\u001b[0m\u001b[0;34m\u001b[0m\u001b[0;34m\u001b[0m\u001b[0m\n\u001b[1;32m      4\u001b[0m \u001b[0;32mfrom\u001b[0m \u001b[0mlangchain\u001b[0m\u001b[0;34m.\u001b[0m\u001b[0mvectorstores\u001b[0m \u001b[0;32mimport\u001b[0m \u001b[0mFAISS\u001b[0m\u001b[0;34m\u001b[0m\u001b[0;34m\u001b[0m\u001b[0m\n\u001b[1;32m      5\u001b[0m \u001b[0;32mfrom\u001b[0m \u001b[0mlangchain\u001b[0m\u001b[0;34m.\u001b[0m\u001b[0mprompts\u001b[0m \u001b[0;32mimport\u001b[0m \u001b[0mPromptTemplate\u001b[0m\u001b[0;34m\u001b[0m\u001b[0;34m\u001b[0m\u001b[0m\n",
            "\u001b[0;31mModuleNotFoundError\u001b[0m: No module named 'langchain.text_splitters'",
            "",
            "\u001b[0;31m---------------------------------------------------------------------------\u001b[0;32m\nNOTE: If your import is failing due to a missing package, you can\nmanually install dependencies using either !pip or !apt.\n\nTo view examples of installing some common dependencies, click the\n\"Open Examples\" button below.\n\u001b[0;31m---------------------------------------------------------------------------\u001b[0m\n"
          ],
          "errorDetails": {
            "actions": [
              {
                "action": "open_url",
                "actionText": "Open Examples",
                "url": "/notebooks/snippets/importing_libraries.ipynb"
              }
            ]
          }
        }
      ]
    },
    {
      "cell_type": "code",
      "source": [
        "# 단계 1: 문서 로드(Load Documents)\n",
        "loader = PyMuPDFLoader(\"data/SPRI_AI_Brief_2023년12월호_F.pdf\")\n",
        "docs = loader.load()"
      ],
      "metadata": {
        "id": "MwsRDkWjBQzu"
      },
      "execution_count": null,
      "outputs": []
    },
    {
      "cell_type": "code",
      "source": [
        "from PyPDF2 import PdfReader\n",
        "from langchain.text_splitter import RecursiveCharacterTextSplitter\n",
        "\n",
        "# PDF 파일 열기\n",
        "file_name = 'sam1.pdf'\n",
        "with open(file_name, 'rb') as file:\n",
        "    pdf_reader = PdfReader(file)\n",
        "    text = ''\n",
        "    for page in pdf_reader.pages:\n",
        "        text += page.extract_text()"
      ],
      "metadata": {
        "id": "JzheIVQbBaoG"
      },
      "execution_count": 15,
      "outputs": []
    },
    {
      "cell_type": "code",
      "source": [
        "text_splitter = RecursiveCharacterTextSplitter(chunk_size=1000, chunk_overlap=50)\n",
        "split_documents = text_splitter.split_text(text)\n",
        "\n",
        "# 결과 확인\n",
        "print(split_documents)"
      ],
      "metadata": {
        "colab": {
          "base_uri": "https://localhost:8080/"
        },
        "id": "AqlAvvUKDsHc",
        "outputId": "9e346bba-6fc5-4e0c-91db-1979b34017d3"
      },
      "execution_count": 16,
      "outputs": [
        {
          "output_type": "stream",
          "name": "stdout",
          "text": [
            "['설치 및 올바른 사용법삼성 지펠 냉장고\\nFrench type Refrigerator\\n본 제품은 대한민국에서만 사용하도록 만들어져 있으며,\\n해외에서는 품질을 보증하지 않습니다.(FOR KOREA UNIT STANDARD ONLY)\\n제품 에너지효율등급 관련\\n에너지소비효율등급라벨 또는 에너지소비효율라벨에 명기된 에너지 비용 표시사항과 실제 에너지비용은 소비자가 실제 사용하는 에너지사용량, 에너지사용시간 또는 전기요금 인상 등 에너지가격 변동에 따라 달라질 수 있습니다.권장안전사용기간  7년\\n안전사용기간을 초과하여 사용하면 제품 노후로 인하여 화재 및 부상 \\n등을 초래할 수 있습니다. 반드시 안전점검을 받도록 하십시오.French type Refrigerator3French type Refrigerator\\n목차\\n\\t 안전을\\t위한\\t경고\\t및\\t주의\\t사항\\t4\\n\\t 설치\\t전\\t주의\\t사항\\t10\\n\\t 사용\\t전\\t확인\\t사항\\t11\\n\\t 생활의\\t지혜\\t12\\n\\t 청소\\t및\\t손질\\t방법\\t14\\n\\t 고장신고\\t전\\t확인\\t사항\\t16\\n\\t 고장신고\\t전\\t확인\\t사항\\t-\\t탄산수\\t모델용\\t19\\n\\t 폐\\t전자제품\\t처리\\t안내\\t214\\n[설치 관련]\\n본\\t제품은\\tAC\\t220\\tV\\t/\\t60\\tHz\\t전용입니다.\\n ▶용량에 맞지 않는 전압 사용은 냉장고 고장의 원인이 됩니다.\\n\\t\\t전원은\\t교류\\t220\\tV\\t/\\t60\\tHz\\t/\\t정격\\t15\\tA\\t이상의\\t콘센트를\\t제품\\t단독으로\\t사용하세요.\\t\\t\\n또한,\\t전원코드의\\t길이를\\t임의로\\t연장하지\\t마세요.\\n ▶멀티탭이나 다른 기기와 병행 및 전원코드를 연장하여 사용하는 경우, 감전, 화재의 원인이 됩니다.\\n ▶변압기를 사용하는 경우, 감전, 화재의 원인이 됩니다.\\n ▶전압/주파수/정격 전류 조건이 다르면 감전, 화재의 원인이 됩니다.\\n\\t안전을\\t위해\\t반드시\\t접지하세요.\\t또한,\\t가스관\\t및\\t플라스틱\\t수도관,\\t전화선\\t등에는\\t접지하지\\t마세요.\\n ▶감전, 화재, 고장, 폭발의 위험이 있습니다.\\n ▶반드시 접지가 있는 콘센트를 사용하세요.', '▶반드시 접지가 있는 콘센트를 사용하세요.\\n ▶제품에 이상이 없어도 접지를 하지 않을 경우, 문 손잡이 및 측면 모서리를 만질 때 미세한 누설  \\n전류로 인해 전기를 느낄 수 있습니다.\\n\\t설치는\\t전문기사에게\\t의뢰하세요.\\n ▶감전, 화재, 고장, 폭발, 상해의 원인이 됩니다.\\n\\t열기구\\t및\\t열에\\t약한\\t물건\\t근처나\\t습기,\\t기름,\\t먼지가\\t많은\\t곳,\\t직사광선\\t및\\t물(빗물\\t등)이\\t\\t닿는\\t곳,\\t혹은\\t가스가\\t샐\\t가능성이\\t있는\\t곳에\\t설치하지\\t마세요.\\n ▶감전, 화재, 고장, 폭발의 위험이 있습니다.\\n\\t설치\\t시\\t전원\\t플러그를\\t꽂은\\t후\\t냉장고를\\t밀어\\t넣은\\t경우\\t전원코드가\\t눌리거나\\t찍히지\\t않도록\\t하세요.\\n ▶화재, 감전의 위험이 있습니다.\\n바닥이\\t튼튼하고\\t수평인\\t곳에\\t설치하세요.\\t또한,\\t수평이\\t맞더라도,\\t바닥에\\t조절\\t다리가\\t완전히\\t닿도록\\t조절하세요.\\n ▶이상 진동 및 소음, 고장의 원인이 됩니다.\\n사용\\t전\\t사용설명서를\\t따라\\t적합한\\t위치에\\t설치하세요.지키지 않았을 경우 사용자가 사망하거나 중상을 입을 수 있습니다.\\n지키지 않았을 경우 사용자가 부상을 당하거나 재산상의 손해를 입을 수 있습니다.  안전을 위한 경고 및 주의 사항\\n안전을\\t위한\\t주의\\t사항은\\t사용자의\\t안전을\\t지키고,\\t재산상의\\t손해\\t등을\\t막기\\t위한\\t내용입니다.\\t\\t\\n반드시\\t읽고\\t올바르게\\t사용해\\t주세요.5\\n  안전을 위한 경고 및 주의 사항\\n높이\\t조절\\t링을\\t끼우거나\\t뺄\\t때\\t손이\\t다치지\\t않도록\\t주의하세요.\\n ▶높이 조절링을 어린이가 가지고 놀거나 입에 넣지 않도록 주의하세요.\\n냉장고를\\t가구\\t안에\\t넣고\\t사용하지\\t마세요.\\t(빌트인\\t제품이\\t아닙니다.)\\n ▶화재, 감전의 원인이 됩니다.\\n제품\\t뒷면(커버)에\\t과도한\\t힘을\\t주거나\\t충격을\\t가하지\\t마십시오.\\n ▶감전, 화재, 고장, 폭발의 원인이 됩니다.\\n제품을\\t설치할\\t때는\\t전원코드를\\t빼기\\t쉬운\\t곳에\\t설치하세요.\\n ▶누전에 의한 감전 및 화재의 원인이 됩니다.\\n설치\\t시\\t제품\\t뒷면이\\t노출되지\\t않도록\\t주의하십시오.\\n ▶감전 또는 상해의 원인이 됩니다.', '설치\\t시\\t제품\\t뒷면이\\t노출되지\\t않도록\\t주의하십시오.\\n ▶감전 또는 상해의 원인이 됩니다.\\n제품에\\t과도한\\t힘을\\t주어\\t밀거나\\t기울여서\\t움직이지\\t마세요.\\n ▶상해의 원인이 되거나 바닥에 손상을 줄 수 있습니다.\\n주위와\\t적당한\\t간격을\\t유지해서\\t설치하세요.\\n ▶뒷면은 5 cm 이상 사이를 두고 설치하세요. 주위와의 간격이 너무 좁으면 통풍이 잘 되지 않아  \\n냉각력이 떨어지며, 제품 외벽에 이슬이 생길 수 있고, 전기료도 많이 나오게 됩니다.\\n ▶냉매가 샜을 때 고이게 되어 발화 및 폭발의 원인이 됩니다.\\n햇볕이\\t내리쬐는\\t곳,\\t열기가\\t많은\\t곳,\\t지나치게\\t추운\\t곳은\\t피해주세요.\\n ▶주위 온도가 5 ℃ 이상, 43 ℃ 이하인 곳에 설치하세요.\\n ▶설치 장소의 온도가 너무 높거나 낮으면 기능에 이상이 발생하거나 냉각력이 떨어지고 전기료가 많이 \\n나오게 됩니다.\\n[전원 관련]\\n\\t전원코드의\\t길이를\\t연장하거나\\t임의로\\t변경하여\\t사용하지\\t마십시오.\\n ▶전원코드의 전기적 손상 등으로 감전이나 화재가 발생할 수 있습니다.\\n\\t정기적으로\\t전원\\t플러그의\\t단자\\t및\\t접촉\\t부분에\\t이물(먼지,\\t물\\t등)을\\t마른\\t천으로\\t잘\\t닦아\\t주세요.\\n ▶감전, 화재의 원인이 됩니다.\\n ▶젖은 헝겊으로는 닦지 마세요.\\n\\t전원\\t플러그는\\t콘센트\\t끝까지\\t확실히\\t연결하고,\\t손상된\\t전원\\t플러그,\\t전원코드,\\t느슨해진\\t콘센트는\\t\\n사용하지\\t마세요.\\n ▶감전, 화재의 원인이 됩니다.\\n\\t전원코드를\\t무리하게\\t구부리거나\\t잡아당기거나,\\t비틀거나\\t묶지\\t마세요.\\t또한\\t금속부에\\t걸거나 \\t\\n무거운\\t물체를\\t올려놓거나,\\t사이에\\t끼우거나\\t제품\\t뒤쪽으로\\t밀어\\t넣지\\t마세요.\\n ▶감전, 화재의 원인이 됩니다. 6\\n  안전을 위한 경고 및 주의 사항\\n\\t전원\\t플러그를\\t뺄\\t때는\\t전원코드(전선)를\\t당겨서\\t빼지\\t마세요.\\n ▶전원 플러그를 잡고 빼 주세요.\\n ▶감전, 화재의 원인이 됩니다.\\n전원\\t플러그는\\t코드가\\t아래를\\t향하도록\\t연결하세요.\\n ▶반대로 연결할 경우, 코드 내부에서 선이 끊어져 화재 및 감전의 원인이 됩니다.', '▶반대로 연결할 경우, 코드 내부에서 선이 끊어져 화재 및 감전의 원인이 됩니다.\\n전원코드나\\t전원\\t플러그가\\t파손된\\t경우에는\\t위험이\\t생기지\\t않도록\\t하기\\t위하여\\t제조사의\\t서비스 \\t\\n대행점\\t또는\\t유자격\\t기술자에\\t의해\\t교환하세요.\\n장시간\\t사용하지\\t않거나,\\t천둥\\t및\\t번개가\\t칠\\t경우에는\\t전원\\t플러그를\\t빼\\t주세요.\\n ▶감전, 화재의 원인이 됩니다.\\n[사용 관련]\\n\\t젖은\\t손으로\\t전원\\t플러그를\\t만지지\\t마세요.\\n ▶감전의 원인이 됩니다.\\n제품이\\t침수된\\t경우에는\\t서비스\\t센터에\\t연락하세요.\\n ▶감전, 화재의 원인이 됩니다.\\n제품에서\\t이상한\\t소리나\\t타는\\t냄새,\\t연기가\\t나면\\t즉시\\t전원을\\t차단하고\\t서비스\\t센터에\\t\\t\\n연락하세요.\\n ▶감전, 화재의 원인이 됩니다.\\n절대\\t임의로\\t분해,\\t수리,\\t개조하지\\t마세요.\\n ▶정수리 및 재설치 등이 필요할 때는 서비스 센터로 연락하세요.\\n ▶감전, 화재, 고장, 상해의 원인이 됩니다.\\n제품\\t내의\\t전기\\t부품에\\t물이나\\t이물질이\\t들어간\\t경우,\\t전원\\t플러그를\\t빼고\\t서비스\\t센터에\\t연락하세요.\\n ▶감전, 화재의 원인이 됩니다.\\n가스(프로판/도시가스\\t등)가\\t샐\\t때는\\t제품이나\\t전원\\t플러그를\\t만지지\\t마시고\\t바로\\t환기시키세요.\\n ▶환기 팬은 사용하지 마세요.\\n ▶불꽃을 일으키면 폭발, 화재의 원인이 됩니다.\\n가연성\\t스프레이,\\t불에\\t잘\\t타는\\t물질,\\t드라이아이스\\t등과\\t같은\\t온도에\\t민감한\\t제품,\\t의약품,\\t학술\\t재료\\t등을\\t제품\\t가까운\\t곳에서\\t사용하거나\\t보관하지\\t마세요.\\t또한\\t휘발성이\\t있거나\\t발화성이\\t있는\\t물건이나\\t물질(벤젠,\\t시너,\\t프로판가스\\t등),\\t전기제품\\t등을\\t보관하지\\t마세요.\\n ▶화재, 폭발의 원인이 됩니다.\\n ▶본 제품은 식품 저장용입니다.7\\n  안전을 위한 경고 및 주의 사항\\n비닐\\t포장재는\\t어린이의\\t손이\\t닿지\\t않는\\t곳에\\t보관,\\t또는\\t폐기하세요.\\n ▶머리에 쓰는 행위 등으로 코나 입이 막혀 질식할 수 있습니다.\\n어린이가\\t제품\\t안에\\t들어가지\\t못하게\\t하세요.\\t\\n ▶어린이가 제품 안으로 들어가면 갇히게 되어 숨질 위험이 있습니다.', '▶어린이가 제품 안으로 들어가면 갇히게 되어 숨질 위험이 있습니다.\\n희귀\\t약재(산삼,\\t장뇌삼,\\t인삼)\\t등은\\t얼\\t수\\t있으므로\\t보관하지\\t마세요.\\n제품\\t위에\\t올라가거나,\\t물건(세탁물,\\t촛불,\\t담뱃불,\\t그릇,\\t약품,\\t금속\\t등)을\\t올려놓지\\t마세요.\\n ▶감전, 화재, 고장이나 상해의 원인이 됩니다.\\n냉장고\\t문에\\t매달리거나\\t올라타지\\t않도록\\t하세요.\\t또한\\t냉동/냉장실\\t다용도칸에\\t매달리지\\t\\n않도록\\t하세요.\\n ▶제품이 쓰러지거나 문이 분리되거나, 문틈(냉장고 문 등)에 손이나 발 등이 끼이면 상해의 원인이  \\n됩니다.\\n문을\\t여닫을\\t때는\\t반드시\\t손잡이를\\t사용하세요.\\n ▶문틈에 손이 끼면 다칠 위험이 있습니다.\\n냉장고\\t문을\\t너무\\t가까이에서\\t열지\\t마세요.\\n ▶문 아래부분의 위치가 낮아 상해의 위험이 있습니다.\\n어린이가\\t냉동실\\t서랍\\t등에\\t올라서지\\t못하도록\\t하세요.\\n ▶냉동실 서랍이 파손되어 미끄러질 위험이 있습니다.\\n제품에\\t살충제,\\t방향제\\t등의\\t가연성\\t스프레이를\\t뿌리지\\t마세요.\\n ▶인체에 해로울 뿐 아니라 감전, 화재, 고장의 원인이 됩니다.\\n냉동\\t기능을\\t사용할\\t때는\\t유리병이나\\t탄산음료\\t등을\\t보관하지\\t마세요.\\n ▶내용물이 얼어서 병이 깨지면 다칠 위험이 있습니다.\\n냉장고\\t내부\\t건조를\\t위해\\t드라이기를\\t사용하지\\t마세요.\\t또한,\\t냄새\\t제거를\\t위해\\t촛불\\t등을\\t넣지\\t마세요.\\n ▶감전, 화재의 원인이 됩니다.\\n젖은\\t손으로\\t제품을\\t동작시키지\\t마세요.\\n ▶감전의 원인이 됩니다.\\n제품\\t바닥\\t및\\t뒤쪽에\\t손이나\\t발,\\t금속\\t막대(젓가락\\t등)\\t등을\\t넣지\\t마세요.\\n ▶감전, 상해의 원인이 됩니다.\\n유리\\t면에\\t강한\\t충격이나\\t힘을\\t가하지\\t마세요.\\n ▶파손되어 상해의 원인이 됩니다.\\n본\\t제품은\\t가정용으로만\\t사용하십시오.\\n ▶자격을 갖춘 전문가를 통해 서비스를 받으시기 바랍니다.8\\n냉동\\t기능으로\\t설정하여\\t사용하던\\t메탈\\t쿨링\\t용기/메탈\\t선반을\\t젖은\\t손으로\\t만지지\\t마세요.\\n ▶동상의 위험이 있습니다.\\n젖은\\t손으로\\t냉동실의\\t그릇\\t및\\t식품을\\t만지지\\t마세요.\\n ▶동상의 위험이 있습니다.\\n제품\\t문을\\t세게\\t여닫지\\t마십시오.', '▶동상의 위험이 있습니다.\\n제품\\t문을\\t세게\\t여닫지\\t마십시오.\\n ▶제품 바구니에 보관된 저장 식품이 떨어져 상해의 원인이 됩니다.\\n살아있는\\t동물을\\t냉장고에\\t넣지\\t마세요.\\n ▶질식 및 동사할 위험이 있습니다.\\n선반을\\t뒤집어서\\t넣거나,\\t앞/뒤를\\t반대로\\t하여\\t넣지\\t않도록\\t주의하세요.\\n ▶선반이 떨어져 상해의 원인이 됩니다.\\n장시간\\t정전이\\t되거나\\t청소\\t전에는\\t냉동실\\t얼음\\t저장통의\\t얼음을\\t버려주십시오.\\n ▶장시간 정전이 될 경우 얼음이 녹아 물이 바닥으로 떨어져 바닥이 손상될 수 있습니다.\\n[청소 관련]\\n\\t제품에\\t물을\\t직접\\t뿌리거나\\t벤젠,\\t시너,\\t알코올\\t등으로\\t닦지\\t마세요.\\n ▶누전에 의한 감전 및 화재의 원인이 됩니다.\\n청소\\t시에는\\t전원\\t플러그를\\t빼세요.\\n ▶감전, 화재의 원인이 됩니다.\\n물기가\\t많은\\t헝겊\\t등으로\\t손잡이를\\t닦지\\t마세요.\\n청소가\\t끝난\\t후에는\\t전원코드가\\t손상되지\\t않았는지,\\t전원\\t플러그에\\t발열현상은\\t없는지,\\t\\n플러그가\\t잘\\t꽂혀\\t있는지\\t확인해\\t주세요.\\n\\t세제나\\t락스,\\t아세톤,\\t시너,\\t알코올,\\t염화물,\\t벤젠\\t등으로\\t세척\\t시\\t제품이\\t손상되거나\\t변색될\\t수\\t있습니다.\\n제품\\t아래의\\t바닥면에\\t손을\\t넣지\\t마세요.\\n ▶날카로운 부분에 다칠 수 있습니다.\\n[폐기 관련]\\n\\t폐기\\t시에는\\t문의\\t패킹을\\t분리하세요.\\n ▶어린이가 제품 안으로 들어가면 갇히게 되어 숨질 위험이 있습니다.\\n본\\t제품의\\t냉매는\\t가연성\\t천연가스인\\t이소부탄(R-600a)을,\\t단열재는\\t사이크로펜탄을\\t사용하였으므로\\t안전한\\t처리를\\t위하여\\t폐기\\t시에는\\t관할\\t주민자치센터에\\t연락하여\\t폐기하여\\t주십시오.\\n폐기\\t시\\t파이프\\t등을\\t훼손하지\\t마세요.9\\n[기타 주의사항]\\n\\t본\\t제품의\\t냉매는\\t가연성\\t천연가스인\\t이소부탄(R-600a)을\\t사용하였으므로\\t제품을\\t이동할\\t때\\t\\n손상되지\\t않도록\\t주의하여\\t주세요.\\n본\\t제품은\\tR-600a\\t또는\\tR-134a를\\t냉매로\\t사용합니다.\\t구입하신\\t제품에\\t어떤\\t냉매가\\t사용되었는지\\t압축기\\t또는\\t제품\\t내부의\\t라벨(스티커)을\\t통해\\t확인해\\t주세요.', '냉매\\t파이프(관)에서\\t냉매가\\t샜을\\t경우\\t불이\\t나거나\\t다칠\\t수\\t있습니다.\\n ▶불꽃이나 불이 붙을 수 있는 물질 등을 멀리 옮긴 후 환기하세요.\\n제조자가\\t권고하지\\t않는\\t기계장치나\\t제상\\t시스템(성에를\\t제거하는\\t시스템)을\\t가속화하는\\t동작은\\t삼가주십시오.\\n냉각\\t시스템\\t혹은\\t냉매\\t회로에\\t손상을\\t주지\\t마세요.\\n ▶제품 성능에 영향을 미칠 수 있습니다.\\n본\\t제품은\\t신체,\\t감각,\\t정신\\t능력이\\t결여되어\\t있거나\\t경험과\\t지식이\\t부족하여\\t감독이나\\t지시\\t없이는\\t안전하게\\t기기를\\t사용할\\t수\\t없는\\t사람(어린이\\t포함)이\\t사용하도록\\t만들어지지\\t않았습니다.\\t안전한\\t사용을\\t위하여\\t사용\\t시\\t감독하여\\t주세요.\\n제품\\t뒷면의\\t송풍구를\\t청결히\\t유지하여\\t주십시오.\\n냉매가\\t샐\\t것을\\t예상하여\\t발화\\t가능성을\\t줄이기\\t위해,\\t사용된\\t냉매의\\t양에\\t따라\\t제품\\t설치를\\t위한\\t공간이\\t필요합니다.(R-600a\\t8\\tg당\\t1\\t㎥의\\t공간\\t필요)\\t사용된\\t냉매의\\t양은\\t제품\\t내부의\\t라벨(스티커)에\\t표기되어\\t있습니다.\\n제품을\\t운반할\\t때는\\t반드시\\t손잡이를\\t사용하시고,\\t2인\\t1조로\\t운반하세요.\\n ▶운반하기 전에 수평 조절 나사를 오른쪽으로 꽉 조이세요.\\n ▶한 사람이 제품 뒷면의 손잡이를 양손으로 잡고 몸 쪽으로 기울이고, 다른 한 사람은 들린 제품  \\n앞면의 아래를 잡고 운반하세요.\\n이사\\t등의\\t장거리\\t운반\\t시,\\t문을\\t테이프로\\t고정한\\t후\\t바로\\t세워서\\t운반하세요.\\n ▶눕혀서 이동하면 제품이 손상될 수 있습니다.\\n ▶문을 테이프로 고정하지 않으면 운반 시 문이 열려 다칠 수 있습니다.\\n제품\\t문\\t분해\\t또는\\t조립\\t시\\t문이\\t넘어지지\\t않도록\\t주의하십시오.\\n ▶상해의 원인이 됩니다.\\n제품\\t문\\t분해\\t또는\\t조립\\t시\\t전선이\\t벗겨지지\\t않도록\\t주의하십시오.\\n ▶감전 또는 화재의 원인이 됩니다.\\n조그마한\\t동물이나\\t애완동물이\\t전원선을\\t갉아먹지\\t않도록\\t주의하십시오.\\n ▶화재 또는 감전의 원인이 됩니다.10\\n[접지하기]\\n누설\\t전류로\\t인한\\t감전사고를\\t막기\\t위해\\t반드시\\t접지해\\t주세요.\\n<콘센트에\\t접지\\t단자가\\t있는\\t경우>\\n ▶따로 접지할 필요가 없습니다.', '<콘센트에\\t접지\\t단자가\\t있는\\t경우>\\n ▶따로 접지할 필요가 없습니다.\\n<콘센트에\\t접지\\t단자가\\t없는\\t경우>\\n ▶접지선을 별도 구입하여 제품 뒷면에  \\n연결하여 주세요.\\n ▶접지선을 금속 수도관이나 접지선로에  \\n연결하여 주세요.[운반 및 설치 장소 고르기]\\n냉장고\\t안의\\t식품은\\t모두\\t꺼내고,\\t선반\\t등의\\t깨질\\t위험이\\t있는\\t부품과\\t\\t\\n문의\\t손잡이는\\t테이프로\\t고정한\\t후\\t운반하세요.\\t\\t이사\\t등의\\t장거리로\\t운반할\\t때는\\t바로\\t세워서\\t운반하세요.\\n ▶그림과 같이 반드시 2인 1조로 운반하세요. 제품이 무거우므로 다치거나 안전 \\n사고가 발생할 수 있습니다.\\n ▶설치 및 수리, 청소를 할 경우, 냉장고를 항상 직선방향(앞, 뒤)으로 움직여  \\n주세요. 지그재그로 움직이면 바닥에 손상을 줄 수 있습니다.\\n바닥이\\t튼튼하고\\t평평한\\t곳에\\t설치하세요.\\n ▶냉장고 설치 시 바닥이 고르지 않으면 진동과 소음 발생 및 문의 수평이 맞지 \\n않는 원인이 되며, 문을 여닫을 때 냉장고가 넘어져 다칠 수 있습니다.\\n ▶식품이 가득 채워진 냉장고의 무게를 견딜 수 있는 바닥이 단단한 곳이어야  \\n합니다.\\n주위와\\t적당한\\t간격을\\t유지해서\\t설치하세요.\\n ▶뒷면은 5 cm 이상 사이를 두고 설치하세요. 주위와의 간격이 너무 좁으면  \\n통풍이 잘 되지 않아 냉각력이 떨어지며, 제품 외벽에 이슬이 생길 수 있고,  \\n전기료도 많이 나오게 됩니다.\\n ▶냉매가 샜을 때 고이게 되어 발화 및 폭발의 원인이 됩니다.\\n햇볕이\\t내리쬐는\\t곳,\\t열기가\\t많은\\t곳,\\t지나치게\\t추운\\t곳은\\t피해주세요.\\n ▶주위 온도가 5 ℃ 이상, 43 ℃ 이하인 곳에 설치하세요.\\n ▶설치장소의 온도가 너무 높거나 낮으면 기능에 이상이 발생하거나 냉각력이 \\n떨어지고 전기료가 많이 나오게 됩니다.  설치 전 주의 사항\\n접지 단자\\t▶가스관,\\t플라스틱\\t수도관,\\t\\n전화선\\t등에는\\t접지하지\\t\\n마세요.\\t감전,\\t폭발의\\t \\t\\n위험이\\t있습니다.\\n\\t▶제품에\\t이상이\\t없어도\\t \\t\\n접지를\\t하지\\t않을\\t경우,\\t냉장고\\t문\\t손잡이\\t및\\t측면\\t모서리를\\t만질\\t때\\t미세한', '접지를\\t하지\\t않을\\t경우,\\t냉장고\\t문\\t손잡이\\t및\\t측면\\t모서리를\\t만질\\t때\\t미세한\\t\\n누설\\t전류로\\t인해\\t전기를\\t\\n느낄\\t수\\t있습니다.5 cm11\\n  사용 전 확인 사항\\n냉장고에서\\t플라스틱\\t냄새가\\t날\\t때\\n ▶냉장고 문을 열어 환기를 시킨 후 가동시키세요. 냉장고를 처음 설치했을 때는 내부에서  \\n 플라스틱 냄새가 날 수 있습니다.\\n ▶냄새가 날 수 있는 부착물, 테이프류는 제거한 후 사용하세요.\\n식품을\\t처음\\t보관할\\t때\\n ▶보관된 식품이 완전히 차가워지려면 저장량에 따라 다르지만, 식품이 많을 경우 만 하루가 지나야 합니다.\\n처음\\t가동\\t시\\t소리가\\t크게\\t들릴\\t때\\n ▶구입 후 처음으로 냉장고를 운전할 때는 냉동/냉장실의 온도를 빨리 낮추기 위해 압축기 및 모터가 고속 \\n회전하므로 소리가 크게 들릴 수 있습니다.  \\n길게는 2~3일 후 냉장고 내부 온도가 설정온도에 도달하고 안정되면 소리는 점점 작아집니다.\\n사용\\t중\\t정전이\\t되었을\\t때\\n ▶냉장고 문을 되도록 열지 마세요. 2~3시간 정도는 전기가 들어오지 않아도 식품이 상하지 않습니다.  \\n단, 24시간 이상 정전이 지속될 경우에는 식품이 상할 수 있으니 냉장고 안의 모든 식품을 꺼내주세요.\\n냉장고\\t사용\\t중\\t경보음이\\t울릴\\t때\\n ▶냉장고 문이 2분이 넘게 15°(도) 이상 열려있는 경우, 매분 10초간 경보음이 울리는 문단속 기능이 작동합니\\n다.12\\n  생활의 지혜\\n[냉장고 관리 방법]\\n냉각\\t효율을\\t높게\\t하려면\\n약 1년 주기로 냉장고 뒷면의 먼지를 청소하고, 냉장고 속의 식품을 적당한 간격을 두고 놓아 주세요.\\n냉기 나오는 곳을 식품 등으로 막으면 냉기가 고루 퍼지지 못해 냉각이 원활히 이루어지지 않게 됩니다.  \\n그로 인해 냉장고 온도가 상승하게 되어 냉각 효율이 떨어질 수 있습니다.\\n냉장고\\t정리\\t정돈하는\\t법\\n냉장고의 야채실은 깊어서 자칫하면 야채들이 쌓이고 눌려 물러지기 쉽습니다. 특히, 시금치나 파 등의 잎야', '채들은 세워서 보관하는 것이 좋습니다. 우유팩의 윗부분을 야채실의 깊이에 맞춰 커터칼이나 가위로 잘라낸 다음, 우유팩 몇 개를 이어서 테이프로 고정해 주세요. 여기에 야채를 정리하면 손상도 막을 수 있으며 \\n \\n관리도 쉬워집니다.\\n[식품 보관 방법]\\n비스킷을\\t바삭바삭하게\\t보존하려면\\t\\n밀폐용기에 보존하기도 하지만 보다 간단하고 쉬운 방법은 비스킷을 통에 넣을 때  \\n각설탕 한 개를 같이 넣는 것입니다. 설탕이 습기를 흡수하여 바삭바삭한 상태를 오래 \\n유지할 수 있습니다.\\n반찬을\\t보관하려면\\t\\n뚜껑이 없는 그릇 등에 담긴 반찬은 랩을 씌워서 보관하는 것이 좋습니다.\\n뜨거운\\t식품을\\t저장하려면\\t\\n식혀서 보관하세요. 냉각 효율이 높아지며 전기료도 절약할 수 있습니다.  \\n뜨거운 식품 보관 시 냉장고 내부에 이슬이나 성에가 생길 수 있습니다.\\n마요네즈를\\t맛있게\\t보관하려면\\t\\n마요네즈는 개봉한 다음 상온에서 보관하는 것이 가장 좋습니다. (한여름은 예외) \\n마요네즈는 고온뿐 아니라 저온에도 약한 식품으로, 고온일 경우에는 쉽게 상하고, 지나치게 저온이면 주성분인 식초, 기름, 계란 노른자가 분리되어 풍미가 \\n \\n떨어집니다. 따라서 직사광선이나 열기가 닿지 않는 시원한 곳에 보관하는 것이  \\n가장 좋습니다. 또한, 구입한 마요네즈는 반드시 유통기한을 확인하세요.13\\n  생활의 지혜\\n우유를\\t진하게\\t만들려면\\t\\n우유를 냉동실에 넣어 얼려주세요. 이때 얼리는 양은 0.5 L ~ 1 L 정도가  \\n적당합니다. 냉동이 되었으면 꺼내서 반쯤 해동시켜줍니다.\\n이 상태는 우유 속 수분이 아직 얼음으로 되어 있기 때문에 수분이 적어져  \\n진한 우유의 맛을 즐길 수 있습니다.\\n투명하고\\t깨끗한\\t얼음을\\t만들려면\\t\\n냉장고 제빙실에서 투명한 얼음을 만들고 싶을 때는 물을 끓였다가 식힌 후 얼려주세요.  \\n이렇게 물속의 불순물을 증발시키면 투명하고 깨끗한 얼음을 만들 수 있습니다.\\n향신료를\\t냉동,\\t냉장\\t보관하려면', '향신료를\\t냉동,\\t냉장\\t보관하려면\\n향신료는 향이 생명이므로 개봉 후 직사광선이 닿지 않는 건조한 장소에 보관해야 합니다.따라서, 냉동실이나 냉장실은 향신료를 보관하기에 가장 알맞은 곳입니다. 하지만 차가운 향신료는\\n \\n습기를 빨아들이기 쉽기 때문에, 반드시 사용할 때만 꺼내고, 사용 후에는 빨리 냉동실 혹은 냉장실에  \\n넣어 보관하세요.\\n꿀이\\t응고되지\\t않게\\t보존하려면\\n꿀은 냉동실에 보관하세요.  \\n순도가 높은 꿀일수록 냉장실에 보존하면 하얗게 되면서 점점 딱딱하게 굳어집니다. 꿀이 하얗게 굳어지는 것은 포도당이 결정을 만들기 때문이죠. 이렇게 변해도 품질에는 변화가 없지만 물에 \\n타기도, 다루기도 어려워집니다.\\n \\n꿀을 냉동실에 보관하게 되면 걸쭉한 상태를 그대로 유지할 수 있습니다.\\n빙과류를\\t보관하려면\\n아이스크림이나 장기 보관하는 식품은 투스타 섹션 이외의 곳에 보관하세요. (빙과류의 적정 보관온도는  \\n-20 ℃ 이하입니다.)\\n식물성\\t기름(오일)을\\t보관하려면\\n식물성 기름(오일)을 냉장실 다용도칸 (병꽂이)에 보관할 경우, 기름이 굳게 되고, 매우 드물지만 누유에 의한 \\n균열이 발생될 수 있습니다. 용기 개봉 후에는 반드시 상온의 서늘하고 그늘진 곳에 보관해 주세요.  \\n※식물성 기름(오일) : 콩기름, 올리브유, 참기름 등14\\n  청소 및 손질 방법\\n청소를 하기 전에 반드시 전원 플러그를 뽑아 주세요. 감전의 위험이 있습니다.  \\n냉장고 내부에 물이 고이기 쉬우므로 부속품은 물기 없이 닦은 후 다시 조립해 주세요.\\n냉장고 문 - 스테인레스 재질의 모델\\n\\t▶스테인레스\\t재질의\\t섬세한\\t무늬가\\t있는\\t디자인입니다.\\t손자국(얼룩\\t등)이\\t생길\\t \\t\\n경우\\t제품에\\t함께\\t제공된\\t초극세사\\t천에\\t깨끗한\\t물을\\t묻혀\\t닦아주시고,\\t부드럽고\\t\\n깨끗한\\t마른\\t천으로\\t물기를\\t닦아\\t주세요.\\n냉장고 문 - 화이트 색상 모델\\n\\t▶화이트\\t색상에\\t섬세한\\t무늬가\\t있는\\t디자인의\\t모델은\\t손자국(얼룩\\t등)이\\t생길\\t경우', '▶화이트\\t색상에\\t섬세한\\t무늬가\\t있는\\t디자인의\\t모델은\\t손자국(얼룩\\t등)이\\t생길\\t경우\\t\\n따뜻한\\t물\\t또는\\t중성\\t주방세제를\\t제품에\\t함께\\t제공된\\t초극세사\\t천에\\t묻혀\\t닦아주시고,\\t부드럽고\\t깨끗한\\t마른\\t천으로\\t물기를\\t닦아주세요.\\n냉장고\\t외관\\t및\\t디스펜서\\n ▶디스플레이(표시부)는 부드러운 천에 물을 적셔 닦아주세요.\\n ▶문, 손잡이, 냉장고 옆면은 중성세제로 닦은 다음 부드러운 천으로 물기를 닦아 주세요.\\n ▶디스펜서가 있는 제품은 물받이를 한쪽 끝을 눌러 꺼내고 부드러운 천으로 닦아 주세요.\\n냉장고\\t안과\\t부속품\\n ▶부드러운 천에 깨끗한 물을 묻혀 닦은 후 물기를 제거해 주세요.\\n ▶서랍과 선반은 세척 후 물기를 말려서 넣어 주세요.\\n문의\\t고무패킹\\n ▶부드러운 천에 깨끗한 물을 묻혀 닦고, 홈 사이는 면봉으로 닦아주세요.\\n냉장고\\t뒷면\\n ▶1년에 한 번 정도 진공청소기로 먼지를 없애면 냉장고 효율이 높아집니다.\\n냉장고\\t안에서\\t나는\\t냄새\\t제거\\t방법\\n ▶오래된 식빵이나 원두커피 찌꺼기 등을 냉장고 안에 넣어두면 나쁜 냄새 제거에 효과적입니다.\\n ▶장기간 사용하지 않거나 청소할 때는 전원 플러그를 빼고 문을 열어 물기를 말린 후  \\n마른 헝겊이나 수건 등으로 닦아 주세요. ▶냉장고 문을 세제나 락스, 아세톤, 신나, 알코올, 염화물, 벤젠 등으로 세척 시 제품이  \\n손상되거나 변색될 수 있습니다.15\\n  청소 및 손질 방법\\n ▶냉장고 내부와 외부를 청소할 때는 솔, 수세미, 거친 헝겊, 매직 스펀지 등 표면이 거친  \\n것을 사용하지 마세요.\\n ▶청소가 끝난 후에는 전원코드가 손상되지 않았는지, 전원 플러그에 발열현상은 없는지,  \\n 플러그가 잘 꽂혀 있는지 확인해 주세요.\\n ▶제품 아래의 바닥 면에 손을 넣지 마세요. 날카로운 부분에 다칠 수 있습니다.\\n ▶임의로 분해 및 조립 시 파손될 수 있으므로 주의하세요. ▶물을 직접 뿌리거나 세제나 락스, 아세톤, 신나, 알코올, 염화물, 벤젠 등으로 닦지 마세요.\\n ▶물기가 많은 헝겊 등으로 손잡이를 닦지 마세요.', '▶물기가 많은 헝겊 등으로 손잡이를 닦지 마세요.\\n냉동\\t/\\t냉장실\\tLED\\t램프\\n ▶LED 램프 덮개에 이물질이 묻었을 경우, LED 램프가 어두워 보일 수 있습니다.  \\n물걸레 또는 마른 헝겊으로 닦아주세요.\\n ▶램프 고장 시 수리는 서비스 센터(전국 어디서나 1588-3366)로 문의하여 주세요.16\\n  고장신고 전 확인 사항\\n증\\t상 확인\\t및\\t처리\\n물\\t흐르는\\t소리가\\t나요!\\t\\n(꾸르륵,\\t지글지글,\\t벅벅\\t등) ▶냉장고 내부의 냉매(차갑게 하는 물질)가 액체와 기체로 반복되어 흐를 때  \\n나는 소리입니다.\\n ▶냉각기에 붙어있는 성에가 녹아 물이 되어 흘러내리면서 ‘칙칙’, ‘벅벅’ 등과 \\n같은 소리가 납니다. 이것은 고장이 아니니 안심하고 사용하세요.\\n냉장고\\t안에서\\t‘뚝’하는\\t \\t\\n소리가\\t나요!\\t \\t\\n(뚝,\\t딱,\\t뚜둑,\\t달그락\\t등) ▶냉장고 안의 온도가 변할 때 부품이 늘어나거나 줄어들면서 나는 소리입니다.\\n ▶냉각기에 붙어있는 성에가 녹을 때에도 유사한 소리가 발생합니다. 고장이 \\n아니니 안심하고 사용하세요.\\n‘웅~’,\\t‘웽~’,\\t‘드르륵’,\\t\\n‘덜컥’하는\\t소리가\\t나요! ▶냉장고의 운전이 시작되거나 끝날 때 압축기나 팬 등에서 나는 소리입니다. \\n또는 냉장고 주변온도나 냉장고 안의 상태에 따라 압축기나 팬이 자동으로 빨리 회전했다가 느리게 회전하는 것을 반복하면서 소리가 커졌다 작아졌다\\n할 수 있습니다. 이는 자동차의 시동을 켜거나 끌 때, 또는 가속할 때 발생하\\n는 소리와 유사한 원리이며, 고장이 아니니 안심하고 사용하세요.\\n방금\\t설치했는데\\t소리가\\t\\n크게\\t들려요! ▶처음 냉장고를 운전하거나 정전 등으로 냉장고가 재가동될 경우, \\n \\n냉장고 안의 온도를 빨리 낮추기 위해 압축기나 팬이 빠르게 회전하게  \\n됩니다. 이때 소리가 크게 들릴 수 있으며, 길게는 2~3일 이후 일정 온도  \\n이하로 내려가면 압축기나 팬의 회전 속도가 낮아지며 소리가 줄어듭니다. \\n고장이 아니니 안심하고 사용하세요.\\n냉장고\\t문을\\t닫은\\t직후에\\t\\n소리가\\t나요!', '고장이 아니니 안심하고 사용하세요.\\n냉장고\\t문을\\t닫은\\t직후에\\t\\n소리가\\t나요!\\t \\t\\n(쉬~익,\\t뚜둑\\t등) ▶문을 열었다 닫으면 냉장고 안으로 들어온 공기가 빠르게 냉각되면서,  \\n내부 압력이 일시적으로 낮아져 냉장고 뒷면에서 ‘쉭~’하는 바람 새는 소리\\n가 나거나, 냉장고 내부구조가 일시적으로 변형되면서 ‘뚜둑’과 같은 소리가 날 수 있습니다. 고장이 아니니 안심하고 사용하세요.\\n소음이\\t심하고\\t이상한\\t\\n\\t\\n소리가\\t나요. ▶설치 장소의 바닥이 평평하면서 단단한 곳에 설치하세요.\\n ▶냉장고 뒷면과 옆면을 벽면에서 5 cm 이상 띄워주세요.\\n ▶냉장고 뒷면과 옆면에 물건이 있다면 다른 곳으로 치워주세요.\\n ▶냉장고 위에 무거운 물건을 올리지 마세요.17\\n  고장신고 전 확인 사항\\n증\\t상 확인\\t및\\t처리\\n냉장고\\t안에서\\t냄새가\\t \\t\\n나요.\\t\\n얼음에서\\t냄새가\\t나요. ▶김치 등의 반찬류는 반드시 뚜껑을 덮거나 랩을 씌워 보관하세요.  \\n특히 육어류, 건어물 등은 꼭 비닐 포장하여 보관하세요. 냉장고 안에 오래 \\n보관된 식품도 냄새의 원인이 될 수 있습니다.\\n ▶식품을 보관하는 통에서 식품이 넘쳐있으면 그 냄새가 얼음에 영향을  \\n미칠 수 있으니 깨끗이 닦아주세요.\\n ▶수돗물로 얼음을 만들 경우 소독약품 냄새가 날 수 있으므로 생수 또는  \\n정수기로 여과된 물을 사용하시면 좋습니다.\\n ▶냉장고 내부를 청소할 때는 식품을 다른 곳에 보관하시고, 제품의 전원코드를 뺀 다음 2~3시간 후 마른행주로 닦은 후 냉장고 내부를 환기시켜 보세요.\\n ▶식빵, 원두커피, 참숯, 동판 등을 넣으면 냄새가 제거됩니다.\\n냉장고\\t문이\\t잘\\t안\\t열려\\n요! ▶냉장고 앞쪽이 뒤쪽보다 높지 않은 지 확인하시고, 만약 높다면 냉장고 조절\\n다리로 수평조절을 하세요.\\n ▶냉장고 문을 1~2회 천천히 열었다 닫아보세요.\\n ▶냉장고 문의 좌우를 잘 맞춰서 부드럽게 열어보세요.\\n정면에서\\t보면\\t문이\\t약간\\t\\n내려가\\t있어요.', '정면에서\\t보면\\t문이\\t약간\\t\\n내려가\\t있어요.\\t \\t\\n문의\\t위,\\t아래\\t간격이\\t맞지\\t않아요. ▶문의 무게 차 혹은 보이지 않는 하중이 작용하여 이와 같은 현상이 나타날 \\n수 있습니다. 문의 높이 차 조절은 냉장고 수평 조절 및 냉장고 문 높이 / 간\\n격 차 조절 방법을 참조하여 주세요.\\n ▶문의 간격이 맞지 않는 것도 위와 같은 이유 때문입니다. \\n \\n문의 간격 차 조절은 냉장고 수평 조절 및 냉장고 문 높이 / 간격 차 조절  \\n방법을 참조하여 주세요.\\n냉동실에\\t성에가\\t생겨요!\\t\\n(냉장실에\\t이슬이\\t맺혀요) ▶주위의 온도나 습도가 높거나, 냉장고 문을 장시간 열어 둔 경우,  \\n또는 수분이 많은 식품을 뚜껑 없이 보관했을 경우에도 성에나 이슬이  \\n생길 수 있습니다.\\n ▶냉장고를 사용한 후에는 문이 제대로 닫혔는지 확인해 주세요.\\n냉장고\\t본체,\\t냉동실\\t실내등\\t덮개에\\t이슬이\\t맺혀요! ▶냉동실 실내등은 열이 발생하므로 장시간 열어 놓았을 경우, 바깥과 냉동실\\n의 온도 차에 의해 성에가 생길 수 있습니다. \\n ▶냉장고 주위의 습도가 너무 높은 날에는 공기 중의 물기가 냉장고의 차가운 \\n면에 닿아 이슬이 맺힐 수 있습니다.\\n만지면\\t뜨거워요! ▶냉장고를 빨리 차갑게 하거나 절전을 위해 앞면 둘레와 옆면에 열이 나는 \\n관이 있기 때문입니다.  특히 처음 설치했거나 여름에는 뜨겁게 느껴질 수 있으나 고장이 아닙니다.18\\n  고장신고 전 확인 사항\\n증\\t상 확인\\t및\\t처리\\n냉동/냉장이\\t전혀\\t안돼요.\\t\\n(냉각이\\t약해요) ▶전원 플러그가 빠져있지 않은 지 확인해 주세요.\\n ▶높은 온도로 조절되어 있다면 잠금/풀림 버튼을 3초간 눌러 잠금 설정을  \\n해제한 후 낮은 온도로 조절하세요.\\n ▶냉장고 주위에 햇볕이 내리쬐거나 열기구가 있지 않은 지 확인하세요.\\n ▶냉장고 뒷면과 벽은 5 cm 이상 간격을 띄우고 설치하세요.\\n냉장고\\t바닥에서\\n뜨거운\\t바람이\\t나와요. ▶냉장고 내부온도를 낮추기 위한 기계(콤프레서)가 동작하면서 발생하는 열이', '방출되는 것으로, 냉장고 옆면에서 방출되도록 설계되어 있습니다.  \\n냉장고 옆면이 벽 등으로 막힌 경우는 전면으로도 뜨거운 바람을 느낄 수  \\n있으며, 이 현상은 고장이 아닙니다.\\n냉장실의\\t식품이\\t얼어요. ▶냉장실 온도가 너무 낮은 온도로 설정되어 있다면 적절한 온도로 조절하세요.\\n ▶설치 장소의 주위 온도가 5 ℃ 이하일 경우는 식품이 얼 수 있습니다.\\n ▶수분이 많은 식품은 선반 앞쪽에 보관하세요. 안쪽의 차가운 공기에 직접  \\n닿으면 얼 수 있습니다.\\n냉장고가\\t멈추지\\t않고\\t \\t\\n계속\\t가동돼요! ▶냉장고 내부온도를 낮추기 위한 기계(콤프레서)의 동작이 멈추어도 차가워진 공기를 일정하게 유지하기 위해 냉장고 내부에 위치한 냉각 팬(FAN)이 동작\\n하기 때문입니다. \\n \\n이는 정상적인 동작이니 안심하고 사용하세요.(단, 냉장/냉동실 문을 열었을 때 이 동작은 멈춥니다.)\\n온도\\t표시부가\\t켜지지\\t\\n\\t\\n않아요. ▶에너지 절약을 위해, 아무런 조작이 없으면 일정시간 후에 온도 표시부가  \\n꺼집니다. 버튼을 누르거나, 냉장고 문을 여닫으면 다시 켜집니다.\\n냉장고\\t표시부\\t버튼을\\t \\t\\n눌러도\\t작동하지\\t않아요. ▶잠금 기능이 켜져 있지 않은 지 확인하세요.\\n ▶버튼을 젖은 손으로 만지거나, 물걸레 등으로 청소할 경우 동작하지 않을 수 있습니다. 이는 물기를 제거하면 정상적으로 사용할 수 있습니다.\\n냉장실\\t안에서\\t비릿한\\n냄새가\\t나요. ▶이온살균청정기+에서 발생하는 음이온 등의 살균 성분이 냄새(김치 냄새 등)\\n및 대장균이나 황색포도상구균과 같은 세균을 살균하며 냉장고 내부의 냄새\\n를 줄여줍니다. 이때 반응하는 세균이나 냄새의 종류에 따라 미세한 \\n \\n비린내를 느낄 수도 있으나, 이는 정상이므로 안심하고 사용하세요.\\n ▶비린내가 불쾌할 경우, 표시부(디스플레이)의 이온살균청정기+ 버튼을 눌러 하루 정도 꺼 두시면 비린내가 사라집니다.19\\n  고장신고 전 확인 사항 - 탄산수 모델용\\n증\\t상 확인\\t및\\t처리\\n물\\t공급기로\\t물을\\t받을', '증\\t상 확인\\t및\\t처리\\n물\\t공급기로\\t물을\\t받을\\t\\n때\\t뿌옇게\\t나와요! ▶본 제품에 적용된 필터는 활성탄 카본필터입니다. 이 필터에서 흘러나온  \\n물은 압력이 증가하여 많은 산소와 질소로 포화 상태가 됩니다. 이 물이 공기 \\n중으로 나오면 압력이 치솟으면서 산소와 질소가 과포화 상태가 되어 기포로 바뀝니다. 이 기포로 인해 물을 받을 때 일시적으로 뿌옇게 나올 수 있으며, \\n수 초가 지나면 기포가 사라져 물이 맑아집니다. 고장이 아니니 안심하세요.\\n물\\t공급기(디스펜서)가\\t\\n동작하지\\t않아요. ▶급수관의 수로관 밸브가 잠겨있지 않은 지 확인해 주세요.\\n ▶급수관이 망가졌거나 눌려있지 않은 지 확인하세요.\\n ▶필터가 정상적으로 조립되어 있는지 확인해 주세요. 필터가 제대로 조립되지 \\n않으면 물/얼음/탄산수가 나오지 않습니다.\\n ▶냉장실의 온도가 너무 낮으면 물탱크가 얼 수 있습니다.\\n \\n냉장실 온도를 확인하고, 너무 낮을 때에는 온도를 높여보세요.\\n ▶수로관 튜브가 막혔거나 이물질이 끼어있지 않은 지 확인하세요.\\n물\\t공급기(디스펜서)에서\\t\\n얼음이\\t만들어지지\\t \\t\\n않아요. ▶급수관을 설치한 후 12시간 이후에 얼음이 만들어집니다. \\n ▶급수관의 수로관 밸브가 잠겨있지 않은 지 확인해 주세요.\\n ▶필터가 정상적으로 조립되어 있는지 확인해 주세요. 필터가 제대로 조립되지 \\n않으면 물/얼음/탄산수가 나오지 않습니다.\\n ▶제빙정지 기능을 설정했는지 확인해 주세요.20\\n증\\t상 확인\\t및\\t처리\\n탄산수가\\t나오지\\t않아요. ▶급수관의 수로관 밸브가 잠겨있지 않은 지 확인해 주세요.\\n ▶필터가 정상적으로 조립되어 있는지 확인해 주세요. 필터가 제대로 조립되지 \\n않으면 물/얼음/탄산수가 나오지 않습니다.\\n ▶스파클링 선택 레버를 밑으로 다시 내린 후 시도해 보세요. (셰프콜렉션 모델\\n에 해당)\\n ▶스파클링 버튼을 누른 후 다시 시도해 보세요. (T9000 스파클링 모델에 해당)\\n ▶스파클링 제조설정 버튼의 컵 모양 아이콘 속 작은 아이콘이 차례로 켜지고', '▶스파클링 제조설정 버튼의 컵 모양 아이콘 속 작은 아이콘이 차례로 켜지고  \\n있는지 확인해 주세요. 제조가 완료되면 아이콘이 모두 켜져 있게 됩니다.\\n ▶스파클링 급속제조 버튼의 가로 막대 아이콘이 켜져 있는지 확인해 주세요.  \\n가로 막대 아이콘 개수가 탄산수 탱크에 남아있는 탄산수의 양을 의미합니다.\\n ▶탄산가스 실린더가 비어 있지 않은 지 확인해주세요. 탄산가스 실린더가  \\n비어있으면 탄산수 맛이 약할 수 있습니다. 실린더를 교체해 주세요.  \\n탄산가스 실린더 교체(분해/조립)로 인해 서비스 방문 요구 시 유상 서비스  \\n대상입니다.\\n ▶냉장고 문이 열려있지 않은 지 확인해 주세요. 냉장고 문이 열려 있으면  \\n탄산수가 나오지 않습니다.\\n ▶탄산가스 실린더 레버가 잠겨 있지 않은 지 확인해 주세요. 실린더 커버를  \\n열어서 실린더 레버를 아래로 내려 잠금 위치에 놓아주세요.\\n ▶탄산수 혹은 물을 약 1분 이상 연속으로 받을 경우, 잠시 공급이 차단될 수 있습니다. 계속 사용하시라면 레버를 다시 눌러주세요\\n탄산수\\t농도가\\t약해요. ▶탄산수 농도를 3단계로 설정하여 사용해 보세요.\\n ▶탄산가스 실린더가 비어 있지 않은 지 확인해주세요. 탄산가스 실린더가 \\n \\n비어있으면 탄산수 맛이 약할 수 있습니다. 실린더를 교체해 주세요.  \\n탄산가스 실린더 교체(분해/조립)로 인해 서비스 방문 요구 시 유상 서비스  \\n대상입니다.\\n급속\\t제조를\\t하면\\t \\t\\n“푸~”\\t소리가\\t나요. ▶탄산수를 빨리 만들기 위해서 탄산 가스를 주입하는 동작과 남은 가스를  \\n배출하는 동작을 반복합니다. 이 때, 가스 배출 소음이 들릴 수 있습니다.  고장신고 전 확인 사항 - 탄산수 모델용21\\n※\\t환경보호\\t및\\t자원\\t재활용을\\t위해\\t폐\\t전자제품은\\t다음과\\t같이\\t처리하셔야\\t합니다.\\n유료처리무료처리\\n고객께서\\t삼성전자\\t제품을\\t새로\\t구입하고\\t폐\\t제품을\\t버리고자\\t하는\\t경우,\\t새\\t제품\\t\\n배달설치\\t시\\t제조자\\t구분\\t없이\\t설치기사가\\t모든\\t제품을\\t무료로\\t수거해\\t드립니다.', '배달설치\\t시\\t제조자\\t구분\\t없이\\t설치기사가\\t모든\\t제품을\\t무료로\\t수거해\\t드립니다.\\n신규\\t제품\\t구입\\t없이\\t기존에\\t사용하던\\t제품을\\t버리고자\\t하는\\t경우,\\t관할\\t주민자치센터에\\t\\n연락하시어\\t처리하시면\\t됩니다.  폐 전자제품 처리 안내\\n재질표시\\t마크\\n합성수지 부품의 재료를 표시하여  \\n재활용이 가능한 폐기물을 재활용업자 등이  \\n쉽게 구분할 수 있도록 표시한 마크입니다.재활용\\t마크\\n물품을 사용한 후에 발생되는 폐기물 중에  \\n재활용이 가능한 물품을 사용자가 구별할 수  \\n있도록 표시한 마크입니다. (종이류, 고철류, \\n유리병류, 합성수지류 등)\\u0ab1\\u07b9\\u0a57\\u0b96ࣃఠ\\n\\u0ad1\\u0a7f\\u0a62ࣗ\\n\\u0ab1\\u07b9\\u0a57\\u0b96ࣃఠ\\n\\u0ad1\\u0a7f\\u0a62ࣗTip!\\t\\n직접운반(Hand Carry)이 가능한 소형 폐 제품은 제품구입 및 수리와 상관없이 가까운 삼성전자 대리점 또는 서비스센터로 가져오시면 무료로 처리해 드립니다.23\\nݺ\\x01؛\\x01ݽ\\nҳੑ֙ਘ \\x01\\x01\\x01\\x01\\x01֙ਘ\\x01\\x01\\x01\\x01\\x01ੌ 4FSJBM\\x01/P\\x0f\\nҳ\\x01ੑ\\x01\\u0b4a\\u0a77൞\\x01ࢿ\\u0896\\u0a79\\u0a57ী\\x01חࢲಿ࠺ࣗ\\x01߹ݾ\\u0a57\\x01࠙੬\\x01೧Ѿӝળ \\tҕ\\u0a7fѢېਤਗഥ\\x01Ҋद\\n ী\\x01ۄٮ\\nইې৬\\x01э\\u0a49\\x01ઁಿী\\x01\\u0600ೠ\\x01ࠁૐਸ\\x01पद\\u0ce4࠺ࢲ\\x01\\x0f\\u05eeפझ\\x01ਃ\\u0b52\\x01द\\r\\x01ࢿ\\u0896\\u0a79\\u0a57࠺ࢲझ\\t\\u0ab1\\n\\x01חژ\\n\\u0ad1\\u0a7f\\x01ػഈࢎ۱ী࠺ࢲ\\x01ࢲझ\\u0ce4࢚ࠁ\\x01\\x0f\\u05eeפৈ\\x01߂\\x01ࠗղਊా\\x01חࠁਃҳੌࠗ۽ఠ\\x01\\x18ੌ\\x01\\u0a49ղী\\r\\nೖ೧࢚ࠁ\\u0a37\\x01ాࠁੌࠗ۽ఠ\\x01\\x12\\x15ੌ\\x01\\u0a49ղী\\x01೧Ѿೞৈ\\x01\\x0f\\u05eeפ݀٘\\n\\x9c\\x01ੌ\\x01߈ઁಿਸ\\x01\\u09d4সਊਵ\\x01۽\\u0a79ജೞৈ\\x01ࢎਊೡ\\x01҃\\u0a0b\\r\\x01ࠁૐӝр\\u0a37\\x01߈ਵױ\\x01۽୷\\x01\\u0a78ਊ\\x0f\\u05eeפؾ\\n\\x9c\\x01ҳੑ\\x01റ\\x01\\x12\\t֙ઁಿࠁૐӝр\\n\\x01\\u0a49ղী\\x01ઁಿ\\u0a49\\x01Ҋ\\u0a62դ\\x01҃\\u0a0bী࠺ࢲܐޖ\\x01݅झ߉\\x01ܳਸ\\x01\\x01ࣻ\\u0a53ण\\x0f\\u05eeפ\\n\\x9c\\x01\\u0a49\\x01ࠁૐ\\x01חࢲೠҴীࢎ\\x01݅ࢲਊ\\u05ee\\x01\\rݴغद\\x01ߊ೯غ\\u0ad1\\x01ঋਵࢎ\\x01۽\\u07b2ਊࢲݺࢸ৬\\x01ೣԋ\\x01ੜ\\x01ࠁҙ೧\\u0ab1ࣁਃ\\x0f\\n\\x9c\\x01೨बࠗಿ\\x01ࠁૐӝр\\u0a49\\x01թই\\x01\\u0a53য\\x01بઁಿ\\x01ࠁૐӝр\\t\\x12\\n֙\\u0a49\\x01҃җ\\x01ೞ\\u09d3\\x01ݶ\\u05eeҮജ\\r\\x01ജࠛ\\u0a49\\x01ই\\x01צ\\n\\x01\\x01\\x01\\x01೨बࠗಿ\\x01\\x01ܻ݅ࣻ\\x01࢚ޖоמ\\u0ce4\\x0f\\u05eeפҊ\\u0a62\\u0a49\\x01ই\\x01צ҃\\u0a0b\\n࠺ࣗ\\u0a57\\x01җप\\x01۽Ҋ\\u0a62դ\\x01҃\\u0a0b\\nӒ\\x01߆\\u0a44\\x01҃\\u0a0b࠺ࣗ\\u0a57\\u0a44\\x01Ҋ\\u0a44\\r\\x01җप\\x01۽ੋೠ\\x01Ҋ\\u0a62ੋ\\x01҃\\u0a0b࠺ࣗ\\u0a57\\x01ೖ೧ਬഋ ಿ\\u0ad5ࠁૐӝр\\x01\\u0a49ղ ಿ\\u0ad5ࠁૐӝр\\x01\\u0a49റ\\nಿ\\u0ad5ࠁૐӝр\\x01\\u0a49ղ ಿ\\u0ad5ࠁૐӝр\\x01\\u0a49റઁಿӝࢎ\\x01מਊ࠙\\x01߂\\x01ݺࢸ೧ೞ\\u0ad1\\x01ঋҊ\\x01\\u0b4aܻೞח\\nрױೠ\\x01ઑ\\u0a7fद', 'рױೠ\\x01ઑ\\u0a7fद\\n\\x01ػ࣠ߓઁಿ\\u0a44\\x01ୡӝࢸ\\u0b96\\x01\\x01߂౸ݒ\\u0a7cীࢲ\\nࠗपೞѱ\\x01ࢸ\\u0b96೧\\u0ab1য\\x01\\u0a64ࢸ\\u0b96द\\nઁಿ\\u0a44\\x01\\u0a49\\x01߂\\x01ز\\u0a49١\\x01ࢎਵ\\x01۽ੋೠ\\x01ࢸ\\u0b96ࠗपद\\nҳੑद\\x01Ҋё\\u0a49\\x01ࢸ\\u0b96ೞӝ\\x01۽ೠ\\x01ઁಿਸ\\nҊё\\u0a49\\x01\\u0a64ࢸ\\u0b96\\x01ਃ\\u0b52द\\nࣁୋ\\x01\\x01߂\\u0a49ޛઁѢ\\x01۽ੋೠ\\x01࠺ࢲझ\\x01ਃ\\u0b52द\\nୌ\\u0a64\\u0ad1\\t߸բ\\x01\\r܉ച\\u0a64\\r\\x01\\u09cf೧\\r\\x01ࣻ೧\\x01\\n١ী\\x01\\u0a44ೠ\\x01Ҋ\\u0a62\\x01ࢤߊद\\nࠗ\\x01ࢿݽࣗಿ\\u0a44\\x01ݺࣻ\\u0a49\\x01\\u05eeೠ\\x01҃\\u0a0b\\tࠁૐӝр\\x01\\u0a49ղ\\x01ನೣ\\n۔\\u0cd0\\x01\\rܨ\\u0cd9ఠ\\x01\\rܨೊૉ\\x01١ܻࣻо\\x01ࠛоמೠ\\x01҃\\u0a0bҳੑ\\x01റ\\x01\\x12\\x11ੌ\\x01\\u0a49ղী\\x01\\u0a7f࢚\\u0a78ੋ\\x01ࢎਊ࢚కীࢤߊ\\x01ࢲೠ\\n\\x10מࢿӝ\\x01࢚מೞ\\u0a57\\x01۽\\u0abaਃೠ\\x01\\x01ܻܳࣻਃೡ\\x01ٸઁಿҮജ\\x01\\x01חژҳੑо\\x01ജә\\nઁಿҮജ\\x01\\x01חژҳੑо\\x01ജәઁಿҮജ\\x01ܻ࢚ࣻޖ\\x01חژ\\nઁಿҮജ\\nҳੑо\\x01ജә೧\\u05fcহ\\u0a3a\\nਬܻ࢚ࣻ\\n\\u0a7fঘ\\x01хо࢚п\\x01Әঘ\\n\\x12\\x11\\x01\\x06\\x01о\\u0891ೞৈ\\x01ജә\\n\\u0a7fঘ\\x01хо࢚п\\x01ਖ਼ৈ\\x01Әঘী\\nҳੑо\\u0a44\\x01\\x16\\x01\\x06\\x01о\\u0891ೞৈ\\x01ജә\\n\\u0a7fঘ\\x01хо࢚п\\x01റ\\x01ജܻ࢚ࣻޖࠛ\\nਬܻ࢚ࣻী\\x01೧\\u05fcೞח\\nӘঘ\\u0ada\\x01ࣻറ\\x01ઁಿҮജ\\nਬܻ࢚ࣻਬ\\x01ܻ࢚ࣻӘঘ\\u0ada\\x01ࣻറ\\nхо࢚п\\u0a78ਊ\\x01ઁಿҮജ\\nਬܻ࢚ࣻҳੑ\\x01റ\\x01\\x12ѐਘ\\x01\\u0a49ղী\\x01\\u0a7f࢚\\u0a78ੋ\\x01ࢎਊ࢚కীࢤߊ\\x01ࢲೠ\\n\\x10מࢿӝ\\x01࢚מೞ\\u0a57\\x01۽\\u0abaਃೠ\\x01\\x01ܻܳࣻਃೡ\\x01ٸ\\nಿ\\u0ad5ࠁૐӝр\\x01\\u0a49ղী\\x01زੌ\\x01ೞ\\u0a57\\x13\\x01۽ഥө\\u0ad1\\x01Ҋ\\u0a62\\x01\\x01ࢤߊद\\nಿ\\u0ad5ࠁૐӝр\\x01\\u0a49ղী\\x01زੌ\\x01ೞ\\u0a57\\x14\\x01۽ഥ૩\\x01Ҋ\\u0a62\\x01\\x01ࢤߊद\\nಿ\\u0ad5ࠁૐӝр\\x01\\u0a49ղী\\x01\\x01ܲ\\u05ee\\x01۽ࢲೞ\\u0a57\\x16\\x01۽ഥ૩\\x01Ҋ\\u0a62\\x01\\x01ࢤߊद\\nӝఋ\\x01ࢎਬܻࣻ\\x01۽о\\x01ࠛоೠ\\x01҃\\u0a0b࠺ࣗ\\u0a57о\\x01ܻࣻ\\u0a44܉ೠ\\x01ઁಿਸ\\x01ࢎস\\u0a57о\\x01࠙प\\x01दઁಿҳੑद\\r\\x01\\u0a0d࣠җ\\u0a7f\\x01\\x01߂ઁಿࢸ\\u0b96\\x01\\u0aba\\x01ࢤߊೠ\\x01ೖ೧\\nҮജ\\x01ػઁಿ\\u0a49\\x01\\x12ѐਘ\\x01\\u0a49ղী\\x01\\u0abaਃೠ\\x01ܻܳࣻ\\nਃೞ\\x01חҊ\\u0a62\\x01ࢤߊद\\x01\\x01חژҮജ\\x01ࠛо\\x01द\\nࠗಿ\\x01ࠁਬӝр\\x01\\u0a49ղী\\x01ܻࣻਊ\\x01ࠗಿਸࠁਬೞҊ\\x01\\u0a53\\u0ad1\\x01ঋই\\x01ܻࣻо\\x01ࠛоೠ\\x01҃\\u0a0b\\nܻࣻо\\x01оמೠ\\x01҃\\u0a0b࠺ࣗ\\u0a57\\u0a44\\x01ஂә\\x01ࠗ\\u0ab1\\u0a44\\x01\\x01חژೣ\\x01߂\\x01ܻࣻ\\x01۽ࠗѐઑೞৈ\\nҊ\\u0a62\\x01ࢤߊद\\nࢿ\\u0896\\u0a79\\u0a57\\t\\u0ab1\\n\\x01࠺ࢲझ\\x01ਤఌস\\u0b53ੋ\\nࢿ\\u0896\\u0a79\\u0a57࠺ࢲझ\\t\\u0ab1\\n\\x01ӝ\\x01߂\\x01ࢎഈ\\x01ࢎ۱ӝࢎоইۈࢎ\\x01צ\\u0a49\\x01ܻࣻೞৈ\\x01Ҋ\\u0a62\\x01ࢤߊद\\n\\u0a79ӝ\\x01ਊ\\u06ddਸ\\x01ܰ\\u05eeѱ\\x01ࢎਊೞৈ\\x01Ҋ\\u0a62\\x01ࢤߊद\\n\\t\\u09d8\\x1b\\x01\\x13\\x13\\x11\\x017\\x01ઁಿਸ\\x01\\x12\\x12\\x11\\x017\\x01\\u0a79ਗী\\x01ࢎਊೠ\\x01҃\\u0a0b\\x01\\n١\\n৻\\x01ࠗ\\u0b7dѺ\\u0a49ա\\x01ڄয١\\x01ܿڰী\\x01\\u0a44ೠ\\x01Ҋ\\u0a62\\u0a49ա\\nࢤߊ\\x01࢚ࣚद\\nࢿ\\u0896\\u0a79\\u0a57ী\\x01ࢲ\\u0ad1\\u0a7fೞ\\u0ad1\\x01ঋ\\u0a37\\x01ݽࣗಿ\\u0a49ա\\x01২࣌ಿ\\nࢎਊਵ\\x01۽ੋೠ\\x01Ҋ\\u0a62\\x01ࢤߊद', 'ࢤߊ\\x01࢚ࣚद\\nࢿ\\u0896\\u0a79\\u0a57ী\\x01ࢲ\\u0ad1\\u0a7fೞ\\u0ad1\\x01ঋ\\u0a37\\x01ݽࣗಿ\\u0a49ա\\x01২࣌ಿ\\nࢎਊਵ\\x01۽ੋೠ\\x01Ҋ\\u0a62\\x01ࢤߊद\\nࢎਊ\\x01ࢲݺࢸղ\\u0a44\\x01t\\u0ab1\\u0a44\\x01ࢎ೦uਸ\\x01\\u0ad1ః\\u0ad1ঋই\\x01Ҋ\\u0a62\\x01ࢤߊदઁಿ\\x01ࠁૐ\\nӝр\\u0a37\\x01\\x01\\x01\\x01\\x01\\r\\n೨बࠗಿ\\t\\u0991୷ӝ\\nࠁૐӝр\\u0a37\\x01\\x01\\x01\\x01\\x01\\x01\\r\\nࠗಿ\\x01ࠁਬ֙ೠ\\u0a37\\n\\x1a֙ੑ\\x0f\\u05eeפ֙\\x12\\n֙\\x14\\nXXX\\x0fTBNTVOH\\x0fDPN\\x10TFD\\x10\\x9c\\x01պ\\u0a62Ҋ\\x01೨बࠗಿੋ\\x01\\u0991୷ӝ\\u0a44\\x01ࠁ\\x01࢚ޖૐӝр\\u0a37\\x01ҕ\\u0a7fѢېਤਗഥ\\x01Ҋदӝળ\\x01\\x14֙\\u0a49ա\\r\\x01ੋߡఠ\\x01\\u0991୷ӝ\\tনޙഋ\\x01պ\\u0a62Ҋ\\x10झగ ٘ഋ\\x01ӣ\\u0b96պ\\u0a62Ҋ\\nࠁ࢚ޖ\\x01֙\\x11\\x12\\x01חૐ\\u0ce4\\x0f\\u05eeפ설치 및 올바른 사용법\\n삼성 지펠 냉장고\\n※ 제품 사용에 필요한 내용이 포함되어 있으니 사용 전에 반드시 설명서를 읽어보세요.\\n사이버 서비스센터 홈페이지서비스센터 대표번호\\n삼성전자주식회사      제조자 : 삼성전자(주)  /  제조국가 : 대한민국고객이 직접 원하는 날짜와 시간에 서비스 접수와  \\n실시간 사이버 상담이 가능한 사이버 서비스센터를 운영하고 있습니다.고장 접수 및 재설치 문의\\n전국 어디서나\\n제품 모델명, 고장상태, 연락처를 정확히 알려주시면 고객 여러분의  \\n궁금한 점을 언제나 친절하게 상담, 빠른 서비스를 제공합니다.1588-3366\\nwww.samsungsvc.co.kr인터넷 홈페이지고객상담실\\n02-541-3000\\n080-022-3000·  제품의 외관, 사양 등은 제품 개선을 위해 예고없이 변경될 수 있습니다.\\n·  공용설명서로 설명서의 그림은 구입하신 제품과 일치하지 않을 수도 있습니다.\\n·  사용설명서 내에 보증서가 있으므로 분실되지 않도록 잘 보관해 주세요.\\nwww.samsung.com/sec/사용설명서삼성 지펠 냉장고  \\n(상냉장 하냉동 T-Type 구조 탄산수)\\nFrench type Refrigerator\\n본 제품은 대한민국에서만 사용하도록 만들어져 있으며,\\n해외에서는 품질을 보증하지 않습니다.(FOR KOREA UNIT STANDARD ONLY)권장안전사용기간  7년\\n안전사용기간을 초과하여 사용하면 제품 노후로 인하여 화재 및 부상 등을 초래할 수 있습니다. 반드시 안전점검을 받도록 하십시오.', '제품 에너지효율등급 관련\\n에너지소비효율등급라벨 또는 에너지소비효율라벨에 명기된 에너지 비용 표시사항과 실제 에너지비용은 소비자가 실제 사용하는 에너지사용량, 에너지사용시간 또는 전기요금 인상 등 에너지가격 변동에 따라 달라질 수 있습니다.French type Refrigerator3French type Refrigerator\\n목차\\n\\t 각\\t부분의\\t이름\\t 4\\n\\t 냉장고\\t문\\t분리하기\\t 6\\n\\t 냉장고\\t문\\t조립하기\\t 8\\n\\t 냉장고\\t수평\\t조절\\t및\\t냉장고\\t문\\t높이\\t/\\t간격\\t차\\t조절\\t방법\\t 10\\n\\t 급수관\\t설치방법\\t 12\\n\\t 탄산가스\\t실린더\\t설치방법\\t 14\\n\\t 식품\\t보관\\t방법\\t 16\\n\\t 버튼의\\t기본\\t기능\\t 18\\n\\t 얼음/탄산수/물\\t공급기(디스펜서)\\t사용\\t방법\\t 23\\n\\t 제빙기\\t동작\\t확인\\t및\\t사용\\t방법\\t 25\\n\\t 스마트\\t케어\\t기능\\t사용\\t방법 \\t25\\n\\t 청정제균탈취기\\t필터\\t교체\\t방법\\t 26\\n\\t 스마트\\t에코의\\t특징\\t 26\\n\\t 수분케어의\\t특징\\t 27\\n\\t 청소\\t및\\t손질\\t방법\\t 28\\n\\t 정수\\t필터\\t교체\\t방법\\t 30\\n\\t 탄산가스\\t실린더\\t교체방법\\t 31\\n\\t 냉장고\\t사용에\\t필요한\\t공간\\t 334\\n냉동실표시부\\n냉동실\\t문탄산수/물/얼음\\t공급기(디스펜서)\\n냉장실각\\t부분의\\t이름5\\n참맛냉동실문간격\\t차\\t조절부\\n냉동실 문과 냉장실 문 간의 간격\\n을 조절하는 부분\\n손잡이\\n냉장실\\t문\\n문\\t높이\\t차\\t조절부\\n냉장실\\n문\\t높이\\t차\\t조절부6\\n냉장고\\t문\\t분리하기\\n주택 또는 아파트의 현관문보다 냉장고가 큰 경우 이동의 편의를 위한 냉장고 문의 분리/조\\n립 방법입니다.\\n[냉장실 문 분리하기]\\n1.\\t문을\\t닫은\\t상태에서\\t십자(+)\\t드라이버로\\t상단\\t덮개[A]를\\t\\n고정하는\\t나사\\t3개를\\t풀고,\\t연결된\\t전선과\\t함께\\t들어올리세요.\\nA\\n2.\\t왼쪽\\t문에\\t있는\\t커넥터\\t두\\t개와오른쪽\\t문에\\t있는\\t커넥터\\t한\\t개를\\t각각\\t분리한\\t다음,\\t급수관\\t커플러의\\t흰색\\t부분[D]을\\t눌러\\t급수관[E]을\\t분리하세요.\\t붉은색\\t클립이\\t있을\\t경우에는\\t제거하고\\t분리하세요.\\t(모델에\\t따라\\t차이가\\t있을\\t수\\t있습니다.)\\n적색 클립 \\n6.35 mm D\\nDEE', '적색 클립 \\n6.35 mm D\\nDEE\\n3.\\t고정구[B]를\\t위로\\t젖힌\\t다음(1),\\t앞(2)으로\\t빼세요.\\n4.\\t힌지[C]를\\t분리하세요.\\n5.\\t냉장실\\t문을\\t위로\\t들어올려\\t빼세요.\\n ▶문 분해 및 조립 시, 전선이 벗겨지지 않도록 주의하세요.\\n ▶문이 넘어지지 않도록 주의하세요.7\\n[냉동실 문 분리하기]\\n1.\\t문을\\t연\\t상태에서\\t십자(+)\\t드라이버로\\t하단의\\t조절다리\\t덮개[a]\\n를\\t고정하는\\t나사를\\t풀고,\\t커넥터[b]를\\t분리하세요.\\nba\\n2.\\t냉동실\\t문의\\t위쪽에\\t있는\\t중간\\t힌지\\t뚜껑[c]을\\t위로\\t들어올려\\t\\t분리하세요.\\nc\\n3.\\t문을\\t화살표\\t방향으로\\t밀면서\\t중간\\t힌지\\t축[d]을\\t위로\\t들어올려분리하세요.\\nd\\n4.\\t문을\\t중간\\t힌지[e]와\\t닿지\\t않도록\\t하며\\t앞으로\\t살짝\\t기울이면서(1)\\t위로\\t들어올려(2)\\t분리하세요.\\ne\\t▶반드시\\t냉장실\\t문을\\t분리한\\t다음\\t냉동실\\t문을\\t분리하세요.\\n\\t▶냉동실\\t문\\t하단에는\\t전선이\\t연결되어\\t있으니\\t분리\\t시\\t주의하세요.8\\n\\t▶반드시\\t냉동실\\t문을\\t조립한\\t다음\\t냉장실\\t문을\\t조립하세요.\\n\\t▶냉동실\\t문\\t하단의\\t전선이\\t모두\\t연결되어\\t있는지\\t반드시\\t확인\\t후\\t조립하세요.\\n\\t▶문\\t하단의\\t전선이\\t눌리거나\\t찍혀\\t망가지지\\t않도록\\t주의하여\\t주세요.냉장고\\t문\\t조립하기\\n[냉동실 문 조립하기]\\n1.\\t분리했던\\t문을\\t하단부\\t힌지[a]에\\t맞추어\\t끼우면서(1)\\t화살표\\t\\t\\n방향(2)으로\\t밀어\\t넣어\\t주세요.\\t이때,\\t문이\\t중간\\t힌지[b]와\\t닿아\\t긁히지\\t않도록\\t주의하여\\t주세요. b\\na\\n2.\\t힌지\\t축[c]을\\t중간\\t힌지\\t홈[d]에\\t끼우고\\t힌지\\t뚜껑[e]을\\t덮어주세요.\\n ❖힌지축과 뚜껑 조립 시 방향을 확인한 후 조립하세요.\\nedc\\n3.\\t문을\\t연\\t상태에서\\t문\\t하단의\\t커넥터를\\t연결하세요.\\n4.\\t커넥터가\\t눌리거나\\t찍혀\\t망가지지\\t않도록\\t주의하며\\t\\t조절\\t다리\\t덮개를\\t십자(+)\\t드라이버로\\t고정해\\t주세요.9\\n[냉장실 문 조립하기]\\n1.\\t분리했던\\t냉장고\\t문을\\t중힌지에\\t맞추어\\t끼워주세요.\\n2.\\t냉장고의\\t힌지[C]를\\t고정\\t홈에\\t끼우고,\\t문의\\t구멍에\\t일치시켜\\t\\n누르세요.', '2.\\t냉장고의\\t힌지[C]를\\t고정\\t홈에\\t끼우고,\\t문의\\t구멍에\\t일치시켜\\t\\n누르세요.\\n3.\\t고정구[B]를\\t화살표\\t방향으로\\t끼워맞춘\\t후(1),\\t뒷부분을\\t내려서\\t고정(2)시켜\\t주세요.\\n4.\\t전선\\t커넥터를\\t조립하세요.\\n5.\\t급수관[E]를\\t연결한\\t후,\\t튜브를\\t\\t당기면서\\t커플러[F]에\\t붉은색\\t클립을\\t끼우세요.\\t왼쪽\\t문에\\t있는\\t커넥터\\t\\t한\\t개[G]와\\t오른쪽\\t문에\\t있는\\t커넥터\\t한\\t개[H]를\\t연결하세요.\\n적색 클립 \\n6.35 mmHG\\nFE\\n6.\\t덮개의\\t앞부분을\\t먼저\\t끼운\\t후\\t뒷부분을\\t눌러\\t닫은\\t후\\t십자(+)\\t \\t\\n드라이버로\\t고정해\\t주세요.\\n ▶클립은 상부 마개 안쪽에 \\n들어 있습니다.\\n ▶누수방지를 위해 급수관[E]을 커플러 중앙까지 완전히 끼운 다음, 붉은색 클립이 커플러에 완전히 결합되었는지 확인하세요. 표시선 중앙\\n클립(6.35 mm)E10\\n[수평 조절하기]\\n냉장고\\t설치\\t시,\\t바닥\\t면이\\t고르지\\t않으면\\t냉장고\\t수평이\\t맞지\\t않을\\t수\\t있습니다.\\n ▶수평을 맞추고자 하는 쪽의 조절다리 홈에 일자(-) 드라이버를 \\n꽂고 반시계, 혹은 시계 방향으로 돌려가며 수평을 맞추세요. \\n시계방향으로 돌리면 높아지고, 반시계 방향으로 돌리면 낮아\\n집니다.\\n[높이 차 조절하기]\\n한쪽문이\\t다른쪽\\t문에\\t비해\\t내려가\\t있으면\\n ▶문 높이를 조절하기 전에 냉장고의 수평이 맞는지 먼저 확인해 \\n주세요. (높이 조절 다리 이용)\\n ▶문의 높이차 조절은 냉장실 오른쪽 문 하단에 높이 조절 링을 \\n삽입하여 조절할 수 있습니다.\\n1\\n ▶문의 높이 차를 확인한 후, 적절한 두께의 높이 조절 링을 1개 골라주세요. 같은 쪽에 조절 링을  \\n2개 이상 끼우면 링이 빠지거나 문을 여닫을 때 소음이 생길 수 있으니 1개만 끼워주세요.\\n ▶기본 포함된 높이 조절 링은 1 mm / 1.5 mm / 2 mm / 2.5 mm 각 1개씩 입니다.\\n ▶식품을 보관하지 않은 상태에서 높이를 조절하고 사용하면 식품을 보관하였을 때  \\n그 하중에 의해 높이 차가 다시 생길 수 있습니다. 이때는 위의 조절 방법으로 다시  \\n조정해 주세요.', '조정해 주세요.\\n ▶과도하게 높이면 문을 여닫을 때 상단 힌지 덮개에 간섭이 발생할 수 있습니다. ▶냉장고 뒤쪽 수평이 맞지 않을 때는 냉장고 뒤쪽의 낮은 부분을 딱딱한 물체(책받침,  \\n자 등)로 괸 다음, 테이프로 고정하고 냉장고를 밀어 넣어 수평을 맞추세요.\\n ▶냉장고를 밀어 넣을 때 원목 마루 또는 장판이 찍히지 않도록 주의하세요.\\n ▶높이 조절 링을 끼우거나 뺄 때 손이 다치지 않도록 주의하세요.\\n ▶높이 조절 링을 어린이가 가지고 놀거나 입에 넣지 않도록 주의하세요.냉장고\\t수평\\t조절\\t및\\t냉장고\\t문\\t높이\\t/\\t간격\\t차\\t조절\\t방법11\\n[간격 차 조절하기]\\n냉장실\\t오른쪽\\t문과\\t왼쪽\\t문\\t사이의\\t간격이\\t일정치\\t않다면\\n ▶문의 간격 조절은 오른쪽 냉장실 문 상단에 위치한 조절 나사\\n로 할 수 있습니다.\\n ▶무리하게 조작하면 볼트가 파손될 수 있습니다.\\n1.\\t문을\\t닫은\\t상태에서\\t십자(+)\\t드라이버로\\t상단\\t덮개를\\t\\n고정하는\\t나사\\t3개를\\t풀고,\\t연결된\\t전선과\\t함께\\t\\t들어올리세요.\\n2.\\t4\\tmm\\t육각\\t렌치(“ㄱ”자\\t공구,\\t별도\\t구매)를\\t이용하여\\t간격을\\t조절합니다.\\n3.\\t볼트를\\t시계\\t방향(\\n)으로\\t돌리면\\t간격이\\t벌어지고,\\t\\n볼트를\\t반시계\\t방향( )으로\\t돌리면\\t간격이\\t좁아집니\\n다.\\t이렇게\\t문의\\t간격\\t차를\\t적당히\\t맞추어\\t주세요.냉장고\\t수평\\t조절\\t및\\t냉장고\\t문\\t높이\\t/\\t간격\\t차\\t조절\\t방법12\\n[급수관에 연결하기]\\n1.\\t주\\t급수부를\\t차단한\\t다음,\\t냉장고와\\t가장\\t가까운\\t음용수관\\n(냉수)을\\t찾아\\t파이프\\t클램프와\\t차단\\t밸브를\\t설치하세요.\\n파이프 클램프냉수관\\n차단 밸브\\n2.\\t급수관\\t설치\\t키트를\\t차단\\t밸브에\\t연결하세요.(설치\\t키트는\\t가까운\\t서비스센터에\\t문의하세요.)\\n급수관 설치 키트\\n[냉장고에 급수관 연결하기]급수관\\t설치방법\\n ▶제빙기가 제대로 작동하려면 0.147~0.834 MPa 정도의 수압이 필요합니다. 수압이 \\n낮은 곳(0.138 MPa 이하)의 경우에는 부스터 펌프를 설치하여 낮은 수압을 보완할 수 있습니다.', '▶역삼투압 정수기에 연결하여 사용할 경우에는 0.245~0.785 MPa 정도의 수압이어야 합니다.\\n ▶수로관은 반드시 냉수에 연결해  \\n주세요. 온수에 연결할 경우 정수  \\n기능에 문제가 발생할 수 있습니다.\\n1.\\t수로관\\t메인\\t밸브를\\t차단한\\t다음,\\t수로관\\t밸브와\\t연결관A의\\t연결부를\\t연결하세요.\\n2.\\t연결관A와\\tB를\\t수도관에\\t연결하세요.(모든\\t연결부는\\t[참조]와\\t같이\\t씰링\\t테이프로\\t감아\\t\\n연결해\\t주세요.)13\\n3.\\t수로관이\\t하나인\\t경우에는\\t연결관A만\\t연결하여\\t설치하세요.급수관\\t설치방법\\n4.\\t수로관\\t튜브에\\t너트를\\t삽입한\\t다음,\\t[참조]와\\t같이\\t수로관\\t밸브에\\t튜브를\\t연결해\\t주세요.\\n5.\\t수로관\\t튜브에\\t끼운\\t너트를\\t수로관\\t밸브에\\t단단히\\t조인\\t다음,\\t수로관\\t밸브를\\t잠가주세요.\\n6.\\t냉장고\\t뒷면의\\t흰색\\t튜브를\\t수로관\\t튜브와\\t연결하세요.\\n7.\\t냉장고\\t뒷면\\t덮개의\\t좌측이나\\t우측의\\t고정\\t나사를\\t풀고\\t\\n고정구와\\t함께\\t조립한\\t다음,\\t고정구를\\t구부려\\t보호\\t튜브를\\t고정해\\t주세요.\\n8.\\t수로관\\t메인\\t밸브를\\t연\\t다음,\\t수로관\\t밸브를\\t열어주세요.\\n9.\\t냉장고를\\t가동시키고\\t디스펜서의\\t물\\t레버를\\t공기가\\t나오는\\t현상이\\t없어질\\t때까지\\t계속\\t눌러\\t주세요. ▶이동 시 바닥에 닿거나 찍힐 우려가 있는 수로관에는  \\n보호 튜브를 삽입하세요.\\n ▶처음 설치한 경우 냉장고 내부에 있는 물통의 공기가 빠지지 않아 물이 떨어질 수  \\n있습니다. 약 10 리터 이상 물을 빼주거나 1~2일이 지나면 안정됩니다.14\\n탄산수 기능을 사용하려면 소다스트림의 탄산가스 실린더를 설치해야 합니다.\\n[탄산가스 실린더 구입하기]\\n ▶본 제품은 소다스트림의 탄산가스 실린더 (425 g)만 사용가능하도록 설계되었습니다.\\n ▶소다스트림 사이트 (http://www.sodastream.kr)에서 정품 탄산가스 실린더 (425 g) 를 구입해 주세요.  \\n ▶탄산가스 실린더를 추가 구매할 경우에는 비용이 발생합니다. 만약 정품 소다 스트림외의 탄산가스', '실린더를 사용해서 탄산 가스 누출, 제품에 고장이나 이상이 발생했을 경우 삼성전자에서는 책임을 \\n지지 않습니다.\\n[탄산가스 실린더 설치하기]\\n1.\\t냉장실\\t문을\\t열고\\t탄산가스\\t실린더\\t덮개를\\t열어주세요.\\n2.\\t탄산가스\\t 실린더의\\t 윗부분을\\t 냉장고의\\t 탄산수\\t조절장치\\t 홈에\\t맞게\\t끼운\\t\\n다음\\t시계방향으로\\t돌려주세요.\\n ▶정품 소다스트림의 탄산가스 실린더(425 g)를 사용해 주세요.\\n ▶사용하신 실린더는 폐기하지 마시고 택배기사 방문시 새 실린더와 맞교환(반납)합니다.\\n \\n실린더를 폐기하시면 새 실린더 교환 시 추가 비용이 발생할 수 있습니다.\\n탄산가스\\t실린더\\t설치방법\\n ▶탄산가스 실린더는 서늘하고, 어린이 손이 닿지 않는 곳에 보관하세요. 밀폐된 공간에 \\n보관하지 마세요.\\n ▶탄산수가 만들어질 때, 용기 안의 잔량 가스를 빼는 소리와 탄산가스가 공급되는  \\n“푸~” 소리가 날 수 있습니다.\\n ▶냉장고 최초 설치 후 물이 충분히 차갑지 않은 상태에서 탄산수를 만들면 탄산수의 맛을 충분히 느낄 수 없으므로 약 12시간 정도 냉장고를 가동한 후에 탄산수를 제조하여 주십시오.\\n ▶냉장고에 급수관을 설치한 후에 탄산가스 실린더를 설치하시기 바랍니다.\\n ▶탄산가스 실린더를 추가 구매하거나 충전하는 비용은 별도로 지불하셔야 합니다.\\n15\\n3.\\t실린더\\t케이스에\\t탄산가스\\t실린더를\\t밀어서\\t끼워넣으세요.\\n4.\\t안전\\t레버를\\t아래로\\t내려서\\t실린더를\\t잠그세요.\\n ▶탄산가스 레버를 잠그지 않으면 탄산수가 만들어지지 않습니다.\\n ▶탄산가스 레버가 내부 압력으로 인해 제대로 잠기지 않을 수 있습니다. 레버를 \\n손으로 잡고 완전히 아래로 내려 주세요.\\n ▶탄산가스 실린더가 탄산수 조절 장치에 제대로 연결되지 않았다면 탄산가스가 “쉬” 하는 소리를 내면서 샐 수 있습니다. 탄산가스 실린더가 제대로 설치 되었는지 확인해 보세요.\\n5.\\t[스파클링\\t급속제조]\\t버튼을\\t3초간\\t눌러\\t“스파클링\\t리필”\\t기능을\\t작동시켜\\t주세요.\\t\\t\\n탄산수가\\t만들어지기\\t시작합니다.탄산가스\\t실린더\\t설치방법', '탄산수가\\t만들어지기\\t시작합니다.탄산가스\\t실린더\\t설치방법\\n냉장고\\t최초\\t설치\\t시\\t약\\t12시간\\t정도\\t냉장고를\\t가동한\\t후에\\t탄산수를\\t제조하길\\t권장합니다.\\n ▶탄산수 탱크에 물이 채워져야 탄산수가 만들어지므로 급수관을 연결해 주십시오.\\n ▶탄산수는 약 10 ℃의 물로 만들어졌을 때 맛이 좋습니다. 따라서 냉장고를 처음 설치한 \\n경우에는 충분히 기다려주세요.\\n ▶최초 설치한 후 처음 만든 탄산수는 세척을 위해 버리는 것이 좋습니다.\\n ▶탄산수가 만들어지는 동안에는 [스파클링 제조설정] 버튼의 컵 모양 속의  \\n아이콘(  )이 시계방향으로 차례로 켜지며, 탄산수가 제조 중임을 나타냅니다.  \\n이때는 탄산수가 나오지 않습니다. \\n ▶컵 모양 속 아이콘이 모두 켜져있으면 탄산수 제조가 완료된 것입니다.\\n ❖냉장고에서 제조되는 탄산수는 음료이므로 정수기 품질검사기관에서 인증하는 KC 마\\n크에 해당되지 않습니다.16\\n1\\n96\\n2\\n5\\n1113\\n10식품\\t보관\\t방법\\n\\t▶젖은\\t손으로\\t냉동실의\\t그릇\\t및\\t식품을\\t만지지\\t마세요.\\t동상의\\t위험이\\t있습니다.\\n ▶냉기가 나오는 곳 너무 가까이 식품이나 용기 등을 놓지 마세요.\\n ▶저장 온도에 영향을 주어 식품에 영향을 줄 수 있습니다.\\n ▶냉동실에 아이스크림 등의 녹기 쉬운 제품을 장기 보관할 때는 제품에 표기된 적정  \\n온도 이하로 설정하여 사용하세요. (일반적으로 아이스크림의 경우는 -20 ℃ 이하에서 \\n보관하도록 표시되어 있습니다)\\n ▶냉장고에 저장할 식품은 최대 저장 기간과 유통기한을 확인하고 저장해 주세요.\\n ▶완전히 해동된 식품을 다시 얼리지 마세요. 식품의 신선도와 맛이 떨어질 수 있습니다.\\n ▶얼음을 얼리실 때는 먹는 물을 사용하세요.\\n ▶희귀 약재(산삼, 장뢰삼, 인삼)등은 얼수 있으므로 보관하지 마세요.칸마다 보관하기 좋은 식품이 따로 있습니다.  \\n최적의 장소에 보관하여 가장 신선한 맛을 즐겨보세요.\\n1.\\t얼음통과\\t제빙기\\n각얼음과 조각얼음을 만들 수 있습니다.\\n2.\\t얼음슈트\\n각얼음과 조각얼음이 디스펜서의 얼음 공급기로 나가는', '2.\\t얼음슈트\\n각얼음과 조각얼음이 디스펜서의 얼음 공급기로 나가는 \\n부분입니다.\\n3.\\tEZ\\t슬라이드\\t선반\\n손쉽게 식품을 꺼낼 수 있습니다.\\n4.\\t냉장실\\t다용도\\t칸\\n대용량의 우유나 음료 등의 큰 부피의 용기를 보관할 수 있습니다.\\n또한 탈부착이 가능한 칸막이가 있어 용도에 따라 \\n \\n자유롭게 사용할 수 있습니다.\\n5.\\tEZ\\tfresh\\t야채실\\n야채나 과일 등을 신선하게 보관합니다.\\n6.\\t청정제균탈취기\\t (해당 모델만 참조하세요)\\n냉장실 내의 부유균 및 부착균을 제거해 줍니다.\\n ▶냉기가 나오는 곳은 아래 그림 참조하세요.\\nպӝ\\x01աয়\\x01חҔ\\x01\\n\\x01\\n\\x01\\n\\x01※ \\t투스타\\t섹션17\\n6\\n78\\n43\\n12\\n효과적인\\t식품\\t저장\\t방법탈부착\\t할\\t수\\t있어\\t식품\\t보관이\\t편리한\\t칸막\\n이\\t(냉장실\\t다용도\\t칸)\\t (구입하신\\t모델에\\t따라서\\t다용\\n도\\t칸\\t형상이\\t다를\\t수\\t있습니다.\\t해당\\t모델만\\t참조하세요.) \\t\\n식품을\\t구분하여\\t보관할\\t수\\t\\n있습니다.\\n ※작은 소스나 캔 음료 등을 \\n함께 넣을 때는 칸막이를 \\n꽂아 사용하세요.\\n ※용량이 큰 우유 및 음료를 넣을 때는 칸막이를 빼어 넓게 사용하세요.\\n식품은\\t잘게\\t나누어\\t저장하세요.\\n ▶식품이 빨리 냉각되므로  \\n전기료를 절약할 수 있습니다.수분이\\t많은\\t식품(두부\\t등)은냉장\\n실\\t선반\\t앞쪽에\\t넣으세요.\\n ▶차가운 공기가 나오는 안쪽에 \\n넣으면 식품이 얼 수 있습니다.7.\\t정수필터\\n물에 있는 불순물을 걸러주는 필터입니다.\\n기존 필터 대비 크기가 작아서 공간도 절약되고,교체하기도 편해졌습니다.\\n8.\\t계란저장용기\\n깨지기 쉬운 계란을 안전하게 보관해 줍니다.\\n9.\\t냉동실\\t다용도\\t칸\\n콩 등의 작게 포장된 냉동식품을 보관하세요.단, 장기간 보관할 식품이나 아이스크림은 넣지 \\n마세요.\\n※  \\n 투스타 섹션은 냉동실 내 다른  \\n 위치보다 온도가 다소 높을 수 있습니다.\\n10.\\tEZ\\t냉동\\t슬라이드\\t선반\\n손쉽게 식품을 꺼낼 수 있습니다.\\n11.\\t건조한\\t식품\\t및\\t고기\\t보관함\\n장기간 보관할 마른 오징어, 멸치, 고춧가루 등을', '11.\\t건조한\\t식품\\t및\\t고기\\t보관함\\n장기간 보관할 마른 오징어, 멸치, 고춧가루 등을 \\n넣으시고 고기, 닭고기 등은 호일이나 랩에 싸서 보관하세요.\\n12.\\t참맛냉동실\\n식품의 특성에 맞는 온도 설정으로 신선하게  \\n보관하세요.\\n13.\\t탈취기\\t (해당 모델만 참조하세요.)\\n냉장실에서 나는 불쾌한 냄새를 없애줍니다.\\n※ \\t투스타\\t섹션18\\n[버튼과 표시부] \\n*RF90J90837F 모델에 한함\\n1.\\t냉동실,\\t급속냉동(3초)\\n ▶냉동실의 온도를 조절하거나 식품을 빨리 냉각시키고 싶을 때 사용하세요. \\n ▶3초 이상 누르면 급속냉동이 설정됩니다.\\n2.\\t냉장실,\\t급속냉장(3초)\\n ▶냉장실의 온도를 조절하거나 식품을 빨리 냉각시키고 싶을 때 사용하세요.\\n ▶3초 이상 누르면 급속냉장이 설정됩니다.\\n3.\\t문열림\\t알림,\\t탈취필터\\t교체(3초)\\n ▶문열림 경보를 울리지 않게 하려면 선택하여 꺼주세요.\\n ▶탈취필터 교체 아이콘( )이 켜지면 탈취필터(별도 구매)를 교체한 다음 3초간 눌러 주세요.버튼의\\t기본\\t기능19\\n4.\\t조명,\\t참맛냉동실(3초)\\n ▶물공급기(디스펜서)의 조명을 항상 켜거나 디스펜서 레버를 사용할 때만 켜지도록 설정할 수  \\n있습니다.\\n ▶3초 이상 눌러 참맛냉동실의 온도 설정을 조절할 때 사용하세요.  \\n버튼을 계속 누르고 있으면 1초 간격으로 참맛냉동실 온도 설정이 변경됩니다.\\n5.\\t참맛\\t냉동실(3초)\\t(RF90J90837F\\t모델에\\t한함)\\n ▶3초 이상 눌러 참맛냉동실의 온도 설정을 조절할 때 사용하세요\\n ▶버튼을 계속 누르고 있으면 1초 간격으로 참맛냉동실 온도 설정이 변경 됩니다.\\n6.\\t잠금/풀림(3초)\\n ▶3초 이상 눌러 잠금을 설정하거나 해제할 수 있습니다.\\n7.\\t제빙\\t정지(3초)\\n ▶얼음을 만들지 않도록 설정합니다. 3초 이상 눌러 설정하거나 해제할 수 있습니다.\\n8.\\t스파클링\\t급속제조,\\t스파클링\\t리필(3초)\\n ▶버튼을 눌러  아이콘이 나타나면 탄산수를 만들고 있지 않은 상태에서는 다음번 탄산수 제조', '시간을 줄여주고, 이미 탄산수를 만들고 있는 상태에서는 즉시 만드는 시간을 줄여줍니다.\\n ▶급속제조로 만들어지는 탄산수의 농도는 3단계입니다.\\n ▶CO2 실린더를 교체하고 3초간 버튼을 눌러서 스파클링 리필 기능을 작동시키면 물이 추가로 \\n급수되고 CO2 가스를 주입하여 탄산수를 만듭니다.\\n ▶리필 기능을 사용하여 탄산수를 만들면, 탄산수 탱크에 남아 있는 탄산수의 양과 농도에 따라 제조를 원하는 탄산수의 농도와 다소 차이가 있을 수 있습니다.\\n ▶탄산수 탱크 모양 아이콘 속의 가로 막대 ( \\n )는 탄산수 탱크에 남아 있는 탄산수의 잔량을  \\n의미합니다.\\n ▶가로 막대가 3개인 경우는 탄산수 잔량이 가득 차 있는 상태로, 사용을 하면 가로 막대 개수가 \\n줄어듭니다.\\n ▶탄산수 제조 동작 중 물이 주입되는 동안은 가로 막대가 차례로 켜지는 것을 반복합니다.\\n9.\\t스파클링\\t농도선택\\n ▶버튼을 눌러 만들고 싶은 탄산수의 농도를 선택할 수 있습니다.\\n ▶버튼을 누를 때마다 오른쪽의 작은 숫자 아이콘( , ,  )이 차례로 바뀌고 다음 탄산수 \\n자동 제조 시에 해당 탄산수 농도가 반영됩니다.\\n ▶왼쪽의 큰 숫자 (  )는 현재 만들어진 탄산수 농도를 나타냅니다.버튼의\\t기본\\t기능20\\n버튼의\\t기본\\t기능\\n10.\\t스파클링\\t제조설정(3초)\\n ▶3초간 버튼을 누르면 탄산수 제조 기능을 변경할 수 있습니다.\\n ▶꺼져있는 상태라면 다시 켜서 자동으로 탄산수를 만들 수 있으며, 켜진 상태라면 탄산수 제조 \\n기능을 끌 수 있습니다.\\n ▶탄산수 제조 동작 중에는 컵 속의 작은 아이콘이 시계방향으로 순서대로 켜지는 것을 반복합니다.\\n ▶탄산수 제조 동작 중에는 탄산수가 나오지 않습니다.\\n ▶탄산가스가 다 소모되면 왼쪽에 실린더 모양의 아이콘이 (  ) 켜지므로 실린더를 교체해야 합니다.\\n ▶탄산가스가 충분할 때 실 린더를 분해하면 교체 아이콘이 일정 시간 동안 켜지지 않을 수 있습니다.\\n11.\\t각얼음,\\t스파클링,\\t조각얼음,\\t필터\\t교체(3초)', '11.\\t각얼음,\\t스파클링,\\t조각얼음,\\t필터\\t교체(3초)\\n ▶설정에 따라 각얼음/스파클링(탄산수)/조각얼음을 받을 수 있습니다.\\n ▶얼음/물 공급기 필터를 교체했을 때는 조각얼음 버튼을 3초간 눌러 주세요.21\\n[냉장실 온도 조절 방법]\\n냉장실의\\t온도를\\t조절하고\\t싶을\\t때는\\t다음과\\t같이\\t하세요.\\n ▶[냉장실]버튼을 누르면 아래와 같이 온도를 조절할 수 있습니다.\\n ▶[냉장실]버튼을 한번씩 누를 때마다, 2 ℃ → 1 ℃ → 7 ℃ → 6 ℃ → 5 ℃ → 4 ℃ → 3 ℃로  \\n온도를 조절할 수 있습니다.\\n[냉동실 온도 조절 방법]\\n냉동실의\\t온도를\\t조절하거나\\t급속냉동을\\t설정하고\\t싶을\\t때는\\t다음과\\t같이\\t하세요.\\n ▶많은 식품을 보관하시려면 20 시간 전에 설정해 주세요.\\n ▶[냉동실]버튼을 누르면 아래와 같이 온도를 조절할 수 있습니다.\\n ▶[냉동실]버튼을 한번씩 누를 때마다,  \\n-19 ℃ → -20 ℃ → -21 ℃ → -22 ℃ → -23 ℃ → -15 ℃ → -16 ℃ → -17 ℃ → -18 ℃ \\n로 온도를 조절할 수 있습니다.\\n[급속냉동/급속냉장 설정 방법]\\n급속냉동\\t혹은\\t급속냉장을\\t설정하고\\t싶을\\t때는\\t다음과\\t같이\\t하세요.\\n ▶[냉동실] 혹은 [냉장실]버튼을 3초간 눌러 아이콘이 켜지도록 합니다.\\n ▶일정시간(급속냉동: 50시간, 급속냉장: 2시간30분/각 오차범위 1시간)이 지나면 자동으로 꺼지며, \\n이전에 설정한 온도로 돌아갑니다.버튼의\\t기본\\t기능\\n ▶냉동/냉장실의 온도는 문을 여는 횟수, 식품의 양, 주위 온도 등에 따라 변할 수 있습니다.\\n ▶냉동/냉장실 각 저장칸은 위치에 따라 온도가 다릅니다.\\n ▶잦은 사용이나 따뜻한 식품의 보관 등으로 냉동/냉장실 온도가 상승한 경우에는 온도 표시부가 깜박입니다.(이 경우 정상적인 온도가 되면 깜박임이 멈추지만, 장시간 가동하여\\n도 멈추지 않을 때에는 서비스 센터로 문의하세요.)22\\n[참맛냉동실 온도 조절 방법]\\n참맛냉동실은\\t아래의\\t네\\t가지\\t기능을\\t사용할\\t수\\t있습니다.\\n1.\\t냉동\\t(냉동실\\t설정\\t온도와\\t동일)', '1.\\t냉동\\t(냉동실\\t설정\\t온도와\\t동일)\\n ▶설정된 냉동실 온도로 설정되며, 냉동식품을 신선하게 보관할 수 있습니다.\\n2.\\t살얼음\\n ▶냉동실 설정온도와 관계없이 -5 ℃로 유지됩니다. 육류/어류 등의 보관에 적합하며, 해동 시  \\n식품조직의 파괴를 최소화하여 해동을 하지 않고도 바로 조리할 수 있습니다.\\n3.\\t특선\\n ▶냉동실 설정온도와 관계없이 -1 ℃로 유지됩니다. 김치를 보관하거나 식혜 등을 시원하게  \\n드실 수 있습니다.\\n4.\\t냉장\\n ▶냉장실 설정온도와 관계없이 2 ℃로 유지되며, 물, 주스, 청량음료, 맥주 등을 차갑고 시원하게 \\n저장할 수 있습니다.버튼의\\t기본\\t기능\\n ▶[냉동]으로 사용 후 다른 기능으로 설정을 변경하면 육즙이나 물이 생길 수 있으니  \\n주의하세요.\\n ▶[냉장]을 설정하고 육류나 생선을 보관하면 변질될 수 있습니다. 저장할 식품과  \\n참맛냉동실의 설정이 다르게 보관되면 식품이 얼거나 변질될 수 있습니다.\\n ▶버튼이 작동하지 않을 경우 잠금 기능 여부를 확인하세요. \\n ▶설정이 완료되면 선택한 기능이 맞는지 표시부를 다시 한 번 더 확인하세요.*RF90J90837F 모델에 한함23\\n[얼음 받는 방법]\\n받을\\t얼음의\\t종류를\\t선택하세요.\\n ▶[각얼음](1) 혹은 [조각얼음](3) 버튼을 눌러 원하는 얼음 \\n종류를 선택해 주세요.\\n ▶RF90J90837F 모델은 각얼음 조명 (3초) 혹은 조각얼음\\n음 필터 교체 (3초) 버튼을 눌러 원하는 얼음 종류를 선택\\n해 주세요.\\n ▶스파클링/얼음 레버(4)에 컵을 대고 가볍게 누르면  \\n얼음이 나옵니다.\\n ▶각얼음은 반달모양, 조각얼음은 각얼음을 잘게 부순  \\n모양입니다.\\n ▶얼음이 컵 밖으로 튀지 않도록 얼음이 나오는 곳 가까이 \\n컵을 대어주세요.\\n[탄산수 받는 방법]\\n ▶탄산수를 받으실 때는 [스파클링] 버튼(2)을 누른 다음, 스파클링/얼음 레버(4)에 컵을 대고 가볍게 \\n밀어주세요.\\n ▶탄산수가 밖으로 튀지 않도록 탄산수가 나오는 곳 가까이 컵을 대어주세요.\\n[물 받는 방법]', '[물 받는 방법]\\n ▶물 레버(5)에 컵을 대고 가볍게 누르면 물이 나옵니다.\\n ▶물과 얼음을 모두 받으시려면 얼음을 먼저 받은 다음, 물을 받\\n아주세요.\\n 각얼음 조각얼음얼음/탄산수/물\\t공급기(디스펜서)\\t사용\\t방법\\n ▶얇은 유리컵이나 도자기 그릇 등으로 얼음을 받으면 깨질 위험이 있으니 주의하세요.\\n ▶스파클링/얼음 및 물 레버를 당기지 마세요. 고장의 원인이 됩니다.\\n ▶얼음과 물 레버를 동시에 눌러도 먼저 눌린 레버만 작동합니다.\\n ▶조각얼음을 사용한 후 각얼음을 사용하면 조각얼음 잔여물이 약간 나올 수 있습니다.RF90J90837F 모델용RF90H9081X4 모델용24\\n얼음/탄산수/물\\t공급기(디스펜서)\\t사용\\t방법\\n[얼음통에 얼음을 가득 채우려면]\\n ▶설치 후 하루정도 기다리면 제빙기가 안정됩니다.\\n ▶컵에 4~6개 정도 각얼음을 받고 8시간, 16시간 후에 컵 가득 얼음을 받으세요.\\n ▶모든 얼음을 한 번에 사용하려면 이것을 반복해야합니다. (그러나 처음에 나오는 얼음 4~6개를  \\n받기 위해서는 8시간 기다려야 합니다).\\n[얼음을 만들지 않으려면(제빙정지)]\\n[제빙\\t정지]버튼을\\t3초간\\t누르세요.\\n ▶얼음통의 얼음을 모두 꺼내주세요. 얼음을 둔 채로 사용하지 않으면 얼음이 녹아 뭉쳐서  \\n제빙기(아이스 메이커) 고장의 원인이 됩니다.\\n ▶다시 사용할 때는 얼음통을 청소한 다음 사용하세요.\\n[디스펜서 사용 시 알아두기]\\n ▶처음 설치한 경우 냉장고 내부에 있는 물통의 공기가 빠지지 않아 물이 떨어질 수 있습니다.  \\n약 10 리터 이상 물을 빼주거나 1~2일이 지나면 안정됩니다. \\n ▶설치 후 바로 받은 물은 플라스틱 냄새가 날 수 있습니다. 처음 10 리터 정도의 물은 버려주세요.\\n ▶냉장고가 계속 가동 중이어도 처음 나오는 물은 차갑지 않을 수 있습니다. 얼음을 먼저 받은 후  \\n물을 받으면 차가운 물을 받을 수 있습니다.\\n ▶차가운 물은 6컵까지 받을 수 있으며 물은 2~3시간 후 다시 차가워집니다.', '▶차가운 물은 6컵까지 받을 수 있으며 물은 2~3시간 후 다시 차가워집니다.\\n ▶새로 설치한 냉장고는 12시간 정도가 지나야 얼음을 만들 수 있는 온도까지 내려갑니다.\\n ▶사용 중에 냉동실 문을 여닫는 횟수와 사용 조건에 따라 제빙 속도가 달라질 수 있습니다.\\n ▶얼음을 자주 사용하지 않으면 얼음이 녹아 뭉치기 때문에 얼음 공급기가 제대로 작동하지 못합니다. \\n제빙실에서 뭉친 얼음을 꺼내주세요.25\\n제빙기\\t동작\\t확인\\t및\\t사용\\t방법\\n1.\\t냉장실\\t문을\\t열고\\t그림과\\t같이\\t얼음\\t저장통을\\t살짝\\t들어올린\\t후\\t\\n앞으로\\t빼내세요. ˃\\n2.\\t제빙기의\\t오른편의\\t버튼(테스트\\t버튼)을\\t누르면\\t‘딩동’하는\\t\\t소리가\\t납니다.\\t소리가\\t나면\\t버튼에서\\t손을\\t떼세요.\\n테스트 버튼\\n ▶제빙기 얼음통에 물이 가득할 때는 테스트 버튼을 계속 누르지 마세요.  \\n물이 넘치거나 얼음이 걸려 고장의 원인이 됩니다.\\n3.\\t얼음\\t저장통을\\t다시\\t넣을\\t때는\\t얼음\\t\\t저장통\\t아래쪽을\\t밀어\\t넣어\\t주세요.\\t\\t잘\\t장착되지\\t않을\\t경우에는\\t저장통의\\t\\t나선형\\t축을\\t90도로\\t돌려\\t다시\\t\\t넣어주세요.\\n\\t▶얼음을\\t장시간\\t사용하지\\t않을\\t경우,\\t얼음이\\t엉겨붙어\\t나오지\\t않을\\t수\\t있습니다.\\t얼음\\t\\n저장통을\\t꺼내\\t청소해\\t주세요.\\n[스마트 케어 사용 방법]\\n ▶스마트 케어(Smart Care)란, 스마트폰의 애플리케이션(Application)으로 냉장고의 이상 여부를  \\n진단하는 기능이며, 삼성 앱스(Samsung Apps)와 Play 스토어를 통하여 다운받으실 수 있습니다.\\n ▶[알람]버튼을 5초간 길게 누르면 ‘스마트 케어 모드’로 들어갑니다. 이때 스마트폰의 애플리케이션을 \\n실행하여 애플리케이션의 안내에 따라 냉장고 표시부의 내용을 직접 입력하면 냉장고의  \\n이상 여부를 확인할 수 있습니다.\\n ▶약 1분 후 스마트 케어 모드가 풀리며 냉장고의 온도가 표시됩니다.\\n[애플리케이션 다운로드 방법]\\n삼성앱스(Samsung\\tApps)\\t또는\\tPlay\\t스토어에서\\t“냉장고\\t스마트\\t케어”\\t혹은\\t“Refrigerator', 'Smart\\tCare”로\\t검색하여\\t받을\\t수\\t있으며,\\t애플리케이션에서\\t지원하는\\t모바일\\t제품은\\t다음과\\t같습니다.(모바일\\t애플리케이션은\\t사용자\\t고지없이\\t서비스가\\t변경되거나\\t중단될\\t수\\t있습니다.)\\n ▶지원하는 모바일 제품: 갤럭시 계열 모바일폰\\n ▶지원운영 체제 : 안드로이드 2.2 이상\\n ❖지원 모바일 기기 이외의 기기에서는 정상 동작하지 않을 수 있습니다.스마트\\t케어\\t기능\\t사용\\t방법\\t (해당\\t모델만\\t참조하세요.)26\\n ▶교체 표시부(  )가 켜지면, 필터(별도 구매)를 교체 후 [문열림 알림]버튼을 3초간 눌러  \\n교환하세요.\\n ▶일반적인 사용 환경에서 청정제균탈취기의 수명은 17개월입니다.\\n ▶청정제균탈취기 필터는 서비스 센터에서 구매할 수 있습니다.청정제균탈취기\\t필터\\t교체\\t방법\\t (해당\\t모델만\\t참조하세요.)\\n[스마트 에코 시스템]\\n주위\\t환경,\\t사용패턴,\\t냉장고의\\t운전\\t상태에\\t따라\\t13개의\\t센서가\\t식품을\\t더욱\\t신선하게\\t\\t\\n보관할\\t수\\t있도록\\t합니다.스마트\\t에코의\\t특징\\t (해당\\t모델만\\t참조하세요.)\\n외부 온도 센서\\n내부 온도 센서\\n 내부 습도 센서\\n외부 습도 센서\\n문 센서\\n문 센서\\n내부 온도 센서\\n냉각기 센서\\n냉각기 센서27\\n[수분케어 기술]\\n냉장고\\t내의\\t습도를\\t실시간으로\\t관리하여\\t야채나\\t과일의\\t수분이\\n빠져나가지\\t않도록\\t싱싱하게\\t유지(수분케어\\t기술\\t적용\\t시\\t습도\\t70\\t%\\t수준,\\t일반\\t냉장고의\\t경우\\t습도\\t14\\t%)하여\\t식품\\t보존\\t\\t기간을\\t2배\\t이상\\t연장한\\t지펠만의\\t새로운\\t기술입니다.\\n[수분케어 기술의 효과]\\n1.\\t과일/야채의\\t싱싱함이\\t일반\\t냉장고보다\\t2배\\t이상\\t오래갑니다.\\n2.\\t시장보러\\t자주\\t가지\\t않으셔도\\t됩니다.\\n3.\\t야채,\\t과일\\t등이\\t말라서\\t버리게\\t되는\\t일도\\t줄어듭니다.수분케어의\\t특징\\n수분케어\\t기술로\\t촉촉하고\\t신선하게!\\n온도 뿐만 아니라 습도까지 관리해주는 수분케어 기술로 냉장실 습도와 야채실 습도를 높은 수준으로  \\n유지하여 신선함이 더욱 오래갑니다. ▶낮은 습도에서 보관해야 하는 양파, 마늘, 고구마, 고추 등의 식품은 냉장고에 보관하면', '오히려 보존기간이 짧아집니다. 이때는 밀폐용기에 넣어 보관하시면 저장물의 피해를 줄일 수 있습니다.수분케어\\t기술을\\t적용한\\t지펠의\\t독립냉각\\t방식\\n한층 업그레이드된 독립냉각 기술로서, 기존의 독립냉각 방식에 수분케어 기술을 적용하여  \\n냉장실은 고습을 유지하고, 냉동실은 더욱 강력해진 지펠만의 고유한 냉각방식입니다\\n수분케어 기술을 적용한 \\n독립냉각방식 \\n평균습도\\t70\\t%일반 냉각방식\\n평균습도\\t14\\t%\\n※ 자사 실험치 기준28\\n청소를 하기 전에 반드시 전원 플러그를 뽑아 주세요. 감전의 위험이 있습니다.  \\n냉장고 내부에 물이 고이기 쉬우므로 부속품은 물기 없이 닦은 후 다시 조립해 주세요.\\n냉동\\t/\\t냉장실\\t다용도\\t칸\\n ▶양손으로 잡고 위로 올려 빼내세요.\\n냉장실\\t강화\\t유리\\t선반\\n ▶강화 유리 선반은 그림과 같이 위로 올린 다음 수직으로 들어\\n올려 빼세요.\\n ▶다시 놓을 때는 원하는 높이의 구멍에 선반 고리를 맞추어  \\n넣으세요.\\nEZ\\tfresh\\t야채실\\n ▶야채실을 꺼낼 때에는 냉장실의 다용도 칸을 먼저 꺼내세요.\\n ▶한 손으로 잡고 앞으로 당기다가 약간 들어 올리면서 빼세요.청소\\t및\\t손질\\t방법\\n ▶강화 유리 선반은 무거우니 주의하세요.\\n ▶유리용기를 보관할 경우, 강화유리 선반에 마찰로 인한 긁힘(스크래치)이 생길 수 있습니다.\\n ▶야채실을 무리하게 꺼낼 경우, 냉장실 다용도 칸에 걸려 긁히거나 깨질 수 있으니 주의하세요.\\n냉장고\\t안에서\\t나는\\t김치\\t냄새\\t제거하기\\n ▶원두커피 찌꺼기 등을 넣어두면 나쁜 냄새 제거에 효과적입니다.냉장실\\t다용도\\t칸\\t (구입하신\\t제품에\\t따라\\t형상이\\t다를수\\t있으\\n며,\\t해당\\t모델만\\t참조하세요.)\\n ▶냉장실 다용도 칸의 분리대를 손으로 잡고 좌, 우로 옮겨서 \\n청소해 주세요. \\n ▶분리대 끝부분을 잡거나 좌, 우로 빠르게 움직이면 파손될 우려가 있습니다.29\\n탈취기\\t (해당 모델만 참조하세요.)\\n ▶탈취제 커버의 (▷) 표시를 눌러 주세요.\\n ▶탈취제 커버를 제거해 주세요.\\n ▶탈취제 커버에 있는 촉매제를 제거해 주세요.', '▶탈취제 커버를 제거해 주세요.\\n ▶탈취제 커버에 있는 촉매제를 제거해 주세요.\\n ▶탈취기 촉매제를 교체한 후 탈취기를 다시 넣어주세요. (1) (2)\\n(3) (4)청소\\t및\\t손질\\t방법\\n청정제균탈취기\\t교체\\t방법\\t (해당 모델만 참조하세요.)\\n ▶청정제균탈취기 필터 덮개에 표시된 둥근 부분을 눌러 덮개를 \\n열어 주세요.\\n ▶탈취기를 꺼내 교체하신 후 필터 덮개를 닫아 주세요.\\n ▶탈취기 안쪽에 손을 넣지 마세요.\\n ▶일반적인 사용 환경에서 청정 제균탈취기 및 탈취기의 수명은 17개월입니다.\\n ▶청정 제균 탈취기 필터 및 탈취기 (해당 모델만 참조하세요.) 는 서비스 센터에서 구매 할 수 있습니다.30\\n[정수 필터란?]\\n수돗물에 들어있는 불순물 등의 좋지 않은 물질을 걸러주는 부품입니다.\\n[정수 필터 교체하기]\\n정수 필터를 교체할 시기가 되면 표시부에 있는 필터 교체 아이콘(  )이 붉은색으로 변경되며 문을 여닫 \\n을 때 필터 아이콘이 수회 깜빡입니다. 교체 시기가 지나면 정수효과가 떨어지므로 교체하시는 것이 좋습니\\n다.(가까운 서비스센터에서 구입하실 수 있습니다.) .\\n1.\\t정수\\t필터[a]를\\t반시계\\t반향(풀림)으로\\t돌리세요.\\na\\n2.\\t그\\t상태에서\\t필터를\\t당기면\\t필터가\\t빠집니다.\\t\\t\\n(물이\\t새어나올\\t수\\t있으니\\t주의하세요.)\\n3.\\t필터를\\t뺄\\t때\\t흘러나온\\t물은\\t물받이[b]를\\t빼서\\t비워주세요.\\nb\\n4.\\t새\\t필터를\\t끼우세요.\\t누르면서\\t잠길\\t때까지\\t시계방향으로\\t돌려\\t\\n잠금\\t표시(\\t \\t)에\\t수직으로\\t일치하도록\\t맞추세요.\\n5.\\t[조각얼음]버튼을\\t3초간\\t눌러주세요.\\t표시부의\\t필터\\t아이콘이\\t꺼집니다.\\n6.\\t급수관의\\t공기가\\t빠질\\t때까지\\t약\\t10\\t리터\\t이상\\t물을\\t빼\\t주세요.정수\\t필터\\t교체\\t방법\\n ▶물 속의 불순물로 인해 정수 필터가 빠지지 않는 경우도 있을 수 있으나, 힘을 주어  \\n당겨 빼 주세요.\\n ▶필터를 뺄 때 물이 새는 것을 줄이려면 필터를 수평으로 빼 주세요.\\n ▶정수필터는 소모품으로, 수명은 약 6개월이며 그 이후부터는 정수효과가 떨어지므로', '▶정수필터는 소모품으로, 수명은 약 6개월이며 그 이후부터는 정수효과가 떨어지므로 \\n장착 후 6개월이 지났다면 교환하시는 것이 좋습니다.\\n ▶정수필터는 가까운 삼성전자 서비스센터에서 구입하세요. (서비스센터 인터넷 쇼핑몰\\n을 이용하시면 편리합니다.)\\n ▶필터 교체 후 급수관에 공기가 들어있을 경우 디스펜서에서 물이 떨어질 수 있습니다. \\n필터 교체 후 디스펜서를 작동시켜 약 10 리터 이상의 물을 빼내어 관 내의 공기를  \\n제거 해주세요.31\\n탄산가스\\t실린더\\t교체방법\\n[탄산가스 실린더 교체하기]\\n탄산수의\\t탄산이\\t약한\\t경우,\\t탄산가스\\t실린더를\\t교체해야\\t합니다.\\t\\n소다스트림\\t사이트\\t(http://www.sodastream.kr)에서\\t정품\\t탄산가스\\t실린더\\t(425\\tg)를\\t\\t구입해\\t주세요.\\n1.\\t안전\\t레버를\\t위로\\t올려주세요.\\n2.\\t실린더\\t케이스에서\\t탄산가스\\t실린더를\\t빼내주세요.\\n3.\\t실린더를\\t시계반대방향으로\\t돌려서\\t빼내주세요.\\n4.\\t새\\t탄산가스\\t실린더를\\t탄산수\\t조절장치\\t홈에\\t맞게\\t끼운\\t다음\\t시계방향으로\\t돌려주세요.\\n5.\\t실린더\\t케이스에\\t탄산가스\\t실린더를\\t밀어서\\t끼워넣으세요.\\n6.\\t안전\\t레버를\\t아래로\\t내려서\\t실린더를\\t잠그세요.\\n7.\\t[스파클링\\t급속제조]버튼을\\t3초\\t이상\\t눌러\\t[스파클링\\t리필]기능을\\t작동해\\t주세요. ▶탄산가스 실린더는 서늘하고, 어린이 손이 닿지 않는 곳에 보관하세요. 밀폐된 공간에 \\n보관하지 마세요.\\n탄산가스 실린더 교체(분해/조립)로 인해 서비스 방문 요구시 유상 서비스 대상입니다.32\\n[탄산수 관련 추가 정보]\\n ▶소다스트림 정품 탄산가스 실린더를 사용하세요.\\n ▶탄산수를 만드는 동안 냉장고 문을 열면 탄산수 만들기가 잠시 멈추며, 냉장고 문을 닫으면 다시 동\\n작합니다.\\n ▶탄산수를 만드는 동안 정전 등으로 인해 냉장고의 전원이 꺼진 경우, 전원이 켜진 다음 다시 탄산수\\n를 만들게 됩니다. 이런 경우, 제조를 원하는 탄산수의 농도와 달라질 수 있으므로 원하는 농도의 탄\\n산수를 드시려면 만들어진 탄산수를 모두 버리고 다시 만들어 주세요.', '산수를 드시려면 만들어진 탄산수를 모두 버리고 다시 만들어 주세요.\\n ▶급수관이 구부러지거나 물이 제대로 공급되지 않으면 탄산수의 농도에 영향을 줄 수 있습니다.\\n ▶탄산수의 농도는 사람에 따라 다르게 느낄 수 있습니다.\\n[탄산가스 실린더 빼내기]\\n ▶휴가 등으로 집을 오래 비우게 되는 경우, 냉장고에서 탄산가스 실린더를 빼내주세요.\\n1.\\t[스파클링\\t제조설정]버튼을\\t3초\\t이상\\t눌러\\t탄산수를\\t만들지\\t않도록\\t해주세요.\\n2.\\t[스파클링]\\t버튼을\\t눌러\\t탄산수를\\t모두\\t비워주세요.\\n3.\\t탄산가스\\t실린더를\\t빼내주세요. ▶냉장고의 위치를 옮기거나 이사를 할 경우에는 탄산가스 실린더를 빼내주세요.탄산가스\\t실린더\\t교체방법33\\n냉장고\\t사용에\\t필요한\\t공간\\nA\\t(깊이) 937\\tmm\\nB\\t(폭) 908\\tmm\\nC\\t(높이) 1822\\tmm\\nD\\t(전체\\t높이) 1850\\tmm\\n50\\tmm\\n1519\\tmm814\\tmm908\\tmm\\n1289\\tmm43\\tmm72.3\\tmm\\n305.5\\tmm125˚125˚AB\\nCD\\n ▶각 치수는 제품 설계 치수이며, 측정 방법에 따라 약간의 차이가 있을 수 있습니다.']\n"
          ]
        }
      ]
    },
    {
      "cell_type": "code",
      "source": [
        "!pip install sentence-transformers"
      ],
      "metadata": {
        "colab": {
          "base_uri": "https://localhost:8080/"
        },
        "collapsed": true,
        "id": "4Ig0cADYGw-U",
        "outputId": "2934d24c-27cf-465e-ab07-bc21812d86a2"
      },
      "execution_count": 18,
      "outputs": [
        {
          "output_type": "stream",
          "name": "stdout",
          "text": [
            "Requirement already satisfied: sentence-transformers in /usr/local/lib/python3.11/dist-packages (3.4.1)\n",
            "Requirement already satisfied: transformers<5.0.0,>=4.41.0 in /usr/local/lib/python3.11/dist-packages (from sentence-transformers) (4.49.0)\n",
            "Requirement already satisfied: tqdm in /usr/local/lib/python3.11/dist-packages (from sentence-transformers) (4.67.1)\n",
            "Requirement already satisfied: torch>=1.11.0 in /usr/local/lib/python3.11/dist-packages (from sentence-transformers) (2.6.0+cu124)\n",
            "Requirement already satisfied: scikit-learn in /usr/local/lib/python3.11/dist-packages (from sentence-transformers) (1.6.1)\n",
            "Requirement already satisfied: scipy in /usr/local/lib/python3.11/dist-packages (from sentence-transformers) (1.14.1)\n",
            "Requirement already satisfied: huggingface-hub>=0.20.0 in /usr/local/lib/python3.11/dist-packages (from sentence-transformers) (0.29.3)\n",
            "Requirement already satisfied: Pillow in /usr/local/lib/python3.11/dist-packages (from sentence-transformers) (11.1.0)\n",
            "Requirement already satisfied: filelock in /usr/local/lib/python3.11/dist-packages (from huggingface-hub>=0.20.0->sentence-transformers) (3.18.0)\n",
            "Requirement already satisfied: fsspec>=2023.5.0 in /usr/local/lib/python3.11/dist-packages (from huggingface-hub>=0.20.0->sentence-transformers) (2025.3.0)\n",
            "Requirement already satisfied: packaging>=20.9 in /usr/local/lib/python3.11/dist-packages (from huggingface-hub>=0.20.0->sentence-transformers) (24.2)\n",
            "Requirement already satisfied: pyyaml>=5.1 in /usr/local/lib/python3.11/dist-packages (from huggingface-hub>=0.20.0->sentence-transformers) (6.0.2)\n",
            "Requirement already satisfied: requests in /usr/local/lib/python3.11/dist-packages (from huggingface-hub>=0.20.0->sentence-transformers) (2.32.3)\n",
            "Requirement already satisfied: typing-extensions>=3.7.4.3 in /usr/local/lib/python3.11/dist-packages (from huggingface-hub>=0.20.0->sentence-transformers) (4.12.2)\n",
            "Requirement already satisfied: networkx in /usr/local/lib/python3.11/dist-packages (from torch>=1.11.0->sentence-transformers) (3.4.2)\n",
            "Requirement already satisfied: jinja2 in /usr/local/lib/python3.11/dist-packages (from torch>=1.11.0->sentence-transformers) (3.1.6)\n",
            "Collecting nvidia-cuda-nvrtc-cu12==12.4.127 (from torch>=1.11.0->sentence-transformers)\n",
            "  Downloading nvidia_cuda_nvrtc_cu12-12.4.127-py3-none-manylinux2014_x86_64.whl.metadata (1.5 kB)\n",
            "Collecting nvidia-cuda-runtime-cu12==12.4.127 (from torch>=1.11.0->sentence-transformers)\n",
            "  Downloading nvidia_cuda_runtime_cu12-12.4.127-py3-none-manylinux2014_x86_64.whl.metadata (1.5 kB)\n",
            "Collecting nvidia-cuda-cupti-cu12==12.4.127 (from torch>=1.11.0->sentence-transformers)\n",
            "  Downloading nvidia_cuda_cupti_cu12-12.4.127-py3-none-manylinux2014_x86_64.whl.metadata (1.6 kB)\n",
            "Collecting nvidia-cudnn-cu12==9.1.0.70 (from torch>=1.11.0->sentence-transformers)\n",
            "  Downloading nvidia_cudnn_cu12-9.1.0.70-py3-none-manylinux2014_x86_64.whl.metadata (1.6 kB)\n",
            "Collecting nvidia-cublas-cu12==12.4.5.8 (from torch>=1.11.0->sentence-transformers)\n",
            "  Downloading nvidia_cublas_cu12-12.4.5.8-py3-none-manylinux2014_x86_64.whl.metadata (1.5 kB)\n",
            "Collecting nvidia-cufft-cu12==11.2.1.3 (from torch>=1.11.0->sentence-transformers)\n",
            "  Downloading nvidia_cufft_cu12-11.2.1.3-py3-none-manylinux2014_x86_64.whl.metadata (1.5 kB)\n",
            "Collecting nvidia-curand-cu12==10.3.5.147 (from torch>=1.11.0->sentence-transformers)\n",
            "  Downloading nvidia_curand_cu12-10.3.5.147-py3-none-manylinux2014_x86_64.whl.metadata (1.5 kB)\n",
            "Collecting nvidia-cusolver-cu12==11.6.1.9 (from torch>=1.11.0->sentence-transformers)\n",
            "  Downloading nvidia_cusolver_cu12-11.6.1.9-py3-none-manylinux2014_x86_64.whl.metadata (1.6 kB)\n",
            "Collecting nvidia-cusparse-cu12==12.3.1.170 (from torch>=1.11.0->sentence-transformers)\n",
            "  Downloading nvidia_cusparse_cu12-12.3.1.170-py3-none-manylinux2014_x86_64.whl.metadata (1.6 kB)\n",
            "Requirement already satisfied: nvidia-cusparselt-cu12==0.6.2 in /usr/local/lib/python3.11/dist-packages (from torch>=1.11.0->sentence-transformers) (0.6.2)\n",
            "Requirement already satisfied: nvidia-nccl-cu12==2.21.5 in /usr/local/lib/python3.11/dist-packages (from torch>=1.11.0->sentence-transformers) (2.21.5)\n",
            "Requirement already satisfied: nvidia-nvtx-cu12==12.4.127 in /usr/local/lib/python3.11/dist-packages (from torch>=1.11.0->sentence-transformers) (12.4.127)\n",
            "Collecting nvidia-nvjitlink-cu12==12.4.127 (from torch>=1.11.0->sentence-transformers)\n",
            "  Downloading nvidia_nvjitlink_cu12-12.4.127-py3-none-manylinux2014_x86_64.whl.metadata (1.5 kB)\n",
            "Requirement already satisfied: triton==3.2.0 in /usr/local/lib/python3.11/dist-packages (from torch>=1.11.0->sentence-transformers) (3.2.0)\n",
            "Requirement already satisfied: sympy==1.13.1 in /usr/local/lib/python3.11/dist-packages (from torch>=1.11.0->sentence-transformers) (1.13.1)\n",
            "Requirement already satisfied: mpmath<1.4,>=1.1.0 in /usr/local/lib/python3.11/dist-packages (from sympy==1.13.1->torch>=1.11.0->sentence-transformers) (1.3.0)\n",
            "Requirement already satisfied: numpy>=1.17 in /usr/local/lib/python3.11/dist-packages (from transformers<5.0.0,>=4.41.0->sentence-transformers) (2.0.2)\n",
            "Requirement already satisfied: regex!=2019.12.17 in /usr/local/lib/python3.11/dist-packages (from transformers<5.0.0,>=4.41.0->sentence-transformers) (2024.11.6)\n",
            "Requirement already satisfied: tokenizers<0.22,>=0.21 in /usr/local/lib/python3.11/dist-packages (from transformers<5.0.0,>=4.41.0->sentence-transformers) (0.21.1)\n",
            "Requirement already satisfied: safetensors>=0.4.1 in /usr/local/lib/python3.11/dist-packages (from transformers<5.0.0,>=4.41.0->sentence-transformers) (0.5.3)\n",
            "Requirement already satisfied: joblib>=1.2.0 in /usr/local/lib/python3.11/dist-packages (from scikit-learn->sentence-transformers) (1.4.2)\n",
            "Requirement already satisfied: threadpoolctl>=3.1.0 in /usr/local/lib/python3.11/dist-packages (from scikit-learn->sentence-transformers) (3.6.0)\n",
            "Requirement already satisfied: MarkupSafe>=2.0 in /usr/local/lib/python3.11/dist-packages (from jinja2->torch>=1.11.0->sentence-transformers) (3.0.2)\n",
            "Requirement already satisfied: charset-normalizer<4,>=2 in /usr/local/lib/python3.11/dist-packages (from requests->huggingface-hub>=0.20.0->sentence-transformers) (3.4.1)\n",
            "Requirement already satisfied: idna<4,>=2.5 in /usr/local/lib/python3.11/dist-packages (from requests->huggingface-hub>=0.20.0->sentence-transformers) (3.10)\n",
            "Requirement already satisfied: urllib3<3,>=1.21.1 in /usr/local/lib/python3.11/dist-packages (from requests->huggingface-hub>=0.20.0->sentence-transformers) (2.3.0)\n",
            "Requirement already satisfied: certifi>=2017.4.17 in /usr/local/lib/python3.11/dist-packages (from requests->huggingface-hub>=0.20.0->sentence-transformers) (2025.1.31)\n",
            "Downloading nvidia_cublas_cu12-12.4.5.8-py3-none-manylinux2014_x86_64.whl (363.4 MB)\n",
            "\u001b[2K   \u001b[90m━━━━━━━━━━━━━━━━━━━━━━━━━━━━━━━━━━━━━━━━\u001b[0m \u001b[32m363.4/363.4 MB\u001b[0m \u001b[31m1.5 MB/s\u001b[0m eta \u001b[36m0:00:00\u001b[0m\n",
            "\u001b[?25hDownloading nvidia_cuda_cupti_cu12-12.4.127-py3-none-manylinux2014_x86_64.whl (13.8 MB)\n",
            "\u001b[2K   \u001b[90m━━━━━━━━━━━━━━━━━━━━━━━━━━━━━━━━━━━━━━━━\u001b[0m \u001b[32m13.8/13.8 MB\u001b[0m \u001b[31m18.8 MB/s\u001b[0m eta \u001b[36m0:00:00\u001b[0m\n",
            "\u001b[?25hDownloading nvidia_cuda_nvrtc_cu12-12.4.127-py3-none-manylinux2014_x86_64.whl (24.6 MB)\n",
            "\u001b[2K   \u001b[90m━━━━━━━━━━━━━━━━━━━━━━━━━━━━━━━━━━━━━━━━\u001b[0m \u001b[32m24.6/24.6 MB\u001b[0m \u001b[31m15.2 MB/s\u001b[0m eta \u001b[36m0:00:00\u001b[0m\n",
            "\u001b[?25hDownloading nvidia_cuda_runtime_cu12-12.4.127-py3-none-manylinux2014_x86_64.whl (883 kB)\n",
            "\u001b[2K   \u001b[90m━━━━━━━━━━━━━━━━━━━━━━━━━━━━━━━━━━━━━━━━\u001b[0m \u001b[32m883.7/883.7 kB\u001b[0m \u001b[31m23.1 MB/s\u001b[0m eta \u001b[36m0:00:00\u001b[0m\n",
            "\u001b[?25hDownloading nvidia_cudnn_cu12-9.1.0.70-py3-none-manylinux2014_x86_64.whl (664.8 MB)\n",
            "\u001b[2K   \u001b[90m━━━━━━━━━━━━━━━━━━━━━━━━━━━━━━━━━━━━━━━━\u001b[0m \u001b[32m664.8/664.8 MB\u001b[0m \u001b[31m2.4 MB/s\u001b[0m eta \u001b[36m0:00:00\u001b[0m\n",
            "\u001b[?25hDownloading nvidia_cufft_cu12-11.2.1.3-py3-none-manylinux2014_x86_64.whl (211.5 MB)\n",
            "\u001b[2K   \u001b[90m━━━━━━━━━━━━━━━━━━━━━━━━━━━━━━━━━━━━━━━━\u001b[0m \u001b[32m211.5/211.5 MB\u001b[0m \u001b[31m6.0 MB/s\u001b[0m eta \u001b[36m0:00:00\u001b[0m\n",
            "\u001b[?25hDownloading nvidia_curand_cu12-10.3.5.147-py3-none-manylinux2014_x86_64.whl (56.3 MB)\n",
            "\u001b[2K   \u001b[90m━━━━━━━━━━━━━━━━━━━━━━━━━━━━━━━━━━━━━━━━\u001b[0m \u001b[32m56.3/56.3 MB\u001b[0m \u001b[31m12.1 MB/s\u001b[0m eta \u001b[36m0:00:00\u001b[0m\n",
            "\u001b[?25hDownloading nvidia_cusolver_cu12-11.6.1.9-py3-none-manylinux2014_x86_64.whl (127.9 MB)\n",
            "\u001b[2K   \u001b[90m━━━━━━━━━━━━━━━━━━━━━━━━━━━━━━━━━━━━━━━━\u001b[0m \u001b[32m127.9/127.9 MB\u001b[0m \u001b[31m7.0 MB/s\u001b[0m eta \u001b[36m0:00:00\u001b[0m\n",
            "\u001b[?25hDownloading nvidia_cusparse_cu12-12.3.1.170-py3-none-manylinux2014_x86_64.whl (207.5 MB)\n",
            "\u001b[2K   \u001b[90m━━━━━━━━━━━━━━━━━━━━━━━━━━━━━━━━━━━━━━━━\u001b[0m \u001b[32m207.5/207.5 MB\u001b[0m \u001b[31m6.0 MB/s\u001b[0m eta \u001b[36m0:00:00\u001b[0m\n",
            "\u001b[?25hDownloading nvidia_nvjitlink_cu12-12.4.127-py3-none-manylinux2014_x86_64.whl (21.1 MB)\n",
            "\u001b[2K   \u001b[90m━━━━━━━━━━━━━━━━━━━━━━━━━━━━━━━━━━━━━━━━\u001b[0m \u001b[32m21.1/21.1 MB\u001b[0m \u001b[31m76.2 MB/s\u001b[0m eta \u001b[36m0:00:00\u001b[0m\n",
            "\u001b[?25hInstalling collected packages: nvidia-nvjitlink-cu12, nvidia-curand-cu12, nvidia-cufft-cu12, nvidia-cuda-runtime-cu12, nvidia-cuda-nvrtc-cu12, nvidia-cuda-cupti-cu12, nvidia-cublas-cu12, nvidia-cusparse-cu12, nvidia-cudnn-cu12, nvidia-cusolver-cu12\n",
            "  Attempting uninstall: nvidia-nvjitlink-cu12\n",
            "    Found existing installation: nvidia-nvjitlink-cu12 12.5.82\n",
            "    Uninstalling nvidia-nvjitlink-cu12-12.5.82:\n",
            "      Successfully uninstalled nvidia-nvjitlink-cu12-12.5.82\n",
            "  Attempting uninstall: nvidia-curand-cu12\n",
            "    Found existing installation: nvidia-curand-cu12 10.3.6.82\n",
            "    Uninstalling nvidia-curand-cu12-10.3.6.82:\n",
            "      Successfully uninstalled nvidia-curand-cu12-10.3.6.82\n",
            "  Attempting uninstall: nvidia-cufft-cu12\n",
            "    Found existing installation: nvidia-cufft-cu12 11.2.3.61\n",
            "    Uninstalling nvidia-cufft-cu12-11.2.3.61:\n",
            "      Successfully uninstalled nvidia-cufft-cu12-11.2.3.61\n",
            "  Attempting uninstall: nvidia-cuda-runtime-cu12\n",
            "    Found existing installation: nvidia-cuda-runtime-cu12 12.5.82\n",
            "    Uninstalling nvidia-cuda-runtime-cu12-12.5.82:\n",
            "      Successfully uninstalled nvidia-cuda-runtime-cu12-12.5.82\n",
            "  Attempting uninstall: nvidia-cuda-nvrtc-cu12\n",
            "    Found existing installation: nvidia-cuda-nvrtc-cu12 12.5.82\n",
            "    Uninstalling nvidia-cuda-nvrtc-cu12-12.5.82:\n",
            "      Successfully uninstalled nvidia-cuda-nvrtc-cu12-12.5.82\n",
            "  Attempting uninstall: nvidia-cuda-cupti-cu12\n",
            "    Found existing installation: nvidia-cuda-cupti-cu12 12.5.82\n",
            "    Uninstalling nvidia-cuda-cupti-cu12-12.5.82:\n",
            "      Successfully uninstalled nvidia-cuda-cupti-cu12-12.5.82\n",
            "  Attempting uninstall: nvidia-cublas-cu12\n",
            "    Found existing installation: nvidia-cublas-cu12 12.5.3.2\n",
            "    Uninstalling nvidia-cublas-cu12-12.5.3.2:\n",
            "      Successfully uninstalled nvidia-cublas-cu12-12.5.3.2\n",
            "  Attempting uninstall: nvidia-cusparse-cu12\n",
            "    Found existing installation: nvidia-cusparse-cu12 12.5.1.3\n",
            "    Uninstalling nvidia-cusparse-cu12-12.5.1.3:\n",
            "      Successfully uninstalled nvidia-cusparse-cu12-12.5.1.3\n",
            "  Attempting uninstall: nvidia-cudnn-cu12\n",
            "    Found existing installation: nvidia-cudnn-cu12 9.3.0.75\n",
            "    Uninstalling nvidia-cudnn-cu12-9.3.0.75:\n",
            "      Successfully uninstalled nvidia-cudnn-cu12-9.3.0.75\n",
            "  Attempting uninstall: nvidia-cusolver-cu12\n",
            "    Found existing installation: nvidia-cusolver-cu12 11.6.3.83\n",
            "    Uninstalling nvidia-cusolver-cu12-11.6.3.83:\n",
            "      Successfully uninstalled nvidia-cusolver-cu12-11.6.3.83\n",
            "Successfully installed nvidia-cublas-cu12-12.4.5.8 nvidia-cuda-cupti-cu12-12.4.127 nvidia-cuda-nvrtc-cu12-12.4.127 nvidia-cuda-runtime-cu12-12.4.127 nvidia-cudnn-cu12-9.1.0.70 nvidia-cufft-cu12-11.2.1.3 nvidia-curand-cu12-10.3.5.147 nvidia-cusolver-cu12-11.6.1.9 nvidia-cusparse-cu12-12.3.1.170 nvidia-nvjitlink-cu12-12.4.127\n"
          ]
        }
      ]
    },
    {
      "cell_type": "code",
      "source": [
        "!pip install langchain_huggingface --upgrade"
      ],
      "metadata": {
        "collapsed": true,
        "colab": {
          "base_uri": "https://localhost:8080/"
        },
        "id": "Ltj00QDwM9EG",
        "outputId": "f435d42c-1645-40de-e3aa-3bb0f3c4899b"
      },
      "execution_count": 40,
      "outputs": [
        {
          "output_type": "stream",
          "name": "stdout",
          "text": [
            "Collecting langchain_huggingface\n",
            "  Downloading langchain_huggingface-0.1.2-py3-none-any.whl.metadata (1.3 kB)\n",
            "Requirement already satisfied: huggingface-hub>=0.23.0 in /usr/local/lib/python3.11/dist-packages (from langchain_huggingface) (0.29.3)\n",
            "Requirement already satisfied: langchain-core<0.4.0,>=0.3.15 in /usr/local/lib/python3.11/dist-packages (from langchain_huggingface) (0.3.48)\n",
            "Requirement already satisfied: sentence-transformers>=2.6.0 in /usr/local/lib/python3.11/dist-packages (from langchain_huggingface) (3.4.1)\n",
            "Requirement already satisfied: tokenizers>=0.19.1 in /usr/local/lib/python3.11/dist-packages (from langchain_huggingface) (0.21.1)\n",
            "Requirement already satisfied: transformers>=4.39.0 in /usr/local/lib/python3.11/dist-packages (from langchain_huggingface) (4.49.0)\n",
            "Requirement already satisfied: filelock in /usr/local/lib/python3.11/dist-packages (from huggingface-hub>=0.23.0->langchain_huggingface) (3.18.0)\n",
            "Requirement already satisfied: fsspec>=2023.5.0 in /usr/local/lib/python3.11/dist-packages (from huggingface-hub>=0.23.0->langchain_huggingface) (2025.3.0)\n",
            "Requirement already satisfied: packaging>=20.9 in /usr/local/lib/python3.11/dist-packages (from huggingface-hub>=0.23.0->langchain_huggingface) (24.2)\n",
            "Requirement already satisfied: pyyaml>=5.1 in /usr/local/lib/python3.11/dist-packages (from huggingface-hub>=0.23.0->langchain_huggingface) (6.0.2)\n",
            "Requirement already satisfied: requests in /usr/local/lib/python3.11/dist-packages (from huggingface-hub>=0.23.0->langchain_huggingface) (2.32.3)\n",
            "Requirement already satisfied: tqdm>=4.42.1 in /usr/local/lib/python3.11/dist-packages (from huggingface-hub>=0.23.0->langchain_huggingface) (4.67.1)\n",
            "Requirement already satisfied: typing-extensions>=3.7.4.3 in /usr/local/lib/python3.11/dist-packages (from huggingface-hub>=0.23.0->langchain_huggingface) (4.12.2)\n",
            "Requirement already satisfied: langsmith<0.4,>=0.1.125 in /usr/local/lib/python3.11/dist-packages (from langchain-core<0.4.0,>=0.3.15->langchain_huggingface) (0.3.18)\n",
            "Requirement already satisfied: tenacity!=8.4.0,<10.0.0,>=8.1.0 in /usr/local/lib/python3.11/dist-packages (from langchain-core<0.4.0,>=0.3.15->langchain_huggingface) (9.0.0)\n",
            "Requirement already satisfied: jsonpatch<2.0,>=1.33 in /usr/local/lib/python3.11/dist-packages (from langchain-core<0.4.0,>=0.3.15->langchain_huggingface) (1.33)\n",
            "Requirement already satisfied: pydantic<3.0.0,>=2.5.2 in /usr/local/lib/python3.11/dist-packages (from langchain-core<0.4.0,>=0.3.15->langchain_huggingface) (2.10.6)\n",
            "Requirement already satisfied: torch>=1.11.0 in /usr/local/lib/python3.11/dist-packages (from sentence-transformers>=2.6.0->langchain_huggingface) (2.6.0+cu124)\n",
            "Requirement already satisfied: scikit-learn in /usr/local/lib/python3.11/dist-packages (from sentence-transformers>=2.6.0->langchain_huggingface) (1.6.1)\n",
            "Requirement already satisfied: scipy in /usr/local/lib/python3.11/dist-packages (from sentence-transformers>=2.6.0->langchain_huggingface) (1.14.1)\n",
            "Requirement already satisfied: Pillow in /usr/local/lib/python3.11/dist-packages (from sentence-transformers>=2.6.0->langchain_huggingface) (11.1.0)\n",
            "Requirement already satisfied: numpy>=1.17 in /usr/local/lib/python3.11/dist-packages (from transformers>=4.39.0->langchain_huggingface) (2.0.2)\n",
            "Requirement already satisfied: regex!=2019.12.17 in /usr/local/lib/python3.11/dist-packages (from transformers>=4.39.0->langchain_huggingface) (2024.11.6)\n",
            "Requirement already satisfied: safetensors>=0.4.1 in /usr/local/lib/python3.11/dist-packages (from transformers>=4.39.0->langchain_huggingface) (0.5.3)\n",
            "Requirement already satisfied: jsonpointer>=1.9 in /usr/local/lib/python3.11/dist-packages (from jsonpatch<2.0,>=1.33->langchain-core<0.4.0,>=0.3.15->langchain_huggingface) (3.0.0)\n",
            "Requirement already satisfied: httpx<1,>=0.23.0 in /usr/local/lib/python3.11/dist-packages (from langsmith<0.4,>=0.1.125->langchain-core<0.4.0,>=0.3.15->langchain_huggingface) (0.28.1)\n",
            "Requirement already satisfied: orjson<4.0.0,>=3.9.14 in /usr/local/lib/python3.11/dist-packages (from langsmith<0.4,>=0.1.125->langchain-core<0.4.0,>=0.3.15->langchain_huggingface) (3.10.15)\n",
            "Requirement already satisfied: requests-toolbelt<2.0.0,>=1.0.0 in /usr/local/lib/python3.11/dist-packages (from langsmith<0.4,>=0.1.125->langchain-core<0.4.0,>=0.3.15->langchain_huggingface) (1.0.0)\n",
            "Requirement already satisfied: zstandard<0.24.0,>=0.23.0 in /usr/local/lib/python3.11/dist-packages (from langsmith<0.4,>=0.1.125->langchain-core<0.4.0,>=0.3.15->langchain_huggingface) (0.23.0)\n",
            "Requirement already satisfied: annotated-types>=0.6.0 in /usr/local/lib/python3.11/dist-packages (from pydantic<3.0.0,>=2.5.2->langchain-core<0.4.0,>=0.3.15->langchain_huggingface) (0.7.0)\n",
            "Requirement already satisfied: pydantic-core==2.27.2 in /usr/local/lib/python3.11/dist-packages (from pydantic<3.0.0,>=2.5.2->langchain-core<0.4.0,>=0.3.15->langchain_huggingface) (2.27.2)\n",
            "Requirement already satisfied: charset-normalizer<4,>=2 in /usr/local/lib/python3.11/dist-packages (from requests->huggingface-hub>=0.23.0->langchain_huggingface) (3.4.1)\n",
            "Requirement already satisfied: idna<4,>=2.5 in /usr/local/lib/python3.11/dist-packages (from requests->huggingface-hub>=0.23.0->langchain_huggingface) (3.10)\n",
            "Requirement already satisfied: urllib3<3,>=1.21.1 in /usr/local/lib/python3.11/dist-packages (from requests->huggingface-hub>=0.23.0->langchain_huggingface) (2.3.0)\n",
            "Requirement already satisfied: certifi>=2017.4.17 in /usr/local/lib/python3.11/dist-packages (from requests->huggingface-hub>=0.23.0->langchain_huggingface) (2025.1.31)\n",
            "Requirement already satisfied: networkx in /usr/local/lib/python3.11/dist-packages (from torch>=1.11.0->sentence-transformers>=2.6.0->langchain_huggingface) (3.4.2)\n",
            "Requirement already satisfied: jinja2 in /usr/local/lib/python3.11/dist-packages (from torch>=1.11.0->sentence-transformers>=2.6.0->langchain_huggingface) (3.1.6)\n",
            "Requirement already satisfied: nvidia-cuda-nvrtc-cu12==12.4.127 in /usr/local/lib/python3.11/dist-packages (from torch>=1.11.0->sentence-transformers>=2.6.0->langchain_huggingface) (12.4.127)\n",
            "Requirement already satisfied: nvidia-cuda-runtime-cu12==12.4.127 in /usr/local/lib/python3.11/dist-packages (from torch>=1.11.0->sentence-transformers>=2.6.0->langchain_huggingface) (12.4.127)\n",
            "Requirement already satisfied: nvidia-cuda-cupti-cu12==12.4.127 in /usr/local/lib/python3.11/dist-packages (from torch>=1.11.0->sentence-transformers>=2.6.0->langchain_huggingface) (12.4.127)\n",
            "Requirement already satisfied: nvidia-cudnn-cu12==9.1.0.70 in /usr/local/lib/python3.11/dist-packages (from torch>=1.11.0->sentence-transformers>=2.6.0->langchain_huggingface) (9.1.0.70)\n",
            "Requirement already satisfied: nvidia-cublas-cu12==12.4.5.8 in /usr/local/lib/python3.11/dist-packages (from torch>=1.11.0->sentence-transformers>=2.6.0->langchain_huggingface) (12.4.5.8)\n",
            "Requirement already satisfied: nvidia-cufft-cu12==11.2.1.3 in /usr/local/lib/python3.11/dist-packages (from torch>=1.11.0->sentence-transformers>=2.6.0->langchain_huggingface) (11.2.1.3)\n",
            "Requirement already satisfied: nvidia-curand-cu12==10.3.5.147 in /usr/local/lib/python3.11/dist-packages (from torch>=1.11.0->sentence-transformers>=2.6.0->langchain_huggingface) (10.3.5.147)\n",
            "Requirement already satisfied: nvidia-cusolver-cu12==11.6.1.9 in /usr/local/lib/python3.11/dist-packages (from torch>=1.11.0->sentence-transformers>=2.6.0->langchain_huggingface) (11.6.1.9)\n",
            "Requirement already satisfied: nvidia-cusparse-cu12==12.3.1.170 in /usr/local/lib/python3.11/dist-packages (from torch>=1.11.0->sentence-transformers>=2.6.0->langchain_huggingface) (12.3.1.170)\n",
            "Requirement already satisfied: nvidia-cusparselt-cu12==0.6.2 in /usr/local/lib/python3.11/dist-packages (from torch>=1.11.0->sentence-transformers>=2.6.0->langchain_huggingface) (0.6.2)\n",
            "Requirement already satisfied: nvidia-nccl-cu12==2.21.5 in /usr/local/lib/python3.11/dist-packages (from torch>=1.11.0->sentence-transformers>=2.6.0->langchain_huggingface) (2.21.5)\n",
            "Requirement already satisfied: nvidia-nvtx-cu12==12.4.127 in /usr/local/lib/python3.11/dist-packages (from torch>=1.11.0->sentence-transformers>=2.6.0->langchain_huggingface) (12.4.127)\n",
            "Requirement already satisfied: nvidia-nvjitlink-cu12==12.4.127 in /usr/local/lib/python3.11/dist-packages (from torch>=1.11.0->sentence-transformers>=2.6.0->langchain_huggingface) (12.4.127)\n",
            "Requirement already satisfied: triton==3.2.0 in /usr/local/lib/python3.11/dist-packages (from torch>=1.11.0->sentence-transformers>=2.6.0->langchain_huggingface) (3.2.0)\n",
            "Requirement already satisfied: sympy==1.13.1 in /usr/local/lib/python3.11/dist-packages (from torch>=1.11.0->sentence-transformers>=2.6.0->langchain_huggingface) (1.13.1)\n",
            "Requirement already satisfied: mpmath<1.4,>=1.1.0 in /usr/local/lib/python3.11/dist-packages (from sympy==1.13.1->torch>=1.11.0->sentence-transformers>=2.6.0->langchain_huggingface) (1.3.0)\n",
            "Requirement already satisfied: joblib>=1.2.0 in /usr/local/lib/python3.11/dist-packages (from scikit-learn->sentence-transformers>=2.6.0->langchain_huggingface) (1.4.2)\n",
            "Requirement already satisfied: threadpoolctl>=3.1.0 in /usr/local/lib/python3.11/dist-packages (from scikit-learn->sentence-transformers>=2.6.0->langchain_huggingface) (3.6.0)\n",
            "Requirement already satisfied: anyio in /usr/local/lib/python3.11/dist-packages (from httpx<1,>=0.23.0->langsmith<0.4,>=0.1.125->langchain-core<0.4.0,>=0.3.15->langchain_huggingface) (4.9.0)\n",
            "Requirement already satisfied: httpcore==1.* in /usr/local/lib/python3.11/dist-packages (from httpx<1,>=0.23.0->langsmith<0.4,>=0.1.125->langchain-core<0.4.0,>=0.3.15->langchain_huggingface) (1.0.7)\n",
            "Requirement already satisfied: h11<0.15,>=0.13 in /usr/local/lib/python3.11/dist-packages (from httpcore==1.*->httpx<1,>=0.23.0->langsmith<0.4,>=0.1.125->langchain-core<0.4.0,>=0.3.15->langchain_huggingface) (0.14.0)\n",
            "Requirement already satisfied: MarkupSafe>=2.0 in /usr/local/lib/python3.11/dist-packages (from jinja2->torch>=1.11.0->sentence-transformers>=2.6.0->langchain_huggingface) (3.0.2)\n",
            "Requirement already satisfied: sniffio>=1.1 in /usr/local/lib/python3.11/dist-packages (from anyio->httpx<1,>=0.23.0->langsmith<0.4,>=0.1.125->langchain-core<0.4.0,>=0.3.15->langchain_huggingface) (1.3.1)\n",
            "Downloading langchain_huggingface-0.1.2-py3-none-any.whl (21 kB)\n",
            "Installing collected packages: langchain_huggingface\n",
            "Successfully installed langchain_huggingface-0.1.2\n"
          ]
        }
      ]
    },
    {
      "cell_type": "code",
      "source": [
        "# 단계 3: 임베딩(Embedding) 생성\n",
        "# Hugging Face 모델을 사용한 임베딩\n",
        "model_name = 'jhgan/ko-sroberta-multitask'\n",
        "embeddings = HuggingFaceEmbeddings(model_name=model_name)"
      ],
      "metadata": {
        "collapsed": true,
        "id": "CIbFZV_UH1Et"
      },
      "execution_count": 38,
      "outputs": []
    },
    {
      "cell_type": "code",
      "source": [
        "# 단계 4: DB 생성(Create DB) 및 저장\n",
        "# 벡터스토어를 생성합니다.\n",
        "vectorstore = FAISS.from_documents(documents=split_documents, embedding=embeddings)"
      ],
      "metadata": {
        "colab": {
          "base_uri": "https://localhost:8080/",
          "height": 338
        },
        "id": "GIpSRSmbNGjk",
        "outputId": "2e8ab109-14b6-49b6-c06b-8ace83ceba26"
      },
      "execution_count": 41,
      "outputs": [
        {
          "output_type": "error",
          "ename": "AttributeError",
          "evalue": "'str' object has no attribute 'page_content'",
          "traceback": [
            "\u001b[0;31m---------------------------------------------------------------------------\u001b[0m",
            "\u001b[0;31mAttributeError\u001b[0m                            Traceback (most recent call last)",
            "\u001b[0;32m<ipython-input-41-4bbafa9be252>\u001b[0m in \u001b[0;36m<cell line: 0>\u001b[0;34m()\u001b[0m\n\u001b[1;32m      1\u001b[0m \u001b[0;31m# 단계 4: DB 생성(Create DB) 및 저장\u001b[0m\u001b[0;34m\u001b[0m\u001b[0;34m\u001b[0m\u001b[0m\n\u001b[1;32m      2\u001b[0m \u001b[0;31m# 벡터스토어를 생성합니다.\u001b[0m\u001b[0;34m\u001b[0m\u001b[0;34m\u001b[0m\u001b[0m\n\u001b[0;32m----> 3\u001b[0;31m \u001b[0mvectorstore\u001b[0m \u001b[0;34m=\u001b[0m \u001b[0mFAISS\u001b[0m\u001b[0;34m.\u001b[0m\u001b[0mfrom_documents\u001b[0m\u001b[0;34m(\u001b[0m\u001b[0mdocuments\u001b[0m\u001b[0;34m=\u001b[0m\u001b[0msplit_documents\u001b[0m\u001b[0;34m,\u001b[0m \u001b[0membedding\u001b[0m\u001b[0;34m=\u001b[0m\u001b[0membeddings\u001b[0m\u001b[0;34m)\u001b[0m\u001b[0;34m\u001b[0m\u001b[0;34m\u001b[0m\u001b[0m\n\u001b[0m",
            "\u001b[0;32m/usr/local/lib/python3.11/dist-packages/langchain_core/vectorstores/base.py\u001b[0m in \u001b[0;36mfrom_documents\u001b[0;34m(cls, documents, embedding, **kwargs)\u001b[0m\n\u001b[1;32m    831\u001b[0m             \u001b[0mVectorStore\u001b[0m\u001b[0;34m:\u001b[0m \u001b[0mVectorStore\u001b[0m \u001b[0minitialized\u001b[0m \u001b[0;32mfrom\u001b[0m \u001b[0mdocuments\u001b[0m \u001b[0;32mand\u001b[0m \u001b[0membeddings\u001b[0m\u001b[0;34m.\u001b[0m\u001b[0;34m\u001b[0m\u001b[0;34m\u001b[0m\u001b[0m\n\u001b[1;32m    832\u001b[0m         \"\"\"\n\u001b[0;32m--> 833\u001b[0;31m         \u001b[0mtexts\u001b[0m \u001b[0;34m=\u001b[0m \u001b[0;34m[\u001b[0m\u001b[0md\u001b[0m\u001b[0;34m.\u001b[0m\u001b[0mpage_content\u001b[0m \u001b[0;32mfor\u001b[0m \u001b[0md\u001b[0m \u001b[0;32min\u001b[0m \u001b[0mdocuments\u001b[0m\u001b[0;34m]\u001b[0m\u001b[0;34m\u001b[0m\u001b[0;34m\u001b[0m\u001b[0m\n\u001b[0m\u001b[1;32m    834\u001b[0m         \u001b[0mmetadatas\u001b[0m \u001b[0;34m=\u001b[0m \u001b[0;34m[\u001b[0m\u001b[0md\u001b[0m\u001b[0;34m.\u001b[0m\u001b[0mmetadata\u001b[0m \u001b[0;32mfor\u001b[0m \u001b[0md\u001b[0m \u001b[0;32min\u001b[0m \u001b[0mdocuments\u001b[0m\u001b[0;34m]\u001b[0m\u001b[0;34m\u001b[0m\u001b[0;34m\u001b[0m\u001b[0m\n\u001b[1;32m    835\u001b[0m \u001b[0;34m\u001b[0m\u001b[0m\n",
            "\u001b[0;32m/usr/local/lib/python3.11/dist-packages/langchain_core/vectorstores/base.py\u001b[0m in \u001b[0;36m<listcomp>\u001b[0;34m(.0)\u001b[0m\n\u001b[1;32m    831\u001b[0m             \u001b[0mVectorStore\u001b[0m\u001b[0;34m:\u001b[0m \u001b[0mVectorStore\u001b[0m \u001b[0minitialized\u001b[0m \u001b[0;32mfrom\u001b[0m \u001b[0mdocuments\u001b[0m \u001b[0;32mand\u001b[0m \u001b[0membeddings\u001b[0m\u001b[0;34m.\u001b[0m\u001b[0;34m\u001b[0m\u001b[0;34m\u001b[0m\u001b[0m\n\u001b[1;32m    832\u001b[0m         \"\"\"\n\u001b[0;32m--> 833\u001b[0;31m         \u001b[0mtexts\u001b[0m \u001b[0;34m=\u001b[0m \u001b[0;34m[\u001b[0m\u001b[0md\u001b[0m\u001b[0;34m.\u001b[0m\u001b[0mpage_content\u001b[0m \u001b[0;32mfor\u001b[0m \u001b[0md\u001b[0m \u001b[0;32min\u001b[0m \u001b[0mdocuments\u001b[0m\u001b[0;34m]\u001b[0m\u001b[0;34m\u001b[0m\u001b[0;34m\u001b[0m\u001b[0m\n\u001b[0m\u001b[1;32m    834\u001b[0m         \u001b[0mmetadatas\u001b[0m \u001b[0;34m=\u001b[0m \u001b[0;34m[\u001b[0m\u001b[0md\u001b[0m\u001b[0;34m.\u001b[0m\u001b[0mmetadata\u001b[0m \u001b[0;32mfor\u001b[0m \u001b[0md\u001b[0m \u001b[0;32min\u001b[0m \u001b[0mdocuments\u001b[0m\u001b[0;34m]\u001b[0m\u001b[0;34m\u001b[0m\u001b[0;34m\u001b[0m\u001b[0m\n\u001b[1;32m    835\u001b[0m \u001b[0;34m\u001b[0m\u001b[0m\n",
            "\u001b[0;31mAttributeError\u001b[0m: 'str' object has no attribute 'page_content'"
          ]
        }
      ]
    },
    {
      "source": [
        "from langchain_text_splitters import RecursiveCharacterTextSplitter\n",
        "from langchain_community.document_loaders import PyMuPDFLoader\n",
        "from langchain_community.vectorstores import FAISS\n",
        "from langchain_core.output_parsers import StrOutputParser\n",
        "from langchain_core.runnables import RunnablePassthrough\n",
        "from langchain_core.prompts import PromptTemplate\n",
        "from langchain_openai import ChatOpenAI, OpenAIEmbeddings\n",
        "from langchain.docstore.document import Document # import Document class\n",
        "\n",
        "text_splitter = RecursiveCharacterTextSplitter(chunk_size=1000, chunk_overlap=50)\n",
        "# split_documents = text_splitter.split_text(text) # OLD: This creates a list of strings\n",
        "split_documents = [Document(page_content=t) for t in text_splitter.split_text(text)] # NEW: This creates a list of Documents\n",
        "# ... (rest of your code) ...\n",
        "\n",
        "# 단계 4: DB 생성(Create DB) 및 저장\n",
        "# 벡터스토어를 생성합니다.\n",
        "vectorstore = FAISS.from_documents(documents=split_documents, embedding=embeddings)"
      ],
      "cell_type": "code",
      "metadata": {
        "id": "ZyJ5-5LCNShU"
      },
      "execution_count": 42,
      "outputs": []
    },
    {
      "cell_type": "code",
      "source": [
        "retriever = vectorstore.as_retriever()"
      ],
      "metadata": {
        "id": "6cNMfjyAN6YW"
      },
      "execution_count": 43,
      "outputs": []
    }
  ]
}